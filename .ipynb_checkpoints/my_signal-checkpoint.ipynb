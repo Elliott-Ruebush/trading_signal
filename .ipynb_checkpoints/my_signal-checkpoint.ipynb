{
 "cells": [
  {
   "cell_type": "code",
   "execution_count": 1,
   "metadata": {},
   "outputs": [
    {
     "name": "stdout",
     "output_type": "stream",
     "text": [
      "Requirement already satisfied: psycopg2 in c:\\users\\erueb\\anaconda3\\lib\\site-packages (2.8.4)\n"
     ]
    }
   ],
   "source": [
    "!pip install psycopg2"
   ]
  },
  {
   "cell_type": "code",
   "execution_count": 4,
   "metadata": {},
   "outputs": [],
   "source": [
    "import sys\n",
    "sys.path.append('..\\\\sif_research\\\\data_utils')\n",
    "\n",
    "import sif_utils as su\n",
    "import pandas as pd\n",
    "import numpy as np\n",
    "import datetime\n",
    "import matplotlib.pyplot as plt\n",
    "import importlib\n",
    "import seaborn # optional\n",
    "seaborn.set() # optional\n",
    "plt.rcParams['figure.figsize'] = [10, 6] # increase figure size\n",
    "\n",
    "\n",
    "# Adds the research_framework folder to system path so python knows to look their for imports\n",
    "sys.path.append('..\\\\sif_research\\\\research_framework') # CHANGE FOR MAC OS\n",
    "\n",
    "import metrics"
   ]
  },
  {
   "cell_type": "markdown",
   "metadata": {},
   "source": [
    "## Use code from backtest example to load data ##"
   ]
  },
  {
   "cell_type": "code",
   "execution_count": 9,
   "metadata": {},
   "outputs": [],
   "source": [
    "# Global Variables / Research Environment Settings\n",
    "start_date = datetime.datetime(day=3, month=1, year=2012)\n",
    "end_date = datetime.datetime(day=1, month=1, year=2017)\n",
    "days = (end_date - start_date).days\n",
    "\n",
    "# Number of stocks to have in the universe\n",
    "top_N = 100"
   ]
  },
  {
   "cell_type": "code",
   "execution_count": 10,
   "metadata": {},
   "outputs": [],
   "source": [
    "# Grab all tickers in the universe\n",
    "tickers = sorted(su.get_universe_tickers(top_N, start_date, end_date))"
   ]
  },
  {
   "cell_type": "code",
   "execution_count": 11,
   "metadata": {},
   "outputs": [],
   "source": [
    "# Pull data needed for research and store into variables, or however\n",
    "# you want to handle your data.\n",
    "\n",
    "# This is the order of the parameters, once you are comfortable feel free\n",
    "# to not use paramater=foo and just do foo, bar, ...\n",
    "\n",
    "price_attrs = ['open', 'close', 'low', 'high']\n",
    "data = su.get_equity_data(tickers=tickers, start_date=start_date, end_date=end_date,\n",
    "                          attributes=price_attrs)"
   ]
  },
  {
   "cell_type": "code",
   "execution_count": 12,
   "metadata": {},
   "outputs": [],
   "source": [
    "# Convert from dictionary of dataframes to numpy arrays\n",
    "\n",
    "OPEN = data['open'].astype(float).values\n",
    "CLOSE = data['close'].astype(float).values\n",
    "LOW = data['low'].astype(float).values\n",
    "HIGH = data['high'].astype(float).values"
   ]
  },
  {
   "cell_type": "code",
   "execution_count": 13,
   "metadata": {},
   "outputs": [],
   "source": [
    "universe_filter = su.create_universe_filter(top_N, start_date, end_date, tickers, data['close'].index.values)"
   ]
  },
  {
   "cell_type": "code",
   "execution_count": 14,
   "metadata": {},
   "outputs": [],
   "source": [
    "# Fills all the tickers not in the universe at that point with 0\n",
    "FILLED_CLOSE = metrics.fill_nonuniverse(universe_filter.values, CLOSE, fill_val=0)"
   ]
  },
  {
   "cell_type": "markdown",
   "metadata": {},
   "source": [
    "## My strategy going here ##"
   ]
  },
  {
   "cell_type": "code",
   "execution_count": 15,
   "metadata": {},
   "outputs": [],
   "source": [
    "def strategy(day):\n",
    "    \"\"\"\n",
    "    Attempting to implement basic mean reversion strategy\n",
    "    :return: numpy array of shape: 1 x len(Universe) with equity holdings\n",
    "    \"\"\"\n",
    "   "
   ]
  },
  {
   "cell_type": "code",
   "execution_count": 16,
   "metadata": {},
   "outputs": [
    {
     "ename": "NameError",
     "evalue": "name 'lookback' is not defined",
     "output_type": "error",
     "traceback": [
      "\u001b[1;31m---------------------------------------------------------------------------\u001b[0m",
      "\u001b[1;31mNameError\u001b[0m                                 Traceback (most recent call last)",
      "\u001b[1;32m<ipython-input-16-decb73e049c9>\u001b[0m in \u001b[0;36m<module>\u001b[1;34m\u001b[0m\n\u001b[0;32m      1\u001b[0m \u001b[1;31m# compute holdings\u001b[0m\u001b[1;33m\u001b[0m\u001b[1;33m\u001b[0m\u001b[1;33m\u001b[0m\u001b[0m\n\u001b[0;32m      2\u001b[0m \u001b[0muniverse_size\u001b[0m \u001b[1;33m=\u001b[0m \u001b[0mlen\u001b[0m\u001b[1;33m(\u001b[0m\u001b[0mtickers\u001b[0m\u001b[1;33m)\u001b[0m\u001b[1;33m\u001b[0m\u001b[1;33m\u001b[0m\u001b[0m\n\u001b[1;32m----> 3\u001b[1;33m \u001b[0mholdings\u001b[0m \u001b[1;33m=\u001b[0m \u001b[0mmetrics\u001b[0m\u001b[1;33m.\u001b[0m\u001b[0mbacktest\u001b[0m\u001b[1;33m(\u001b[0m\u001b[0mstrategy\u001b[0m\u001b[1;33m,\u001b[0m \u001b[0mCLOSE\u001b[0m\u001b[1;33m.\u001b[0m\u001b[0mshape\u001b[0m\u001b[1;33m[\u001b[0m\u001b[1;36m0\u001b[0m\u001b[1;33m]\u001b[0m\u001b[1;33m,\u001b[0m \u001b[0muniverse_size\u001b[0m\u001b[1;33m,\u001b[0m \u001b[0mlookback\u001b[0m\u001b[1;33m)\u001b[0m\u001b[1;33m\u001b[0m\u001b[1;33m\u001b[0m\u001b[0m\n\u001b[0m\u001b[0;32m      4\u001b[0m \u001b[0mprint\u001b[0m\u001b[1;33m(\u001b[0m\u001b[1;34mf'Holdings Shape: {holdings.shape}'\u001b[0m\u001b[1;33m)\u001b[0m\u001b[1;33m\u001b[0m\u001b[1;33m\u001b[0m\u001b[0m\n",
      "\u001b[1;31mNameError\u001b[0m: name 'lookback' is not defined"
     ]
    }
   ],
   "source": [
    "# compute holdings\n",
    "universe_size = len(tickers)\n",
    "holdings = metrics.backtest(strategy, CLOSE.shape[0], universe_size, lookback)\n",
    "print(f'Holdings Shape: {holdings.shape}')"
   ]
  },
  {
   "cell_type": "code",
   "execution_count": null,
   "metadata": {},
   "outputs": [],
   "source": []
  },
  {
   "cell_type": "code",
   "execution_count": null,
   "metadata": {},
   "outputs": [],
   "source": []
  },
  {
   "cell_type": "code",
   "execution_count": null,
   "metadata": {},
   "outputs": [],
   "source": []
  },
  {
   "cell_type": "markdown",
   "metadata": {},
   "source": [
    "## Starting again with stuff from Hao's notebook ##"
   ]
  },
  {
   "cell_type": "code",
   "execution_count": 10,
   "metadata": {},
   "outputs": [],
   "source": [
    "import sys\n",
    "import pandas as pd\n",
    "import numpy as np\n",
    "import datetime\n",
    "sys.path.append('..\\\\sif_research\\\\research_framework')\n",
    "import metrics\n",
    "import os\n",
    "from operators import rank, ts_rank, group_rank, weight\n",
    "\n",
    "\n",
    "sys.path.append('..\\\\sif_research\\\\data_utils')\n",
    "\n",
    "import sif_utils as su"
   ]
  },
  {
   "cell_type": "code",
   "execution_count": 11,
   "metadata": {},
   "outputs": [],
   "source": [
    "# Global Variables / Research Environment Settings\n",
    "start_date = datetime.datetime(day=1, month=1, year=2012)\n",
    "end_date = datetime.datetime(day=1, month=1, year=2017)\n",
    "days = (end_date - start_date).days\n",
    "lookback = 20\n",
    "delay = 1\n",
    "top_N = 200\n",
    "initial_investment = 1000\n",
    "save_backtest_result = True\n",
    "backtest_result_folder = './backtest_result'\n",
    "# Get all tickers\n",
    "tickers = sorted(su.get_universe_tickers(top_N, start_date, end_date))"
   ]
  },
  {
   "cell_type": "code",
   "execution_count": 15,
   "metadata": {},
   "outputs": [],
   "source": [
    "# Grab all tickers in the universe and sort them\n",
    "tickers = sorted(su.get_universe_tickers(top_N, start_date, end_date))\n",
    "universe_size = len(tickers)\n",
    "\n",
    "price_attrs = ['open', 'close', 'low', 'high']\n",
    "data = su.get_equity_data(tickers=tickers, start_date=start_date,\n",
    "                          end_date=end_date, attributes=price_attrs)\n"
   ]
  },
  {
   "cell_type": "code",
   "execution_count": 16,
   "metadata": {},
   "outputs": [],
   "source": [
    "OPEN = data['open'].astype(float).values\n",
    "CLOSE = data['close'].astype(float).values\n",
    "LOW = data['low'].astype(float).values\n",
    "HIGH = data['high'].astype(float).values\n",
    "\n",
    "# Create universe filter table\n",
    "all_dates = data['close'].index.values\n",
    "universe_filter = su.create_universe_filter(top_N, start_date, end_date, tickers, all_dates)\n",
    "\n",
    "# Grab all tickers in the universe and sort them\n",
    "tickers = sorted(su.get_universe_tickers(top_N, start_date, end_date))\n",
    "universe_size = len(tickers)\n",
    "universe_filter_arr = universe_filter.values"
   ]
  },
  {
   "cell_type": "code",
   "execution_count": 12,
   "metadata": {},
   "outputs": [],
   "source": [
    "# Hao's example alpha\n",
    "def alpha(day):\n",
    "    # raw factor computed for all tickers (not necesarily the valid universe)\n",
    "    factor = -rank(CLOSE[day - delay] - CLOSE[day - delay - 4])\n",
    "    return weight(factor, universe_filter_arr[day])"
   ]
  },
  {
   "cell_type": "code",
   "execution_count": null,
   "metadata": {},
   "outputs": [],
   "source": [
    "# See Zura et al. 151 Trading Strategies Section 3.1\n",
    "def momentum_alpha(day):\n",
    "    momentum = rank((CLOSE[day - delay] / CLOSE[day - delay - 30]))\n",
    "    return weight(momentum, universe_filter_arr[day])"
   ]
  },
  {
   "cell_type": "code",
   "execution_count": null,
   "metadata": {},
   "outputs": [],
   "source": [
    "# See Zura et al. 151 Trading Strategies Section \n",
    "def "
   ]
  },
  {
   "cell_type": "code",
   "execution_count": 48,
   "metadata": {},
   "outputs": [
    {
     "data": {
      "text/plain": [
       "array([ 58.747,  19.82 ,     nan,   5.8  ,  56.72 ,  52.95 ,  28.57 ,\n",
       "        28.89 ,  54.46 ,  40.77 ,  42.4  ,  22.44 ,  60.63 ,  88.42 ,\n",
       "        24.07 ,  70.57 ,  10.7  ,  64.11 ,  23.088,  58.81 , 179.03 ,\n",
       "        67.61 ,  95.93 ,  78.65 ,  86.35 ,  42.22 ,  28.945,  48.39 ,\n",
       "        23.86 ,  74.22 ,     nan,   5.8  ,  50.54 ,  10.656,  25.86 ,\n",
       "        41.75 ,  11.58 ,  74.45 ,  33.007,  47.97 ,  51.02 ,  74.76 ,\n",
       "       124.29 , 113.5  ,  20.51 , 485.15 , 181.27 ,  56.27 ,  35.01 ,\n",
       "        51.06 ,  44.14 ,  29.455,  77.68 ,  15.595,  51.895,  28.33 ,\n",
       "        45.08 ,  93.98 ,  70.33 ,  70.13 ,  27.27 ,  32.96 ,  34.33 ,\n",
       "       184.63 ,  58.53 ,  23.6  ,  49.1  ,  57.19 ,  21.54 ,  43.23 ,\n",
       "        45.54 ,  34.93 ,  74.12 ,  12.248,  49.126,  91.05 ,  39.465,\n",
       "        39.39 ,  43.75 ,  74.17 ,  84.6  ,  45.76 ,  25.3  ,  24.57 ,\n",
       "        18.63 ,  22.04 ,  37.33 ,  32.86 ,  34.45 ,  41.52 , 110.37 ,\n",
       "         4.978,  52.5  ,   8.04 ,  39.83 ,  18.63 ,  89.37 ,  46.51 ,\n",
       "        79.31 ,  88.6  ,  48.45 ,  38.31 ,  43.32 ,  64.86 ,  66.11 ,\n",
       "        43.14 ,  31.34 ,  44.97 ,  58.02 ,  60.65 ,  56.215,  21.72 ,\n",
       "        47.72 ,  37.32 ,     nan,  50.725,  26.5  ,  23.335,  56.6  ,\n",
       "        10.39 ,  47.01 ,  45.49 ,  42.07 ,  11.13 ,     nan,  39.5  ,\n",
       "        85.17 ,  42.81 ,  35.175,  68.   ,  18.36 ,  45.52 ,  20.93 ,\n",
       "        40.3  ,  13.04 ,  21.05 ,  47.51 , 333.038,  95.36 ,  46.28 ,\n",
       "        34.15 ,  21.64 ,  42.14 ,  13.56 ,  58.4  ,  31.34 ,  53.49 ,\n",
       "        55.58 ,  26.62 ,  39.23 ,  24.73 , 186.3  ,  45.52 ,   6.681,\n",
       "         7.51 ,  24.54 ,  52.46 , 157.237,   8.638,  48.03 ,  32.22 ,\n",
       "           nan,  65.88 ,  34.98 ,  50.46 ,     nan,  73.22 ,  32.49 ,\n",
       "        84.46 ,  35.07 ,  95.98 ,  12.26 ,     nan,  21.676,  12.91 ,\n",
       "        41.8  ,  82.02 ,  37.757,  25.52 ,  44.49 ,  33.47 ,   1.65 ,\n",
       "        36.837,  98.84 ,  79.54 ,  37.27 ,  38.69 ,  32.04 ,  11.05 ,\n",
       "         2.76 ,   4.72 ,  58.03 ,  31.82 ,  83.49 ,  28.56 ,  71.94 ,\n",
       "        52.59 ,  16.705,  38.3  ,  30.96 ,  16.08 ,  26.765,  59.31 ,\n",
       "         6.755,   4.3  ,  48.88 ,  58.95 ,  62.08 ,  10.32 ,  53.585,\n",
       "        24.203,  16.07 ,  58.66 ,  70.87 ,  73.79 ,  25.73 ,  14.04 ,\n",
       "        23.392,  58.18 ,  16.08 ,  25.865,  96.63 ,  38.8  ,  40.82 ,\n",
       "       168.86 ,  41.88 ,  66.4  ,  21.97 ,  66.83 ,  84.76 ,  78.59 ,\n",
       "        59.03 ,  43.73 ,  28.82 ,  51.3  , 135.19 ,     nan, 131.38 ,\n",
       "        20.19 , 107.85 ,     nan,  55.27 ,  20.615,   6.61 ,  38.59 ,\n",
       "        74.22 ,  56.43 ,   8.167,  40.16 ,  52.33 ,  48.53 ,  52.07 ,\n",
       "         2.34 ,  54.43 ,  22.642,  31.64 ,  11.71 ,  30.4  , 103.35 ,\n",
       "        49.91 ,  70.09 ,   5.7  ,  18.38 ,  85.838,  37.23 ,  45.03 ,\n",
       "       129.38 ,  48.83 ,  41.82 ,  30.66 ,  51.07 ,  60.31 ,  29.45 ,\n",
       "        30.38 ,  37.81 ,  17.73 ,  43.1  ,  18.67 ,  51.12 ,  11.11 ,\n",
       "        15.928,  67.78 ,  46.9  ,  18.78 ,  52.47 ,  60.04 ,  29.815,\n",
       "        43.56 ,  58.99 ,  13.26 ,  64.88 ,  36.33 ,  29.755,  47.85 ,\n",
       "           nan,  51.49 ,  54.   ,  74.16 ,  27.58 ,  74.66 ,  25.747,\n",
       "        23.2  ,  32.417,  45.91 ,  28.35 ,  82.27 ,  51.782,  55.59 ,\n",
       "        39.73 ,  33.06 ,  21.056,  28.43 ,  26.82 ,  60.33 ,  60.73 ,\n",
       "        86.   ,  16.285,  58.57 ])"
      ]
     },
     "execution_count": 48,
     "metadata": {},
     "output_type": "execute_result"
    }
   ],
   "source": [
    "CLOSE[0]"
   ]
  },
  {
   "cell_type": "code",
   "execution_count": null,
   "metadata": {},
   "outputs": [],
   "source": [
    "# run backtest, print the performance table and draw the chart\n",
    "holdings = metrics.backtest(alpha, CLOSE.shape[0], universe_size, lookback)\n",
    "daily_returns = metrics.daily_return(holdings[:-1], OPEN[lookback:] )\n",
    "performance = metrics.generate_performance_table(daily_returns, holdings,\n",
    "                                                 dates=all_dates[lookback:-1],\n",
    "                                                tickers=tickers)\n",
    "print(performance)\n",
    "pnl_df = pd.DataFrame(daily_returns.cumsum() * initial_investment,index = data['close'].iloc[lookback:-1].index, columns = ['alpha'])\n",
    "chart = pnl_df.plot(grid=True,figsize=[12,8],linewidth=1,color='darkorange')\n"
   ]
  },
  {
   "cell_type": "code",
   "execution_count": null,
   "metadata": {},
   "outputs": [],
   "source": [
    "# save backtest result\n",
    "if save_backtest_result == True:\n",
    "    if not os.path.exists(backtest_result_folder):\n",
    "        os.makedirs(backtest_result_folder)\n",
    "    pnl_df.to_csv(backtest_result_folder+'/'+'pnl.csv')\n",
    "    pd.DataFrame(holdings[:-1],index = data['close'].iloc[lookback:-1].index, columns = tickers).to_csv(backtest_result_folder+'/'+'holdings.csv')\n",
    "    chart.get_figure().savefig(backtest_result_folder+'/'+'performance.png')\n",
    "        "
   ]
  }
 ],
 "metadata": {
  "kernelspec": {
   "display_name": "Python 3",
   "language": "python",
   "name": "python3"
  },
  "language_info": {
   "codemirror_mode": {
    "name": "ipython",
    "version": 3
   },
   "file_extension": ".py",
   "mimetype": "text/x-python",
   "name": "python",
   "nbconvert_exporter": "python",
   "pygments_lexer": "ipython3",
   "version": "3.7.3"
  }
 },
 "nbformat": 4,
 "nbformat_minor": 4
}
