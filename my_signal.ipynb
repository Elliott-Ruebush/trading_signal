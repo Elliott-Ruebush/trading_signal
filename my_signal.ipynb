{
 "cells": [
  {
   "cell_type": "markdown",
   "metadata": {},
   "source": [
    "## Starting again with stuff from Hao's notebook ##"
   ]
  },
  {
   "cell_type": "code",
   "execution_count": 4,
   "metadata": {},
   "outputs": [
    {
     "name": "stdout",
     "output_type": "stream",
     "text": [
      "Collecting psycopg2\n",
      "  Downloading https://files.pythonhosted.org/packages/1a/85/853f11abfccfd581b099e5ae5f2dd807cc2919745b13d14e565022fd821c/psycopg2-2.8.4-cp37-cp37m-win_amd64.whl (1.1MB)\n",
      "Installing collected packages: psycopg2\n",
      "Successfully installed psycopg2-2.8.4\n"
     ]
    }
   ],
   "source": [
    "!pip install psycopg2"
   ]
  },
  {
   "cell_type": "code",
   "execution_count": 1,
   "metadata": {},
   "outputs": [],
   "source": [
    "import sys\n",
    "import pandas as pd\n",
    "import numpy as np\n",
    "import datetime\n",
    "sys.path.append('..\\\\sif_research\\\\research_framework')\n",
    "import metrics\n",
    "import os\n",
    "from operators import rank, ts_rank, group_rank, weight\n",
    "\n",
    "\n",
    "sys.path.append('..\\\\sif_research\\\\data_utils')\n",
    "\n",
    "import sif_utils as su"
   ]
  },
  {
   "cell_type": "code",
   "execution_count": 2,
   "metadata": {},
   "outputs": [],
   "source": [
    "# Global Variables / Research Environment Settings\n",
    "start_date = datetime.datetime(day=1, month=1, year=2012)\n",
    "end_date = datetime.datetime(day=1, month=1, year=2017)\n",
    "days = (end_date - start_date).days\n",
    "lookback = 20\n",
    "delay = 1\n",
    "top_N = 300\n",
    "initial_investment = 1000\n",
    "save_backtest_result = True\n",
    "backtest_result_folder = './backtest_result'\n",
    "# Get all tickers\n",
    "tickers = sorted(su.get_universe_tickers(top_N, start_date, end_date))"
   ]
  },
  {
   "cell_type": "code",
   "execution_count": 3,
   "metadata": {},
   "outputs": [],
   "source": [
    "# Grab all tickers in the universe and sort them\n",
    "tickers = sorted(su.get_universe_tickers(top_N, start_date, end_date))\n",
    "universe_size = len(tickers)\n",
    "\n",
    "price_attrs = ['open', 'close', 'low', 'high', 'volume']\n",
    "data = su.get_equity_data(tickers=tickers, start_date=start_date,\n",
    "                          end_date=end_date, attributes=price_attrs)\n"
   ]
  },
  {
   "cell_type": "code",
   "execution_count": 4,
   "metadata": {},
   "outputs": [],
   "source": [
    "OPEN = data['open'].astype(float).values\n",
    "CLOSE = data['close'].astype(float).values\n",
    "LOW = data['low'].astype(float).values\n",
    "HIGH = data['high'].astype(float).values\n",
    "VOLUME = data['volume'].astype(float).values\n",
    "\n",
    "# Create universe filter table\n",
    "all_dates = data['close'].index.values\n",
    "universe_filter = su.create_universe_filter(top_N, start_date, end_date, tickers, all_dates)\n",
    "\n",
    "# Grab all tickers in the universe and sort them\n",
    "tickers = sorted(su.get_universe_tickers(top_N, start_date, end_date))\n",
    "universe_size = len(tickers)\n",
    "universe_filter_arr = universe_filter.values"
   ]
  },
  {
   "cell_type": "code",
   "execution_count": 5,
   "metadata": {},
   "outputs": [
    {
     "data": {
      "text/plain": [
       "dict_keys(['open', 'close', 'low', 'high', 'volume'])"
      ]
     },
     "execution_count": 5,
     "metadata": {},
     "output_type": "execute_result"
    }
   ],
   "source": [
    "data.keys()"
   ]
  },
  {
   "cell_type": "code",
   "execution_count": 6,
   "metadata": {},
   "outputs": [],
   "source": [
    "# Hao's example alpha\n",
    "def alpha(day):\n",
    "    # raw factor computed for all tickers (not necesarily the valid universe)\n",
    "    factor = -rank(CLOSE[day - delay] - CLOSE[day - delay - 4])\n",
    "    return weight(factor, universe_filter_arr[day])"
   ]
  },
  {
   "cell_type": "code",
   "execution_count": 118,
   "metadata": {},
   "outputs": [],
   "source": [
    "# The idea of combining gain and acceleration to estimate future returns\n",
    "# If a stock has had positive returns and high momentum, then we expect that stock to continue performing well\n",
    "\n",
    "def momentum_alpha(day, gain_lb=4, acc_lb=18):\n",
    "    #TODO: Add smoothing of data to reduce turnover\n",
    "    #possible option, if delta of returns is not greater than .....\n",
    "    \n",
    "    # Weight acceleration more heavily by squaring it. Numbers below 1 will get smaller and numbers above 1 will get larger. The greater the distance from 1, the more the squaring will afffect it.\n",
    "    # This means that extremely weak momentum or extremely strong momentum will be accentuated by the squaring and will make us short or long the stock respectively.\n",
    "    \n",
    "    acceleration = rank(np.power((CLOSE[day - delay] / CLOSE[day - delay - acc_lb] - 1), 2))\n",
    "    gain = (CLOSE[day - delay - gain_lb] - CLOSE[day - delay]) / ( CLOSE[day - delay - gain_lb])\n",
    "    \n",
    "    # For some reason, setting accel equal to 0 when momentum is greater than 0 improves sharpe ratio (at the expense of slightly higher turnover)\n",
    "#     acceleration[gain < 0] = 0\n",
    "\n",
    "    weekly_gain = rank(gain)\n",
    "    \n",
    "    factor = weekly_gain + acceleration\n",
    "\n",
    "    weights = weight(factor, universe_filter_arr[day])\n",
    "    # Dropping weights less than arbitrary value to lower turnover\n",
    "    # Lower returns but also MUCH lower turnover\n",
    "    weights[np.abs(weights) < .006] = 0\n",
    "    return weights"
   ]
  },
  {
   "cell_type": "code",
   "execution_count": 119,
   "metadata": {},
   "outputs": [
    {
     "name": "stdout",
     "output_type": "stream",
     "text": [
      "           return    sharpe   sortino  drawdown  turnover  long count  \\\n",
      "year                                                                    \n",
      "2012     0.056877  1.833256  3.054017 -0.016923  0.368168   29.034483   \n",
      "2013     0.029961  1.330725  2.031778 -0.020728  0.371379   28.861111   \n",
      "2014     0.049864  1.697847  2.695571 -0.022343  0.373420   29.083333   \n",
      "2015     0.028681  0.770785  1.143886 -0.021639  0.367005   29.353175   \n",
      "2016     0.073152  1.854104  3.063458 -0.029175  0.377151   29.318725   \n",
      "Overall  0.233732  1.462297  2.313722 -0.034715  0.371716   29.132258   \n",
      "\n",
      "         short count  \n",
      "year                  \n",
      "2012       21.409483  \n",
      "2013       22.214286  \n",
      "2014       21.611111  \n",
      "2015       20.496032  \n",
      "2016       22.386454  \n",
      "Overall    21.629839  \n"
     ]
    },
    {
     "data": {
      "image/png": "[encoded data removed]",
      "text/plain": [
       "<Figure size 864x576 with 1 Axes>"
      ]
     },
     "metadata": {
      "needs_background": "light"
     },
     "output_type": "display_data"
    }
   ],
   "source": [
    "# run backtest, print the performance table and draw the chart\n",
    "# For skew momentum\n",
    "lookback = 18\n",
    "holdings = metrics.backtest(momentum_alpha, CLOSE.shape[0], universe_size, lookback)\n",
    "daily_returns = metrics.daily_return(holdings[:-1], OPEN[lookback:] )\n",
    "performance = metrics.generate_performance_table(daily_returns, holdings,\n",
    "                                                 dates=all_dates[lookback:-1],\n",
    "                                                tickers=tickers)\n",
    "print(performance)\n",
    "# print(performance['return'].iloc[5])\n",
    "pnl_df = pd.DataFrame(daily_returns.cumsum() * initial_investment,index = data['close'].iloc[lookback:-1].index, columns = ['alpha'])\n",
    "chart = pnl_df.plot(grid=True,figsize=[12,8],linewidth=1,color='darkorange')\n"
   ]
  },
  {
   "cell_type": "code",
   "execution_count": 120,
   "metadata": {},
   "outputs": [
    {
     "data": {
      "text/plain": [
       "array([ 0.        ,  0.        ,  0.        ,  0.        ,  0.        ,\n",
       "        0.        ,  0.        ,  0.        ,  0.        ,  0.        ,\n",
       "        0.        ,  0.        ,  0.        ,  0.        ,  0.        ,\n",
       "        0.        ,  0.        ,  0.        ,  0.        ,  0.        ,\n",
       "        0.        ,  0.        ,  0.        ,  0.        ,  0.        ,\n",
       "        0.        ,  0.        ,  0.        ,  0.        ,  0.00757744,\n",
       "        0.        ,  0.        ,  0.        ,  0.        ,  0.        ,\n",
       "        0.        ,  0.        ,  0.        ,  0.        ,  0.        ,\n",
       "        0.        ,  0.        ,  0.        ,  0.        ,  0.        ,\n",
       "        0.00657892,  0.        ,  0.        ,  0.        ,  0.        ,\n",
       "        0.        ,  0.        ,  0.        ,  0.        ,  0.        ,\n",
       "        0.        ,  0.        ,  0.        ,  0.00731825,  0.        ,\n",
       "        0.        ,  0.        ,  0.        ,  0.        ,  0.        ,\n",
       "        0.        ,  0.        ,  0.        ,  0.        ,  0.        ,\n",
       "        0.        ,  0.        ,  0.        ,  0.        ,  0.        ,\n",
       "        0.        ,  0.        ,  0.        ,  0.        ,  0.        ,\n",
       "        0.        ,  0.        ,  0.        ,  0.        ,  0.        ,\n",
       "        0.        ,  0.        ,  0.        ,  0.01000153,  0.        ,\n",
       "        0.        ,  0.        ,  0.        ,  0.        ,  0.        ,\n",
       "        0.00794421,  0.        ,  0.        ,  0.        ,  0.        ,\n",
       "        0.        ,  0.        ,  0.        ,  0.        , -0.00725843,\n",
       "        0.        ,  0.        ,  0.        ,  0.        ,  0.        ,\n",
       "        0.        ,  0.        ,  0.        ,  0.        ,  0.        ,\n",
       "        0.        ,  0.        ,  0.00614187,  0.        ,  0.        ,\n",
       "        0.00658042,  0.        ,  0.        ,  0.        ,  0.        ,\n",
       "        0.        ,  0.        ,  0.00707825,  0.        ,  0.00601345,\n",
       "        0.        ,  0.        ,  0.        ,  0.        ,  0.        ,\n",
       "        0.        ,  0.        ,  0.        ,  0.        ,  0.        ,\n",
       "        0.        ,  0.00694648,  0.        ,  0.        ,  0.        ,\n",
       "        0.        ,  0.00863752,  0.        ,  0.        ,  0.        ,\n",
       "        0.        ,  0.        ,  0.        ,  0.        ,  0.        ,\n",
       "        0.00876665,  0.        ,  0.        ,  0.        ,  0.        ,\n",
       "        0.        ,  0.        ,  0.        ,  0.        ,  0.        ,\n",
       "        0.        ,  0.        ,  0.        ,  0.00798445,  0.        ,\n",
       "        0.        ,  0.        ,  0.        ,  0.        ,  0.        ,\n",
       "        0.        ,  0.        ,  0.        ,  0.        ,  0.        ,\n",
       "        0.        ,  0.        ,  0.        ,  0.        ,  0.        ,\n",
       "        0.        ,  0.        ,  0.        ,  0.        ,  0.        ,\n",
       "        0.        ,  0.        ,  0.        ,  0.        ,  0.        ,\n",
       "        0.        ,  0.        ,  0.        ,  0.        ,  0.        ,\n",
       "        0.        ,  0.00740443,  0.        ,  0.        ,  0.        ,\n",
       "        0.        ,  0.        ,  0.        ,  0.        ,  0.        ,\n",
       "        0.        ,  0.        ,  0.        ,  0.        ,  0.        ,\n",
       "        0.        ,  0.        ,  0.        ,  0.        ,  0.        ,\n",
       "        0.        ,  0.        ,  0.        , -0.00684414,  0.00781166,\n",
       "        0.        ,  0.        ,  0.        ,  0.        ,  0.        ,\n",
       "        0.        ,  0.        ,  0.        ,  0.        , -0.00680204,\n",
       "        0.        ,  0.        ,  0.        ,  0.        ,  0.00605626,\n",
       "        0.        ,  0.        ,  0.        ,  0.        ,  0.        ,\n",
       "        0.        ,  0.        ,  0.        ,  0.        ,  0.        ,\n",
       "        0.        ,  0.        ,  0.        ,  0.        ,  0.        ,\n",
       "        0.        ,  0.        ,  0.        ,  0.        ,  0.        ,\n",
       "        0.        ,  0.        ,  0.        ,  0.        ,  0.        ,\n",
       "        0.        ,  0.        ,  0.        ,  0.        ,  0.        ,\n",
       "        0.        ,  0.        ,  0.        ,  0.        , -0.00699802,\n",
       "        0.        ,  0.        ,  0.        ,  0.        ,  0.00885384,\n",
       "        0.        ,  0.        ,  0.        ,  0.        ,  0.        ,\n",
       "        0.        ,  0.        ,  0.        ,  0.        ,  0.        ,\n",
       "        0.        ,  0.        ,  0.        ,  0.        ,  0.        ,\n",
       "        0.        ,  0.        ,  0.        ,  0.        ,  0.        ,\n",
       "        0.        ,  0.        ,  0.        ,  0.        ,  0.        ,\n",
       "        0.        ,  0.        ,  0.        ,  0.        ,  0.        ,\n",
       "        0.        ,  0.        ,  0.00776928,  0.        ,  0.        ,\n",
       "        0.        ,  0.        ,  0.007707  ,  0.        ,  0.0087439 ,\n",
       "        0.        ,  0.        ,  0.        ,  0.        ,  0.        ,\n",
       "        0.        ,  0.        ,  0.        ,  0.        ,  0.        ,\n",
       "        0.        ,  0.        ,  0.        ,  0.        ,  0.        ,\n",
       "        0.        ,  0.00690153,  0.        ,  0.        ,  0.        ,\n",
       "        0.        ,  0.        ,  0.        ,  0.        ,  0.        ,\n",
       "        0.        ,  0.        ,  0.        ,  0.        ,  0.        ,\n",
       "        0.        ,  0.        ,  0.        ,  0.        ,  0.        ,\n",
       "        0.        ,  0.00721223,  0.        ,  0.        ,  0.        ,\n",
       "        0.        ,  0.00779368,  0.        ,  0.        ,  0.        ,\n",
       "        0.        ,  0.        ,  0.        , -0.00921565,  0.        ,\n",
       "        0.        ,  0.00620886,  0.00829058,  0.        ,  0.        ,\n",
       "        0.        ,  0.        ,  0.        ,  0.        ,  0.00967699,\n",
       "        0.        ,  0.        ,  0.        ,  0.        ,  0.        ,\n",
       "        0.        ,  0.        ,  0.        ,  0.        ,  0.        ,\n",
       "        0.        , -0.00757726,  0.        ,  0.        ,  0.        ,\n",
       "        0.00840166,  0.        ,  0.        ,  0.        ,  0.        ,\n",
       "        0.        ,  0.        , -0.00608597,  0.        ,  0.        ,\n",
       "        0.        ,  0.        ,  0.        ,  0.        ,  0.        ,\n",
       "        0.        ,  0.        ,  0.        ,  0.        ,  0.        ,\n",
       "        0.        ,  0.        ,  0.        ,  0.        ,  0.        ,\n",
       "       -0.00645824,  0.        ,  0.        ,  0.        ,  0.        ,\n",
       "        0.        ,  0.        ,  0.        ,  0.        ,  0.        ,\n",
       "        0.        ,  0.        ,  0.        ,  0.        ,  0.        ,\n",
       "        0.        ,  0.        ,  0.        ,  0.        ,  0.        ,\n",
       "        0.        ,  0.        ,  0.        ,  0.        ,  0.        ,\n",
       "        0.        ,  0.        ,  0.        ,  0.        ,  0.        ,\n",
       "        0.        ,  0.        ,  0.        ,  0.        ,  0.        ,\n",
       "       -0.00675974, -0.00777452,  0.        ,  0.        ,  0.        ,\n",
       "        0.        ,  0.        ,  0.        ,  0.        ,  0.        ,\n",
       "        0.        ,  0.        ,  0.        ,  0.        ,  0.        ,\n",
       "        0.        ,  0.        ,  0.        ,  0.        ])"
      ]
     },
     "execution_count": 120,
     "metadata": {},
     "output_type": "execute_result"
    }
   ],
   "source": [
    "momentum_alpha(70)"
   ]
  },
  {
   "cell_type": "code",
   "execution_count": 15,
   "metadata": {
    "collapsed": true,
    "jupyter": {
     "outputs_hidden": true
    }
   },
   "outputs": [
    {
     "name": "stderr",
     "output_type": "stream",
     "text": [
      "C:\\Users\\erueb\\Anaconda3\\lib\\site-packages\\numpy\\core\\fromnumeric.py:56: FutureWarning: \n",
      "The current behaviour of 'Series.argmax' is deprecated, use 'idxmax'\n",
      "instead.\n",
      "The behavior of 'argmax' will be corrected to return the positional\n",
      "maximum in the future. For now, use 'series.values.argmax' or\n",
      "'np.argmax(np.array(values))' to get the position of the maximum\n",
      "row.\n",
      "  return getattr(obj, method)(*args, **kwds)\n"
     ]
    },
    {
     "name": "stdout",
     "output_type": "stream",
     "text": [
      "Gain lb: 3, Acc lb: 10\n",
      "Total returns: 0.20755878264486877 , Sharpe: 1.132558536420329 , Sortino: 1.7099859408466949, Turnover 0.7811114261474649\n",
      "Gain lb: 3, Acc lb: 12\n",
      "Total returns: 0.194252563794313 , Sharpe: 1.0650599817964468 , Sortino: 1.6076264917956593, Turnover 0.7561692689599129\n",
      "Gain lb: 3, Acc lb: 13\n",
      "Total returns: 0.179676098569025 , Sharpe: 0.9830773201800953 , Sortino: 1.4701771680975206, Turnover 0.7481294443176008\n",
      "Gain lb: 3, Acc lb: 14\n",
      "Total returns: 0.16797529352764815 , Sharpe: 0.9253678156965537 , Sortino: 1.3925667457186415, Turnover 0.7378552756736234\n",
      "Gain lb: 3, Acc lb: 15\n",
      "Total returns: 0.16766248605846698 , Sharpe: 0.9101847394081892 , Sortino: 1.3632409412160962, Turnover 0.7313301428056074\n",
      "Gain lb: 3, Acc lb: 16\n",
      "Total returns: 0.1681904169714486 , Sharpe: 0.9176668312861173 , Sortino: 1.3848115556355494, Turnover 0.7208017448497601\n",
      "Gain lb: 3, Acc lb: 17\n",
      "Total returns: 0.18232934473609563 , Sharpe: 0.9971636920955514 , Sortino: 1.5152720635041816, Turnover 0.7135274623145422\n",
      "Gain lb: 3, Acc lb: 18\n",
      "Total returns: 0.21378458625770252 , Sharpe: 1.163737689609253 , Sortino: 1.7737574548329105, Turnover 0.7086491989698802\n",
      "Gain lb: 3, Acc lb: 20\n",
      "Total returns: 0.17559301933684887 , Sharpe: 0.9511166054572013 , Sortino: 1.4366250162413785, Turnover 0.6981465623544238\n",
      "Gain lb: 3, Acc lb: 25\n",
      "Total returns: 0.17417648684656029 , Sharpe: 0.9399895058234301 , Sortino: 1.4188773115088704, Turnover 0.6793359517717522\n",
      "Gain lb: 3, Acc lb: 30\n",
      "Total returns: 0.19639692873609746 , Sharpe: 1.0677965232706377 , Sortino: 1.622580546578202, Turnover 0.6639162602577042\n",
      "Gain lb: 3, Acc lb: 35\n",
      "Total returns: 0.18714607105223036 , Sharpe: 0.9934536504525249 , Sortino: 1.5259820686340202, Turnover 0.6510968456371766\n",
      "Gain lb: 3, Acc lb: 40\n",
      "Total returns: 0.1334170054524277 , Sharpe: 0.7150063875594062 , Sortino: 1.072602561459557, Turnover 0.6414355850529864\n",
      "Gain lb: 4, Acc lb: 10\n",
      "Total returns: 0.24432272715132097 , Sharpe: 1.3323403703812307 , Sortino: 2.0465426604694565, Turnover 0.7300359647262163\n",
      "Gain lb: 4, Acc lb: 12\n",
      "Total returns: 0.22291684634679498 , Sharpe: 1.2107934963088094 , Sortino: 1.8662292608739757, Turnover 0.7035934283569297\n",
      "Gain lb: 4, Acc lb: 13\n",
      "Total returns: 0.2060615774372604 , Sharpe: 1.1098850176589445 , Sortino: 1.6989358666833272, Turnover 0.6953049827313871\n",
      "Gain lb: 4, Acc lb: 14\n",
      "Total returns: 0.18962055069965705 , Sharpe: 1.026217308984495 , Sortino: 1.5660599443690808, Turnover 0.6832872081935517\n",
      "Gain lb: 4, Acc lb: 15\n",
      "Total returns: 0.19504445524356945 , Sharpe: 1.0462361204276882 , Sortino: 1.596262949307151, Turnover 0.6752942605505062\n",
      "Gain lb: 4, Acc lb: 16\n",
      "Total returns: 0.19467884403912616 , Sharpe: 1.041706879906851 , Sortino: 1.5907585700837423, Turnover 0.665298730110729\n",
      "Gain lb: 4, Acc lb: 17\n",
      "Total returns: 0.20923851418319991 , Sharpe: 1.126389640797743 , Sortino: 1.7377122541469447, Turnover 0.6578170463788989\n",
      "Gain lb: 4, Acc lb: 18\n",
      "Total returns: 0.24096905842426214 , Sharpe: 1.2931359014363515 , Sortino: 2.0003857637746143, Turnover 0.6524166192747458\n",
      "Gain lb: 4, Acc lb: 20\n",
      "Total returns: 0.20310126440176596 , Sharpe: 1.0802058985497824 , Sortino: 1.6555270393783252, Turnover 0.640640241958349\n",
      "Gain lb: 4, Acc lb: 25\n",
      "Total returns: 0.21005052491625598 , Sharpe: 1.1162540269315357 , Sortino: 1.7001185313646636, Turnover 0.6198547925957913\n",
      "Gain lb: 4, Acc lb: 30\n",
      "Total returns: 0.23095582920641713 , Sharpe: 1.2360363139908581 , Sortino: 1.901378917138386, Turnover 0.6027535644760185\n",
      "Gain lb: 4, Acc lb: 35\n",
      "Total returns: 0.21723826003207655 , Sharpe: 1.136991713705094 , Sortino: 1.7684006751636192, Turnover 0.5884450189652328\n",
      "Gain lb: 4, Acc lb: 40\n",
      "Total returns: 0.1620126982997962 , Sharpe: 0.857382134508769 , Sortino: 1.3084817868877658, Turnover 0.5782964429517039\n",
      "Gain lb: 5, Acc lb: 10\n",
      "Total returns: 0.21417986409321138 , Sharpe: 1.1495404642869944 , Sortino: 1.7362866964131354, Turnover 0.695886821671692\n",
      "Gain lb: 5, Acc lb: 12\n",
      "Total returns: 0.19718261687975835 , Sharpe: 1.0606008201523243 , Sortino: 1.6083940754371133, Turnover 0.6679450108912689\n",
      "Gain lb: 5, Acc lb: 13\n",
      "Total returns: 0.18009247740515133 , Sharpe: 0.9616232746522573 , Sortino: 1.444230832636807, Turnover 0.6586612056058301\n",
      "Gain lb: 5, Acc lb: 14\n",
      "Total returns: 0.16631289848176653 , Sharpe: 0.8954463869571373 , Sortino: 1.3483144435935799, Turnover 0.6469334755748216\n",
      "Gain lb: 5, Acc lb: 15\n",
      "Total returns: 0.17044447377471356 , Sharpe: 0.908105451831963 , Sortino: 1.3721141693646053, Turnover 0.6384338020858981\n",
      "Gain lb: 5, Acc lb: 16\n",
      "Total returns: 0.17315604775177473 , Sharpe: 0.9185477637562468 , Sortino: 1.385585093420775, Turnover 0.6263813691667172\n",
      "Gain lb: 5, Acc lb: 17\n",
      "Total returns: 0.1867834863024168 , Sharpe: 0.994401686672642 , Sortino: 1.5162927456942672, Turnover 0.6188829852798597\n",
      "Gain lb: 5, Acc lb: 18\n",
      "Total returns: 0.21608244456975922 , Sharpe: 1.1423155564598422 , Sortino: 1.7531009768369707, Turnover 0.6135103464288911\n",
      "Gain lb: 5, Acc lb: 20\n",
      "Total returns: 0.17991228303771456 , Sharpe: 0.9449740783374505 , Sortino: 1.4342401134766247, Turnover 0.599951700529417\n",
      "Gain lb: 5, Acc lb: 25\n",
      "Total returns: 0.18202556478049492 , Sharpe: 0.9555559594543421 , Sortino: 1.4346339636041776, Turnover 0.5789177274660995\n",
      "Gain lb: 5, Acc lb: 30\n",
      "Total returns: 0.2029072074501787 , Sharpe: 1.0706407124009294 , Sortino: 1.6232795992767555, Turnover 0.5602574474236692\n",
      "Gain lb: 5, Acc lb: 35\n",
      "Total returns: 0.18695764198123083 , Sharpe: 0.9688346466878777 , Sortino: 1.4887004037908667, Turnover 0.5457030950244618\n",
      "Gain lb: 5, Acc lb: 40\n",
      "Total returns: 0.13305027523536603 , Sharpe: 0.6940421154755243 , Sortino: 1.0429026161148154, Turnover 0.5345299453614877\n",
      "Gain lb: 6, Acc lb: 10\n",
      "Total returns: 0.16220543156220865 , Sharpe: 0.8475630480089317 , Sortino: 1.2623005885613534, Turnover 0.6742430151639024\n",
      "Gain lb: 6, Acc lb: 12\n",
      "Total returns: 0.1464523538534524 , Sharpe: 0.7689149170082478 , Sortino: 1.1461905004604862, Turnover 0.6444230831917576\n",
      "Gain lb: 6, Acc lb: 13\n",
      "Total returns: 0.13155213705869084 , Sharpe: 0.6871552852253912 , Sortino: 1.0156037492140482, Turnover 0.6348754596861388\n",
      "Gain lb: 6, Acc lb: 14\n",
      "Total returns: 0.11703565472972752 , Sharpe: 0.613595218488765 , Sortino: 0.9080035138961836, Turnover 0.6222079615647474\n",
      "Gain lb: 6, Acc lb: 15\n",
      "Total returns: 0.1266176159738082 , Sharpe: 0.6593551747962451 , Sortino: 0.9810259874811155, Turnover 0.6131734196926871\n",
      "Gain lb: 6, Acc lb: 16\n",
      "Total returns: 0.13278927574274685 , Sharpe: 0.6914491122935401 , Sortino: 1.031448474684674, Turnover 0.6012382597377619\n",
      "Gain lb: 6, Acc lb: 17\n",
      "Total returns: 0.14573602847689524 , Sharpe: 0.7602662184582202 , Sortino: 1.1431961381632547, Turnover 0.5921219700921596\n",
      "Gain lb: 6, Acc lb: 18\n",
      "Total returns: 0.17540428342964687 , Sharpe: 0.9128021953854978 , Sortino: 1.3827014097553918, Turnover 0.5869075976539506\n",
      "Gain lb: 6, Acc lb: 20\n",
      "Total returns: 0.1372477733248085 , Sharpe: 0.7075143513602574 , Sortino: 1.0607098119904736, Turnover 0.5726760008987235\n",
      "Gain lb: 6, Acc lb: 25\n",
      "Total returns: 0.14159062537830536 , Sharpe: 0.7274366733400983 , Sortino: 1.0768304259604957, Turnover 0.5497465801428565\n",
      "Gain lb: 6, Acc lb: 30\n",
      "Total returns: 0.1601989079175818 , Sharpe: 0.8267225908877357 , Sortino: 1.2382021087421442, Turnover 0.5304073777783257\n",
      "Gain lb: 6, Acc lb: 35\n",
      "Total returns: 0.1395896349841111 , Sharpe: 0.7112865219696775 , Sortino: 1.07724798041591, Turnover 0.5146368472155218\n",
      "Gain lb: 6, Acc lb: 40\n",
      "Total returns: 0.081607240329229 , Sharpe: 0.41855452167295104 , Sortino: 0.6192764314204419, Turnover 0.5038334260768289\n",
      "Gain lb: 7, Acc lb: 10\n",
      "Total returns: 0.15433849397816923 , Sharpe: 0.8020621744077543 , Sortino: 1.1964365793274125, Turnover 0.6601893175345148\n",
      "Gain lb: 7, Acc lb: 12\n",
      "Total returns: 0.1352862463501981 , Sharpe: 0.7077941539588852 , Sortino: 1.0600119705435114, Turnover 0.628626394460865\n",
      "Gain lb: 7, Acc lb: 13\n",
      "Total returns: 0.1192729055860845 , Sharpe: 0.619763695493571 , Sortino: 0.920523687597968, Turnover 0.6178851496185955\n",
      "Gain lb: 7, Acc lb: 14\n",
      "Total returns: 0.10772455599937941 , Sharpe: 0.564406422534197 , Sortino: 0.841498140248572, Turnover 0.6049627659442308\n",
      "Gain lb: 7, Acc lb: 15\n",
      "Total returns: 0.1186356499024339 , Sharpe: 0.6167455552711335 , Sortino: 0.9211937900962464, Turnover 0.5959279193399007\n"
     ]
    },
    {
     "ename": "KeyboardInterrupt",
     "evalue": "",
     "output_type": "error",
     "traceback": [
      "\u001b[1;31m---------------------------------------------------------------------------\u001b[0m",
      "\u001b[1;31mAttributeError\u001b[0m                            Traceback (most recent call last)",
      "\u001b[1;32m~\\Anaconda3\\lib\\site-packages\\pandas\\core\\generic.py\u001b[0m in \u001b[0;36m__setattr__\u001b[1;34m(self, name, value)\u001b[0m\n\u001b[0;32m   5078\u001b[0m         \u001b[1;32mtry\u001b[0m\u001b[1;33m:\u001b[0m\u001b[1;33m\u001b[0m\u001b[1;33m\u001b[0m\u001b[0m\n\u001b[1;32m-> 5079\u001b[1;33m             \u001b[0mobject\u001b[0m\u001b[1;33m.\u001b[0m\u001b[0m__getattribute__\u001b[0m\u001b[1;33m(\u001b[0m\u001b[0mself\u001b[0m\u001b[1;33m,\u001b[0m \u001b[0mname\u001b[0m\u001b[1;33m)\u001b[0m\u001b[1;33m\u001b[0m\u001b[1;33m\u001b[0m\u001b[0m\n\u001b[0m\u001b[0;32m   5080\u001b[0m             \u001b[1;32mreturn\u001b[0m \u001b[0mobject\u001b[0m\u001b[1;33m.\u001b[0m\u001b[0m__setattr__\u001b[0m\u001b[1;33m(\u001b[0m\u001b[0mself\u001b[0m\u001b[1;33m,\u001b[0m \u001b[0mname\u001b[0m\u001b[1;33m,\u001b[0m \u001b[0mvalue\u001b[0m\u001b[1;33m)\u001b[0m\u001b[1;33m\u001b[0m\u001b[1;33m\u001b[0m\u001b[0m\n",
      "\u001b[1;32m~\\Anaconda3\\lib\\site-packages\\pandas\\core\\series.py\u001b[0m in \u001b[0;36mname\u001b[1;34m(self)\u001b[0m\n\u001b[0;32m    396\u001b[0m         \"\"\"\n\u001b[1;32m--> 397\u001b[1;33m         \u001b[1;32mreturn\u001b[0m \u001b[0mself\u001b[0m\u001b[1;33m.\u001b[0m\u001b[0m_name\u001b[0m\u001b[1;33m\u001b[0m\u001b[1;33m\u001b[0m\u001b[0m\n\u001b[0m\u001b[0;32m    398\u001b[0m \u001b[1;33m\u001b[0m\u001b[0m\n",
      "\u001b[1;32m~\\Anaconda3\\lib\\site-packages\\pandas\\core\\generic.py\u001b[0m in \u001b[0;36m__getattr__\u001b[1;34m(self, name)\u001b[0m\n\u001b[0;32m   5062\u001b[0m                 name in self._accessors):\n\u001b[1;32m-> 5063\u001b[1;33m             \u001b[1;32mreturn\u001b[0m \u001b[0mobject\u001b[0m\u001b[1;33m.\u001b[0m\u001b[0m__getattribute__\u001b[0m\u001b[1;33m(\u001b[0m\u001b[0mself\u001b[0m\u001b[1;33m,\u001b[0m \u001b[0mname\u001b[0m\u001b[1;33m)\u001b[0m\u001b[1;33m\u001b[0m\u001b[1;33m\u001b[0m\u001b[0m\n\u001b[0m\u001b[0;32m   5064\u001b[0m         \u001b[1;32melse\u001b[0m\u001b[1;33m:\u001b[0m\u001b[1;33m\u001b[0m\u001b[1;33m\u001b[0m\u001b[0m\n",
      "\u001b[1;31mAttributeError\u001b[0m: 'Series' object has no attribute '_name'",
      "\nDuring handling of the above exception, another exception occurred:\n",
      "\u001b[1;31mKeyboardInterrupt\u001b[0m                         Traceback (most recent call last)",
      "\u001b[1;32m<ipython-input-15-698719bb6bfa>\u001b[0m in \u001b[0;36m<module>\u001b[1;34m\u001b[0m\n\u001b[0;32m     26\u001b[0m \u001b[0mgain_lbs\u001b[0m\u001b[1;33m=\u001b[0m\u001b[1;33m[\u001b[0m\u001b[1;36m3\u001b[0m\u001b[1;33m,\u001b[0m \u001b[1;36m4\u001b[0m\u001b[1;33m,\u001b[0m \u001b[1;36m5\u001b[0m\u001b[1;33m,\u001b[0m \u001b[1;36m6\u001b[0m\u001b[1;33m,\u001b[0m \u001b[1;36m7\u001b[0m\u001b[1;33m,\u001b[0m \u001b[1;36m8\u001b[0m\u001b[1;33m,\u001b[0m \u001b[1;36m9\u001b[0m\u001b[1;33m,\u001b[0m \u001b[1;36m10\u001b[0m\u001b[1;33m]\u001b[0m\u001b[1;33m\u001b[0m\u001b[1;33m\u001b[0m\u001b[0m\n\u001b[0;32m     27\u001b[0m \u001b[0macc_lbs\u001b[0m\u001b[1;33m=\u001b[0m\u001b[1;33m[\u001b[0m\u001b[1;36m10\u001b[0m\u001b[1;33m,\u001b[0m\u001b[1;36m12\u001b[0m\u001b[1;33m,\u001b[0m\u001b[1;36m13\u001b[0m\u001b[1;33m,\u001b[0m\u001b[1;36m14\u001b[0m\u001b[1;33m,\u001b[0m\u001b[1;36m15\u001b[0m\u001b[1;33m,\u001b[0m\u001b[1;36m16\u001b[0m\u001b[1;33m,\u001b[0m\u001b[1;36m17\u001b[0m\u001b[1;33m,\u001b[0m\u001b[1;36m18\u001b[0m\u001b[1;33m,\u001b[0m\u001b[1;36m20\u001b[0m\u001b[1;33m,\u001b[0m\u001b[1;36m25\u001b[0m\u001b[1;33m,\u001b[0m\u001b[1;36m30\u001b[0m\u001b[1;33m,\u001b[0m \u001b[1;36m35\u001b[0m\u001b[1;33m,\u001b[0m \u001b[1;36m40\u001b[0m\u001b[1;33m]\u001b[0m\u001b[1;33m\u001b[0m\u001b[1;33m\u001b[0m\u001b[0m\n\u001b[1;32m---> 28\u001b[1;33m \u001b[0mtest_diff_lookbacks\u001b[0m\u001b[1;33m(\u001b[0m\u001b[0mgain_lbs\u001b[0m\u001b[1;33m,\u001b[0m \u001b[0macc_lbs\u001b[0m\u001b[1;33m)\u001b[0m\u001b[1;33m\u001b[0m\u001b[1;33m\u001b[0m\u001b[0m\n\u001b[0m\u001b[0;32m     29\u001b[0m \u001b[1;33m\u001b[0m\u001b[0m\n\u001b[0;32m     30\u001b[0m \u001b[1;33m\u001b[0m\u001b[0m\n",
      "\u001b[1;32m<ipython-input-15-698719bb6bfa>\u001b[0m in \u001b[0;36mtest_diff_lookbacks\u001b[1;34m(gain_lbs, acc_lbs)\u001b[0m\n\u001b[0;32m     15\u001b[0m             performance = metrics.generate_performance_table(daily_returns, holdings,\n\u001b[0;32m     16\u001b[0m                                                              \u001b[0mdates\u001b[0m\u001b[1;33m=\u001b[0m\u001b[0mall_dates\u001b[0m\u001b[1;33m[\u001b[0m\u001b[0mlookback\u001b[0m\u001b[1;33m:\u001b[0m\u001b[1;33m-\u001b[0m\u001b[1;36m1\u001b[0m\u001b[1;33m]\u001b[0m\u001b[1;33m,\u001b[0m\u001b[1;33m\u001b[0m\u001b[1;33m\u001b[0m\u001b[0m\n\u001b[1;32m---> 17\u001b[1;33m                                                             tickers=tickers)\n\u001b[0m\u001b[0;32m     18\u001b[0m             \u001b[0mprint\u001b[0m\u001b[1;33m(\u001b[0m\u001b[1;34mf'Gain lb: {gain_lb}, Acc lb: {acc_lb}'\u001b[0m\u001b[1;33m)\u001b[0m\u001b[1;33m\u001b[0m\u001b[1;33m\u001b[0m\u001b[0m\n\u001b[0;32m     19\u001b[0m             \u001b[0mrets\u001b[0m \u001b[1;33m=\u001b[0m \u001b[0mperformance\u001b[0m\u001b[1;33m[\u001b[0m\u001b[1;34m'return'\u001b[0m\u001b[1;33m]\u001b[0m\u001b[1;33m.\u001b[0m\u001b[0miloc\u001b[0m\u001b[1;33m[\u001b[0m\u001b[1;36m5\u001b[0m\u001b[1;33m]\u001b[0m\u001b[1;33m\u001b[0m\u001b[1;33m\u001b[0m\u001b[0m\n",
      "\u001b[1;32m~\\dev\\SIF\\sif_research\\research_framework\\metrics.py\u001b[0m in \u001b[0;36mgenerate_performance_table\u001b[1;34m(daily_returns, holdings, dates, tickers)\u001b[0m\n\u001b[0;32m    336\u001b[0m         np.abs(compute_turnover(x.values)), axis=1)))\n\u001b[0;32m    337\u001b[0m     \u001b[0mmetric_table\u001b[0m\u001b[1;33m[\u001b[0m\u001b[1;34m'long count'\u001b[0m\u001b[1;33m]\u001b[0m \u001b[1;33m=\u001b[0m \u001b[0myearly_holdings\u001b[0m\u001b[1;33m.\u001b[0m\u001b[0mapply\u001b[0m\u001b[1;33m(\u001b[0m\u001b[1;32mlambda\u001b[0m \u001b[0mx\u001b[0m\u001b[1;33m:\u001b[0m \u001b[0mlong_count\u001b[0m\u001b[1;33m(\u001b[0m\u001b[0mx\u001b[0m\u001b[1;33m)\u001b[0m\u001b[1;33m.\u001b[0m\u001b[0mmean\u001b[0m\u001b[1;33m(\u001b[0m\u001b[1;33m)\u001b[0m\u001b[1;33m)\u001b[0m\u001b[1;33m\u001b[0m\u001b[1;33m\u001b[0m\u001b[0m\n\u001b[1;32m--> 338\u001b[1;33m     \u001b[0mmetric_table\u001b[0m\u001b[1;33m[\u001b[0m\u001b[1;34m'short count'\u001b[0m\u001b[1;33m]\u001b[0m \u001b[1;33m=\u001b[0m \u001b[0myearly_holdings\u001b[0m\u001b[1;33m.\u001b[0m\u001b[0mapply\u001b[0m\u001b[1;33m(\u001b[0m\u001b[1;32mlambda\u001b[0m \u001b[0mx\u001b[0m\u001b[1;33m:\u001b[0m \u001b[0mshort_count\u001b[0m\u001b[1;33m(\u001b[0m\u001b[0mx\u001b[0m\u001b[1;33m)\u001b[0m\u001b[1;33m.\u001b[0m\u001b[0mmean\u001b[0m\u001b[1;33m(\u001b[0m\u001b[1;33m)\u001b[0m\u001b[1;33m)\u001b[0m\u001b[1;33m\u001b[0m\u001b[1;33m\u001b[0m\u001b[0m\n\u001b[0m\u001b[0;32m    339\u001b[0m \u001b[1;33m\u001b[0m\u001b[0m\n\u001b[0;32m    340\u001b[0m     \u001b[1;31m# Add row for overall statistics\u001b[0m\u001b[1;33m\u001b[0m\u001b[1;33m\u001b[0m\u001b[1;33m\u001b[0m\u001b[0m\n",
      "\u001b[1;32m~\\Anaconda3\\lib\\site-packages\\pandas\\core\\groupby\\groupby.py\u001b[0m in \u001b[0;36mapply\u001b[1;34m(self, func, *args, **kwargs)\u001b[0m\n\u001b[0;32m    687\u001b[0m         \u001b[1;32mwith\u001b[0m \u001b[0moption_context\u001b[0m\u001b[1;33m(\u001b[0m\u001b[1;34m'mode.chained_assignment'\u001b[0m\u001b[1;33m,\u001b[0m \u001b[1;32mNone\u001b[0m\u001b[1;33m)\u001b[0m\u001b[1;33m:\u001b[0m\u001b[1;33m\u001b[0m\u001b[1;33m\u001b[0m\u001b[0m\n\u001b[0;32m    688\u001b[0m             \u001b[1;32mtry\u001b[0m\u001b[1;33m:\u001b[0m\u001b[1;33m\u001b[0m\u001b[1;33m\u001b[0m\u001b[0m\n\u001b[1;32m--> 689\u001b[1;33m                 \u001b[0mresult\u001b[0m \u001b[1;33m=\u001b[0m \u001b[0mself\u001b[0m\u001b[1;33m.\u001b[0m\u001b[0m_python_apply_general\u001b[0m\u001b[1;33m(\u001b[0m\u001b[0mf\u001b[0m\u001b[1;33m)\u001b[0m\u001b[1;33m\u001b[0m\u001b[1;33m\u001b[0m\u001b[0m\n\u001b[0m\u001b[0;32m    690\u001b[0m             \u001b[1;32mexcept\u001b[0m \u001b[0mException\u001b[0m\u001b[1;33m:\u001b[0m\u001b[1;33m\u001b[0m\u001b[1;33m\u001b[0m\u001b[0m\n\u001b[0;32m    691\u001b[0m \u001b[1;33m\u001b[0m\u001b[0m\n",
      "\u001b[1;32m~\\Anaconda3\\lib\\site-packages\\pandas\\core\\groupby\\groupby.py\u001b[0m in \u001b[0;36m_python_apply_general\u001b[1;34m(self, f)\u001b[0m\n\u001b[0;32m    705\u001b[0m     \u001b[1;32mdef\u001b[0m \u001b[0m_python_apply_general\u001b[0m\u001b[1;33m(\u001b[0m\u001b[0mself\u001b[0m\u001b[1;33m,\u001b[0m \u001b[0mf\u001b[0m\u001b[1;33m)\u001b[0m\u001b[1;33m:\u001b[0m\u001b[1;33m\u001b[0m\u001b[1;33m\u001b[0m\u001b[0m\n\u001b[0;32m    706\u001b[0m         keys, values, mutated = self.grouper.apply(f, self._selected_obj,\n\u001b[1;32m--> 707\u001b[1;33m                                                    self.axis)\n\u001b[0m\u001b[0;32m    708\u001b[0m \u001b[1;33m\u001b[0m\u001b[0m\n\u001b[0;32m    709\u001b[0m         return self._wrap_applied_output(\n",
      "\u001b[1;32m~\\Anaconda3\\lib\\site-packages\\pandas\\core\\groupby\\ops.py\u001b[0m in \u001b[0;36mapply\u001b[1;34m(self, f, data, axis)\u001b[0m\n\u001b[0;32m    172\u001b[0m                 hasattr(splitter, 'fast_apply') and axis == 0):\n\u001b[0;32m    173\u001b[0m             \u001b[1;32mtry\u001b[0m\u001b[1;33m:\u001b[0m\u001b[1;33m\u001b[0m\u001b[1;33m\u001b[0m\u001b[0m\n\u001b[1;32m--> 174\u001b[1;33m                 \u001b[0mvalues\u001b[0m\u001b[1;33m,\u001b[0m \u001b[0mmutated\u001b[0m \u001b[1;33m=\u001b[0m \u001b[0msplitter\u001b[0m\u001b[1;33m.\u001b[0m\u001b[0mfast_apply\u001b[0m\u001b[1;33m(\u001b[0m\u001b[0mf\u001b[0m\u001b[1;33m,\u001b[0m \u001b[0mgroup_keys\u001b[0m\u001b[1;33m)\u001b[0m\u001b[1;33m\u001b[0m\u001b[1;33m\u001b[0m\u001b[0m\n\u001b[0m\u001b[0;32m    175\u001b[0m                 \u001b[1;32mreturn\u001b[0m \u001b[0mgroup_keys\u001b[0m\u001b[1;33m,\u001b[0m \u001b[0mvalues\u001b[0m\u001b[1;33m,\u001b[0m \u001b[0mmutated\u001b[0m\u001b[1;33m\u001b[0m\u001b[1;33m\u001b[0m\u001b[0m\n\u001b[0;32m    176\u001b[0m             \u001b[1;32mexcept\u001b[0m \u001b[0mreduction\u001b[0m\u001b[1;33m.\u001b[0m\u001b[0mInvalidApply\u001b[0m\u001b[1;33m:\u001b[0m\u001b[1;33m\u001b[0m\u001b[1;33m\u001b[0m\u001b[0m\n",
      "\u001b[1;32m~\\Anaconda3\\lib\\site-packages\\pandas\\core\\groupby\\ops.py\u001b[0m in \u001b[0;36mfast_apply\u001b[1;34m(self, f, names)\u001b[0m\n\u001b[0;32m    856\u001b[0m         \u001b[0msdata\u001b[0m \u001b[1;33m=\u001b[0m \u001b[0mself\u001b[0m\u001b[1;33m.\u001b[0m\u001b[0m_get_sorted_data\u001b[0m\u001b[1;33m(\u001b[0m\u001b[1;33m)\u001b[0m\u001b[1;33m\u001b[0m\u001b[1;33m\u001b[0m\u001b[0m\n\u001b[0;32m    857\u001b[0m         results, mutated = reduction.apply_frame_axis0(sdata, f, names,\n\u001b[1;32m--> 858\u001b[1;33m                                                        starts, ends)\n\u001b[0m\u001b[0;32m    859\u001b[0m \u001b[1;33m\u001b[0m\u001b[0m\n\u001b[0;32m    860\u001b[0m         \u001b[1;32mreturn\u001b[0m \u001b[0mresults\u001b[0m\u001b[1;33m,\u001b[0m \u001b[0mmutated\u001b[0m\u001b[1;33m\u001b[0m\u001b[1;33m\u001b[0m\u001b[0m\n",
      "\u001b[1;32mpandas/_libs/reduction.pyx\u001b[0m in \u001b[0;36mpandas._libs.reduction.apply_frame_axis0\u001b[1;34m()\u001b[0m\n",
      "\u001b[1;32m~\\dev\\SIF\\sif_research\\research_framework\\metrics.py\u001b[0m in \u001b[0;36m<lambda>\u001b[1;34m(x)\u001b[0m\n\u001b[0;32m    336\u001b[0m         np.abs(compute_turnover(x.values)), axis=1)))\n\u001b[0;32m    337\u001b[0m     \u001b[0mmetric_table\u001b[0m\u001b[1;33m[\u001b[0m\u001b[1;34m'long count'\u001b[0m\u001b[1;33m]\u001b[0m \u001b[1;33m=\u001b[0m \u001b[0myearly_holdings\u001b[0m\u001b[1;33m.\u001b[0m\u001b[0mapply\u001b[0m\u001b[1;33m(\u001b[0m\u001b[1;32mlambda\u001b[0m \u001b[0mx\u001b[0m\u001b[1;33m:\u001b[0m \u001b[0mlong_count\u001b[0m\u001b[1;33m(\u001b[0m\u001b[0mx\u001b[0m\u001b[1;33m)\u001b[0m\u001b[1;33m.\u001b[0m\u001b[0mmean\u001b[0m\u001b[1;33m(\u001b[0m\u001b[1;33m)\u001b[0m\u001b[1;33m)\u001b[0m\u001b[1;33m\u001b[0m\u001b[1;33m\u001b[0m\u001b[0m\n\u001b[1;32m--> 338\u001b[1;33m     \u001b[0mmetric_table\u001b[0m\u001b[1;33m[\u001b[0m\u001b[1;34m'short count'\u001b[0m\u001b[1;33m]\u001b[0m \u001b[1;33m=\u001b[0m \u001b[0myearly_holdings\u001b[0m\u001b[1;33m.\u001b[0m\u001b[0mapply\u001b[0m\u001b[1;33m(\u001b[0m\u001b[1;32mlambda\u001b[0m \u001b[0mx\u001b[0m\u001b[1;33m:\u001b[0m \u001b[0mshort_count\u001b[0m\u001b[1;33m(\u001b[0m\u001b[0mx\u001b[0m\u001b[1;33m)\u001b[0m\u001b[1;33m.\u001b[0m\u001b[0mmean\u001b[0m\u001b[1;33m(\u001b[0m\u001b[1;33m)\u001b[0m\u001b[1;33m)\u001b[0m\u001b[1;33m\u001b[0m\u001b[1;33m\u001b[0m\u001b[0m\n\u001b[0m\u001b[0;32m    339\u001b[0m \u001b[1;33m\u001b[0m\u001b[0m\n\u001b[0;32m    340\u001b[0m     \u001b[1;31m# Add row for overall statistics\u001b[0m\u001b[1;33m\u001b[0m\u001b[1;33m\u001b[0m\u001b[1;33m\u001b[0m\u001b[0m\n",
      "\u001b[1;32m~\\dev\\SIF\\sif_research\\research_framework\\metrics.py\u001b[0m in \u001b[0;36mshort_count\u001b[1;34m(holdings)\u001b[0m\n\u001b[0;32m     46\u001b[0m     \"\"\"\n\u001b[0;32m     47\u001b[0m     \u001b[1;31m# Count number of weights in each row less than 0\u001b[0m\u001b[1;33m\u001b[0m\u001b[1;33m\u001b[0m\u001b[1;33m\u001b[0m\u001b[0m\n\u001b[1;32m---> 48\u001b[1;33m     \u001b[0mshort_counts\u001b[0m \u001b[1;33m=\u001b[0m \u001b[0mholdings\u001b[0m\u001b[1;33m[\u001b[0m\u001b[0mholdings\u001b[0m \u001b[1;33m<\u001b[0m \u001b[1;36m0\u001b[0m\u001b[1;33m]\u001b[0m\u001b[1;33m.\u001b[0m\u001b[0mcount\u001b[0m\u001b[1;33m(\u001b[0m\u001b[0maxis\u001b[0m\u001b[1;33m=\u001b[0m\u001b[1;36m1\u001b[0m\u001b[1;33m)\u001b[0m\u001b[1;33m\u001b[0m\u001b[1;33m\u001b[0m\u001b[0m\n\u001b[0m\u001b[0;32m     49\u001b[0m     \u001b[1;32mreturn\u001b[0m \u001b[0mshort_counts\u001b[0m\u001b[1;33m\u001b[0m\u001b[1;33m\u001b[0m\u001b[0m\n\u001b[0;32m     50\u001b[0m \u001b[1;33m\u001b[0m\u001b[0m\n",
      "\u001b[1;32m~\\Anaconda3\\lib\\site-packages\\pandas\\core\\ops.py\u001b[0m in \u001b[0;36mf\u001b[1;34m(self, other)\u001b[0m\n\u001b[0;32m   2106\u001b[0m             \u001b[1;31m# straight boolean comparisons we want to allow all columns\u001b[0m\u001b[1;33m\u001b[0m\u001b[1;33m\u001b[0m\u001b[1;33m\u001b[0m\u001b[0m\n\u001b[0;32m   2107\u001b[0m             \u001b[1;31m# (regardless of dtype to pass thru) See #4537 for discussion.\u001b[0m\u001b[1;33m\u001b[0m\u001b[1;33m\u001b[0m\u001b[1;33m\u001b[0m\u001b[0m\n\u001b[1;32m-> 2108\u001b[1;33m             \u001b[0mres\u001b[0m \u001b[1;33m=\u001b[0m \u001b[0mself\u001b[0m\u001b[1;33m.\u001b[0m\u001b[0m_combine_const\u001b[0m\u001b[1;33m(\u001b[0m\u001b[0mother\u001b[0m\u001b[1;33m,\u001b[0m \u001b[0mfunc\u001b[0m\u001b[1;33m)\u001b[0m\u001b[1;33m\u001b[0m\u001b[1;33m\u001b[0m\u001b[0m\n\u001b[0m\u001b[0;32m   2109\u001b[0m             \u001b[1;32mreturn\u001b[0m \u001b[0mres\u001b[0m\u001b[1;33m.\u001b[0m\u001b[0mfillna\u001b[0m\u001b[1;33m(\u001b[0m\u001b[1;32mTrue\u001b[0m\u001b[1;33m)\u001b[0m\u001b[1;33m.\u001b[0m\u001b[0mastype\u001b[0m\u001b[1;33m(\u001b[0m\u001b[0mbool\u001b[0m\u001b[1;33m)\u001b[0m\u001b[1;33m\u001b[0m\u001b[1;33m\u001b[0m\u001b[0m\n\u001b[0;32m   2110\u001b[0m \u001b[1;33m\u001b[0m\u001b[0m\n",
      "\u001b[1;32m~\\Anaconda3\\lib\\site-packages\\pandas\\core\\frame.py\u001b[0m in \u001b[0;36m_combine_const\u001b[1;34m(self, other, func)\u001b[0m\n\u001b[0;32m   5118\u001b[0m     \u001b[1;32mdef\u001b[0m \u001b[0m_combine_const\u001b[0m\u001b[1;33m(\u001b[0m\u001b[0mself\u001b[0m\u001b[1;33m,\u001b[0m \u001b[0mother\u001b[0m\u001b[1;33m,\u001b[0m \u001b[0mfunc\u001b[0m\u001b[1;33m)\u001b[0m\u001b[1;33m:\u001b[0m\u001b[1;33m\u001b[0m\u001b[1;33m\u001b[0m\u001b[0m\n\u001b[0;32m   5119\u001b[0m         \u001b[1;32massert\u001b[0m \u001b[0mlib\u001b[0m\u001b[1;33m.\u001b[0m\u001b[0mis_scalar\u001b[0m\u001b[1;33m(\u001b[0m\u001b[0mother\u001b[0m\u001b[1;33m)\u001b[0m \u001b[1;32mor\u001b[0m \u001b[0mnp\u001b[0m\u001b[1;33m.\u001b[0m\u001b[0mndim\u001b[0m\u001b[1;33m(\u001b[0m\u001b[0mother\u001b[0m\u001b[1;33m)\u001b[0m \u001b[1;33m==\u001b[0m \u001b[1;36m0\u001b[0m\u001b[1;33m\u001b[0m\u001b[1;33m\u001b[0m\u001b[0m\n\u001b[1;32m-> 5120\u001b[1;33m         \u001b[1;32mreturn\u001b[0m \u001b[0mops\u001b[0m\u001b[1;33m.\u001b[0m\u001b[0mdispatch_to_series\u001b[0m\u001b[1;33m(\u001b[0m\u001b[0mself\u001b[0m\u001b[1;33m,\u001b[0m \u001b[0mother\u001b[0m\u001b[1;33m,\u001b[0m \u001b[0mfunc\u001b[0m\u001b[1;33m)\u001b[0m\u001b[1;33m\u001b[0m\u001b[1;33m\u001b[0m\u001b[0m\n\u001b[0m\u001b[0;32m   5121\u001b[0m \u001b[1;33m\u001b[0m\u001b[0m\n\u001b[0;32m   5122\u001b[0m     \u001b[1;32mdef\u001b[0m \u001b[0mcombine\u001b[0m\u001b[1;33m(\u001b[0m\u001b[0mself\u001b[0m\u001b[1;33m,\u001b[0m \u001b[0mother\u001b[0m\u001b[1;33m,\u001b[0m \u001b[0mfunc\u001b[0m\u001b[1;33m,\u001b[0m \u001b[0mfill_value\u001b[0m\u001b[1;33m=\u001b[0m\u001b[1;32mNone\u001b[0m\u001b[1;33m,\u001b[0m \u001b[0moverwrite\u001b[0m\u001b[1;33m=\u001b[0m\u001b[1;32mTrue\u001b[0m\u001b[1;33m)\u001b[0m\u001b[1;33m:\u001b[0m\u001b[1;33m\u001b[0m\u001b[1;33m\u001b[0m\u001b[0m\n",
      "\u001b[1;32m~\\Anaconda3\\lib\\site-packages\\pandas\\core\\ops.py\u001b[0m in \u001b[0;36mdispatch_to_series\u001b[1;34m(left, right, func, str_rep, axis)\u001b[0m\n\u001b[0;32m   1155\u001b[0m         \u001b[1;32mraise\u001b[0m \u001b[0mNotImplementedError\u001b[0m\u001b[1;33m(\u001b[0m\u001b[0mright\u001b[0m\u001b[1;33m)\u001b[0m\u001b[1;33m\u001b[0m\u001b[1;33m\u001b[0m\u001b[0m\n\u001b[0;32m   1156\u001b[0m \u001b[1;33m\u001b[0m\u001b[0m\n\u001b[1;32m-> 1157\u001b[1;33m     \u001b[0mnew_data\u001b[0m \u001b[1;33m=\u001b[0m \u001b[0mexpressions\u001b[0m\u001b[1;33m.\u001b[0m\u001b[0mevaluate\u001b[0m\u001b[1;33m(\u001b[0m\u001b[0mcolumn_op\u001b[0m\u001b[1;33m,\u001b[0m \u001b[0mstr_rep\u001b[0m\u001b[1;33m,\u001b[0m \u001b[0mleft\u001b[0m\u001b[1;33m,\u001b[0m \u001b[0mright\u001b[0m\u001b[1;33m)\u001b[0m\u001b[1;33m\u001b[0m\u001b[1;33m\u001b[0m\u001b[0m\n\u001b[0m\u001b[0;32m   1158\u001b[0m \u001b[1;33m\u001b[0m\u001b[0m\n\u001b[0;32m   1159\u001b[0m     \u001b[0mresult\u001b[0m \u001b[1;33m=\u001b[0m \u001b[0mleft\u001b[0m\u001b[1;33m.\u001b[0m\u001b[0m_constructor\u001b[0m\u001b[1;33m(\u001b[0m\u001b[0mnew_data\u001b[0m\u001b[1;33m,\u001b[0m \u001b[0mindex\u001b[0m\u001b[1;33m=\u001b[0m\u001b[0mleft\u001b[0m\u001b[1;33m.\u001b[0m\u001b[0mindex\u001b[0m\u001b[1;33m,\u001b[0m \u001b[0mcopy\u001b[0m\u001b[1;33m=\u001b[0m\u001b[1;32mFalse\u001b[0m\u001b[1;33m)\u001b[0m\u001b[1;33m\u001b[0m\u001b[1;33m\u001b[0m\u001b[0m\n",
      "\u001b[1;32m~\\Anaconda3\\lib\\site-packages\\pandas\\core\\computation\\expressions.py\u001b[0m in \u001b[0;36mevaluate\u001b[1;34m(op, op_str, a, b, use_numexpr, **eval_kwargs)\u001b[0m\n\u001b[0;32m    206\u001b[0m     \u001b[0muse_numexpr\u001b[0m \u001b[1;33m=\u001b[0m \u001b[0muse_numexpr\u001b[0m \u001b[1;32mand\u001b[0m \u001b[0m_bool_arith_check\u001b[0m\u001b[1;33m(\u001b[0m\u001b[0mop_str\u001b[0m\u001b[1;33m,\u001b[0m \u001b[0ma\u001b[0m\u001b[1;33m,\u001b[0m \u001b[0mb\u001b[0m\u001b[1;33m)\u001b[0m\u001b[1;33m\u001b[0m\u001b[1;33m\u001b[0m\u001b[0m\n\u001b[0;32m    207\u001b[0m     \u001b[1;32mif\u001b[0m \u001b[0muse_numexpr\u001b[0m\u001b[1;33m:\u001b[0m\u001b[1;33m\u001b[0m\u001b[1;33m\u001b[0m\u001b[0m\n\u001b[1;32m--> 208\u001b[1;33m         \u001b[1;32mreturn\u001b[0m \u001b[0m_evaluate\u001b[0m\u001b[1;33m(\u001b[0m\u001b[0mop\u001b[0m\u001b[1;33m,\u001b[0m \u001b[0mop_str\u001b[0m\u001b[1;33m,\u001b[0m \u001b[0ma\u001b[0m\u001b[1;33m,\u001b[0m \u001b[0mb\u001b[0m\u001b[1;33m,\u001b[0m \u001b[1;33m**\u001b[0m\u001b[0meval_kwargs\u001b[0m\u001b[1;33m)\u001b[0m\u001b[1;33m\u001b[0m\u001b[1;33m\u001b[0m\u001b[0m\n\u001b[0m\u001b[0;32m    209\u001b[0m     \u001b[1;32mreturn\u001b[0m \u001b[0m_evaluate_standard\u001b[0m\u001b[1;33m(\u001b[0m\u001b[0mop\u001b[0m\u001b[1;33m,\u001b[0m \u001b[0mop_str\u001b[0m\u001b[1;33m,\u001b[0m \u001b[0ma\u001b[0m\u001b[1;33m,\u001b[0m \u001b[0mb\u001b[0m\u001b[1;33m)\u001b[0m\u001b[1;33m\u001b[0m\u001b[1;33m\u001b[0m\u001b[0m\n\u001b[0;32m    210\u001b[0m \u001b[1;33m\u001b[0m\u001b[0m\n",
      "\u001b[1;32m~\\Anaconda3\\lib\\site-packages\\pandas\\core\\computation\\expressions.py\u001b[0m in \u001b[0;36m_evaluate_numexpr\u001b[1;34m(op, op_str, a, b, truediv, reversed, **eval_kwargs)\u001b[0m\n\u001b[0;32m    121\u001b[0m \u001b[1;33m\u001b[0m\u001b[0m\n\u001b[0;32m    122\u001b[0m     \u001b[1;32mif\u001b[0m \u001b[0mresult\u001b[0m \u001b[1;32mis\u001b[0m \u001b[1;32mNone\u001b[0m\u001b[1;33m:\u001b[0m\u001b[1;33m\u001b[0m\u001b[1;33m\u001b[0m\u001b[0m\n\u001b[1;32m--> 123\u001b[1;33m         \u001b[0mresult\u001b[0m \u001b[1;33m=\u001b[0m \u001b[0m_evaluate_standard\u001b[0m\u001b[1;33m(\u001b[0m\u001b[0mop\u001b[0m\u001b[1;33m,\u001b[0m \u001b[0mop_str\u001b[0m\u001b[1;33m,\u001b[0m \u001b[0ma\u001b[0m\u001b[1;33m,\u001b[0m \u001b[0mb\u001b[0m\u001b[1;33m)\u001b[0m\u001b[1;33m\u001b[0m\u001b[1;33m\u001b[0m\u001b[0m\n\u001b[0m\u001b[0;32m    124\u001b[0m \u001b[1;33m\u001b[0m\u001b[0m\n\u001b[0;32m    125\u001b[0m     \u001b[1;32mreturn\u001b[0m \u001b[0mresult\u001b[0m\u001b[1;33m\u001b[0m\u001b[1;33m\u001b[0m\u001b[0m\n",
      "\u001b[1;32m~\\Anaconda3\\lib\\site-packages\\pandas\\core\\computation\\expressions.py\u001b[0m in \u001b[0;36m_evaluate_standard\u001b[1;34m(op, op_str, a, b, **eval_kwargs)\u001b[0m\n\u001b[0;32m     66\u001b[0m         \u001b[0m_store_test_result\u001b[0m\u001b[1;33m(\u001b[0m\u001b[1;32mFalse\u001b[0m\u001b[1;33m)\u001b[0m\u001b[1;33m\u001b[0m\u001b[1;33m\u001b[0m\u001b[0m\n\u001b[0;32m     67\u001b[0m     \u001b[1;32mwith\u001b[0m \u001b[0mnp\u001b[0m\u001b[1;33m.\u001b[0m\u001b[0merrstate\u001b[0m\u001b[1;33m(\u001b[0m\u001b[0mall\u001b[0m\u001b[1;33m=\u001b[0m\u001b[1;34m'ignore'\u001b[0m\u001b[1;33m)\u001b[0m\u001b[1;33m:\u001b[0m\u001b[1;33m\u001b[0m\u001b[1;33m\u001b[0m\u001b[0m\n\u001b[1;32m---> 68\u001b[1;33m         \u001b[1;32mreturn\u001b[0m \u001b[0mop\u001b[0m\u001b[1;33m(\u001b[0m\u001b[0ma\u001b[0m\u001b[1;33m,\u001b[0m \u001b[0mb\u001b[0m\u001b[1;33m)\u001b[0m\u001b[1;33m\u001b[0m\u001b[1;33m\u001b[0m\u001b[0m\n\u001b[0m\u001b[0;32m     69\u001b[0m \u001b[1;33m\u001b[0m\u001b[0m\n\u001b[0;32m     70\u001b[0m \u001b[1;33m\u001b[0m\u001b[0m\n",
      "\u001b[1;32m~\\Anaconda3\\lib\\site-packages\\pandas\\core\\ops.py\u001b[0m in \u001b[0;36mcolumn_op\u001b[1;34m(a, b)\u001b[0m\n\u001b[0;32m   1126\u001b[0m         \u001b[1;32mdef\u001b[0m \u001b[0mcolumn_op\u001b[0m\u001b[1;33m(\u001b[0m\u001b[0ma\u001b[0m\u001b[1;33m,\u001b[0m \u001b[0mb\u001b[0m\u001b[1;33m)\u001b[0m\u001b[1;33m:\u001b[0m\u001b[1;33m\u001b[0m\u001b[1;33m\u001b[0m\u001b[0m\n\u001b[0;32m   1127\u001b[0m             return {i: func(a.iloc[:, i], b)\n\u001b[1;32m-> 1128\u001b[1;33m                     for i in range(len(a.columns))}\n\u001b[0m\u001b[0;32m   1129\u001b[0m \u001b[1;33m\u001b[0m\u001b[0m\n\u001b[0;32m   1130\u001b[0m     \u001b[1;32melif\u001b[0m \u001b[0misinstance\u001b[0m\u001b[1;33m(\u001b[0m\u001b[0mright\u001b[0m\u001b[1;33m,\u001b[0m \u001b[0mABCDataFrame\u001b[0m\u001b[1;33m)\u001b[0m\u001b[1;33m:\u001b[0m\u001b[1;33m\u001b[0m\u001b[1;33m\u001b[0m\u001b[0m\n",
      "\u001b[1;32m~\\Anaconda3\\lib\\site-packages\\pandas\\core\\ops.py\u001b[0m in \u001b[0;36m<dictcomp>\u001b[1;34m(.0)\u001b[0m\n\u001b[0;32m   1126\u001b[0m         \u001b[1;32mdef\u001b[0m \u001b[0mcolumn_op\u001b[0m\u001b[1;33m(\u001b[0m\u001b[0ma\u001b[0m\u001b[1;33m,\u001b[0m \u001b[0mb\u001b[0m\u001b[1;33m)\u001b[0m\u001b[1;33m:\u001b[0m\u001b[1;33m\u001b[0m\u001b[1;33m\u001b[0m\u001b[0m\n\u001b[0;32m   1127\u001b[0m             return {i: func(a.iloc[:, i], b)\n\u001b[1;32m-> 1128\u001b[1;33m                     for i in range(len(a.columns))}\n\u001b[0m\u001b[0;32m   1129\u001b[0m \u001b[1;33m\u001b[0m\u001b[0m\n\u001b[0;32m   1130\u001b[0m     \u001b[1;32melif\u001b[0m \u001b[0misinstance\u001b[0m\u001b[1;33m(\u001b[0m\u001b[0mright\u001b[0m\u001b[1;33m,\u001b[0m \u001b[0mABCDataFrame\u001b[0m\u001b[1;33m)\u001b[0m\u001b[1;33m:\u001b[0m\u001b[1;33m\u001b[0m\u001b[1;33m\u001b[0m\u001b[0m\n",
      "\u001b[1;32m~\\Anaconda3\\lib\\site-packages\\pandas\\core\\indexing.py\u001b[0m in \u001b[0;36m__getitem__\u001b[1;34m(self, key)\u001b[0m\n\u001b[0;32m   1492\u001b[0m             \u001b[1;32mexcept\u001b[0m \u001b[1;33m(\u001b[0m\u001b[0mKeyError\u001b[0m\u001b[1;33m,\u001b[0m \u001b[0mIndexError\u001b[0m\u001b[1;33m,\u001b[0m \u001b[0mAttributeError\u001b[0m\u001b[1;33m)\u001b[0m\u001b[1;33m:\u001b[0m\u001b[1;33m\u001b[0m\u001b[1;33m\u001b[0m\u001b[0m\n\u001b[0;32m   1493\u001b[0m                 \u001b[1;32mpass\u001b[0m\u001b[1;33m\u001b[0m\u001b[1;33m\u001b[0m\u001b[0m\n\u001b[1;32m-> 1494\u001b[1;33m             \u001b[1;32mreturn\u001b[0m \u001b[0mself\u001b[0m\u001b[1;33m.\u001b[0m\u001b[0m_getitem_tuple\u001b[0m\u001b[1;33m(\u001b[0m\u001b[0mkey\u001b[0m\u001b[1;33m)\u001b[0m\u001b[1;33m\u001b[0m\u001b[1;33m\u001b[0m\u001b[0m\n\u001b[0m\u001b[0;32m   1495\u001b[0m         \u001b[1;32melse\u001b[0m\u001b[1;33m:\u001b[0m\u001b[1;33m\u001b[0m\u001b[1;33m\u001b[0m\u001b[0m\n\u001b[0;32m   1496\u001b[0m             \u001b[1;31m# we by definition only have the 0th axis\u001b[0m\u001b[1;33m\u001b[0m\u001b[1;33m\u001b[0m\u001b[1;33m\u001b[0m\u001b[0m\n",
      "\u001b[1;32m~\\Anaconda3\\lib\\site-packages\\pandas\\core\\indexing.py\u001b[0m in \u001b[0;36m_getitem_tuple\u001b[1;34m(self, tup)\u001b[0m\n\u001b[0;32m   2143\u001b[0m         \u001b[0mself\u001b[0m\u001b[1;33m.\u001b[0m\u001b[0m_has_valid_tuple\u001b[0m\u001b[1;33m(\u001b[0m\u001b[0mtup\u001b[0m\u001b[1;33m)\u001b[0m\u001b[1;33m\u001b[0m\u001b[1;33m\u001b[0m\u001b[0m\n\u001b[0;32m   2144\u001b[0m         \u001b[1;32mtry\u001b[0m\u001b[1;33m:\u001b[0m\u001b[1;33m\u001b[0m\u001b[1;33m\u001b[0m\u001b[0m\n\u001b[1;32m-> 2145\u001b[1;33m             \u001b[1;32mreturn\u001b[0m \u001b[0mself\u001b[0m\u001b[1;33m.\u001b[0m\u001b[0m_getitem_lowerdim\u001b[0m\u001b[1;33m(\u001b[0m\u001b[0mtup\u001b[0m\u001b[1;33m)\u001b[0m\u001b[1;33m\u001b[0m\u001b[1;33m\u001b[0m\u001b[0m\n\u001b[0m\u001b[0;32m   2146\u001b[0m         \u001b[1;32mexcept\u001b[0m \u001b[0mIndexingError\u001b[0m\u001b[1;33m:\u001b[0m\u001b[1;33m\u001b[0m\u001b[1;33m\u001b[0m\u001b[0m\n\u001b[0;32m   2147\u001b[0m             \u001b[1;32mpass\u001b[0m\u001b[1;33m\u001b[0m\u001b[1;33m\u001b[0m\u001b[0m\n",
      "\u001b[1;32m~\\Anaconda3\\lib\\site-packages\\pandas\\core\\indexing.py\u001b[0m in \u001b[0;36m_getitem_lowerdim\u001b[1;34m(self, tup)\u001b[0m\n\u001b[0;32m    986\u001b[0m         \u001b[1;32mfor\u001b[0m \u001b[0mi\u001b[0m\u001b[1;33m,\u001b[0m \u001b[0mkey\u001b[0m \u001b[1;32min\u001b[0m \u001b[0menumerate\u001b[0m\u001b[1;33m(\u001b[0m\u001b[0mtup\u001b[0m\u001b[1;33m)\u001b[0m\u001b[1;33m:\u001b[0m\u001b[1;33m\u001b[0m\u001b[1;33m\u001b[0m\u001b[0m\n\u001b[0;32m    987\u001b[0m             \u001b[1;32mif\u001b[0m \u001b[0mis_label_like\u001b[0m\u001b[1;33m(\u001b[0m\u001b[0mkey\u001b[0m\u001b[1;33m)\u001b[0m \u001b[1;32mor\u001b[0m \u001b[0misinstance\u001b[0m\u001b[1;33m(\u001b[0m\u001b[0mkey\u001b[0m\u001b[1;33m,\u001b[0m \u001b[0mtuple\u001b[0m\u001b[1;33m)\u001b[0m\u001b[1;33m:\u001b[0m\u001b[1;33m\u001b[0m\u001b[1;33m\u001b[0m\u001b[0m\n\u001b[1;32m--> 988\u001b[1;33m                 \u001b[0msection\u001b[0m \u001b[1;33m=\u001b[0m \u001b[0mself\u001b[0m\u001b[1;33m.\u001b[0m\u001b[0m_getitem_axis\u001b[0m\u001b[1;33m(\u001b[0m\u001b[0mkey\u001b[0m\u001b[1;33m,\u001b[0m \u001b[0maxis\u001b[0m\u001b[1;33m=\u001b[0m\u001b[0mi\u001b[0m\u001b[1;33m)\u001b[0m\u001b[1;33m\u001b[0m\u001b[1;33m\u001b[0m\u001b[0m\n\u001b[0m\u001b[0;32m    989\u001b[0m \u001b[1;33m\u001b[0m\u001b[0m\n\u001b[0;32m    990\u001b[0m                 \u001b[1;31m# we have yielded a scalar ?\u001b[0m\u001b[1;33m\u001b[0m\u001b[1;33m\u001b[0m\u001b[1;33m\u001b[0m\u001b[0m\n",
      "\u001b[1;32m~\\Anaconda3\\lib\\site-packages\\pandas\\core\\indexing.py\u001b[0m in \u001b[0;36m_getitem_axis\u001b[1;34m(self, key, axis)\u001b[0m\n\u001b[0;32m   2230\u001b[0m             \u001b[0mself\u001b[0m\u001b[1;33m.\u001b[0m\u001b[0m_validate_integer\u001b[0m\u001b[1;33m(\u001b[0m\u001b[0mkey\u001b[0m\u001b[1;33m,\u001b[0m \u001b[0maxis\u001b[0m\u001b[1;33m)\u001b[0m\u001b[1;33m\u001b[0m\u001b[1;33m\u001b[0m\u001b[0m\n\u001b[0;32m   2231\u001b[0m \u001b[1;33m\u001b[0m\u001b[0m\n\u001b[1;32m-> 2232\u001b[1;33m             \u001b[1;32mreturn\u001b[0m \u001b[0mself\u001b[0m\u001b[1;33m.\u001b[0m\u001b[0m_get_loc\u001b[0m\u001b[1;33m(\u001b[0m\u001b[0mkey\u001b[0m\u001b[1;33m,\u001b[0m \u001b[0maxis\u001b[0m\u001b[1;33m=\u001b[0m\u001b[0maxis\u001b[0m\u001b[1;33m)\u001b[0m\u001b[1;33m\u001b[0m\u001b[1;33m\u001b[0m\u001b[0m\n\u001b[0m\u001b[0;32m   2233\u001b[0m \u001b[1;33m\u001b[0m\u001b[0m\n\u001b[0;32m   2234\u001b[0m     \u001b[1;32mdef\u001b[0m \u001b[0m_convert_to_indexer\u001b[0m\u001b[1;33m(\u001b[0m\u001b[0mself\u001b[0m\u001b[1;33m,\u001b[0m \u001b[0mobj\u001b[0m\u001b[1;33m,\u001b[0m \u001b[0maxis\u001b[0m\u001b[1;33m=\u001b[0m\u001b[1;32mNone\u001b[0m\u001b[1;33m,\u001b[0m \u001b[0mis_setter\u001b[0m\u001b[1;33m=\u001b[0m\u001b[1;32mFalse\u001b[0m\u001b[1;33m)\u001b[0m\u001b[1;33m:\u001b[0m\u001b[1;33m\u001b[0m\u001b[1;33m\u001b[0m\u001b[0m\n",
      "\u001b[1;32m~\\Anaconda3\\lib\\site-packages\\pandas\\core\\indexing.py\u001b[0m in \u001b[0;36m_get_loc\u001b[1;34m(self, key, axis)\u001b[0m\n\u001b[0;32m    144\u001b[0m         \u001b[1;32mif\u001b[0m \u001b[0maxis\u001b[0m \u001b[1;32mis\u001b[0m \u001b[1;32mNone\u001b[0m\u001b[1;33m:\u001b[0m\u001b[1;33m\u001b[0m\u001b[1;33m\u001b[0m\u001b[0m\n\u001b[0;32m    145\u001b[0m             \u001b[0maxis\u001b[0m \u001b[1;33m=\u001b[0m \u001b[0mself\u001b[0m\u001b[1;33m.\u001b[0m\u001b[0maxis\u001b[0m\u001b[1;33m\u001b[0m\u001b[1;33m\u001b[0m\u001b[0m\n\u001b[1;32m--> 146\u001b[1;33m         \u001b[1;32mreturn\u001b[0m \u001b[0mself\u001b[0m\u001b[1;33m.\u001b[0m\u001b[0mobj\u001b[0m\u001b[1;33m.\u001b[0m\u001b[0m_ixs\u001b[0m\u001b[1;33m(\u001b[0m\u001b[0mkey\u001b[0m\u001b[1;33m,\u001b[0m \u001b[0maxis\u001b[0m\u001b[1;33m=\u001b[0m\u001b[0maxis\u001b[0m\u001b[1;33m)\u001b[0m\u001b[1;33m\u001b[0m\u001b[1;33m\u001b[0m\u001b[0m\n\u001b[0m\u001b[0;32m    147\u001b[0m \u001b[1;33m\u001b[0m\u001b[0m\n\u001b[0;32m    148\u001b[0m     \u001b[1;32mdef\u001b[0m \u001b[0m_slice\u001b[0m\u001b[1;33m(\u001b[0m\u001b[0mself\u001b[0m\u001b[1;33m,\u001b[0m \u001b[0mobj\u001b[0m\u001b[1;33m,\u001b[0m \u001b[0maxis\u001b[0m\u001b[1;33m=\u001b[0m\u001b[1;32mNone\u001b[0m\u001b[1;33m,\u001b[0m \u001b[0mkind\u001b[0m\u001b[1;33m=\u001b[0m\u001b[1;32mNone\u001b[0m\u001b[1;33m)\u001b[0m\u001b[1;33m:\u001b[0m\u001b[1;33m\u001b[0m\u001b[1;33m\u001b[0m\u001b[0m\n",
      "\u001b[1;32m~\\Anaconda3\\lib\\site-packages\\pandas\\core\\frame.py\u001b[0m in \u001b[0;36m_ixs\u001b[1;34m(self, i, axis)\u001b[0m\n\u001b[0;32m   2884\u001b[0m                 \u001b[1;32mif\u001b[0m \u001b[0mindex_len\u001b[0m \u001b[1;32mand\u001b[0m \u001b[1;32mnot\u001b[0m \u001b[0mlen\u001b[0m\u001b[1;33m(\u001b[0m\u001b[0mvalues\u001b[0m\u001b[1;33m)\u001b[0m\u001b[1;33m:\u001b[0m\u001b[1;33m\u001b[0m\u001b[1;33m\u001b[0m\u001b[0m\n\u001b[0;32m   2885\u001b[0m                     \u001b[0mvalues\u001b[0m \u001b[1;33m=\u001b[0m \u001b[0mnp\u001b[0m\u001b[1;33m.\u001b[0m\u001b[0marray\u001b[0m\u001b[1;33m(\u001b[0m\u001b[1;33m[\u001b[0m\u001b[0mnp\u001b[0m\u001b[1;33m.\u001b[0m\u001b[0mnan\u001b[0m\u001b[1;33m]\u001b[0m \u001b[1;33m*\u001b[0m \u001b[0mindex_len\u001b[0m\u001b[1;33m,\u001b[0m \u001b[0mdtype\u001b[0m\u001b[1;33m=\u001b[0m\u001b[0mobject\u001b[0m\u001b[1;33m)\u001b[0m\u001b[1;33m\u001b[0m\u001b[1;33m\u001b[0m\u001b[0m\n\u001b[1;32m-> 2886\u001b[1;33m                 \u001b[0mresult\u001b[0m \u001b[1;33m=\u001b[0m \u001b[0mself\u001b[0m\u001b[1;33m.\u001b[0m\u001b[0m_box_col_values\u001b[0m\u001b[1;33m(\u001b[0m\u001b[0mvalues\u001b[0m\u001b[1;33m,\u001b[0m \u001b[0mlabel\u001b[0m\u001b[1;33m)\u001b[0m\u001b[1;33m\u001b[0m\u001b[1;33m\u001b[0m\u001b[0m\n\u001b[0m\u001b[0;32m   2887\u001b[0m \u001b[1;33m\u001b[0m\u001b[0m\n\u001b[0;32m   2888\u001b[0m                 \u001b[1;31m# this is a cached value, mark it so\u001b[0m\u001b[1;33m\u001b[0m\u001b[1;33m\u001b[0m\u001b[1;33m\u001b[0m\u001b[0m\n",
      "\u001b[1;32m~\\Anaconda3\\lib\\site-packages\\pandas\\core\\frame.py\u001b[0m in \u001b[0;36m_box_col_values\u001b[1;34m(self, values, items)\u001b[0m\n\u001b[0;32m   3352\u001b[0m         \"\"\"\n\u001b[0;32m   3353\u001b[0m         \u001b[0mklass\u001b[0m \u001b[1;33m=\u001b[0m \u001b[0mself\u001b[0m\u001b[1;33m.\u001b[0m\u001b[0m_constructor_sliced\u001b[0m\u001b[1;33m\u001b[0m\u001b[1;33m\u001b[0m\u001b[0m\n\u001b[1;32m-> 3354\u001b[1;33m         \u001b[1;32mreturn\u001b[0m \u001b[0mklass\u001b[0m\u001b[1;33m(\u001b[0m\u001b[0mvalues\u001b[0m\u001b[1;33m,\u001b[0m \u001b[0mindex\u001b[0m\u001b[1;33m=\u001b[0m\u001b[0mself\u001b[0m\u001b[1;33m.\u001b[0m\u001b[0mindex\u001b[0m\u001b[1;33m,\u001b[0m \u001b[0mname\u001b[0m\u001b[1;33m=\u001b[0m\u001b[0mitems\u001b[0m\u001b[1;33m,\u001b[0m \u001b[0mfastpath\u001b[0m\u001b[1;33m=\u001b[0m\u001b[1;32mTrue\u001b[0m\u001b[1;33m)\u001b[0m\u001b[1;33m\u001b[0m\u001b[1;33m\u001b[0m\u001b[0m\n\u001b[0m\u001b[0;32m   3355\u001b[0m \u001b[1;33m\u001b[0m\u001b[0m\n\u001b[0;32m   3356\u001b[0m     \u001b[1;32mdef\u001b[0m \u001b[0m__setitem__\u001b[0m\u001b[1;33m(\u001b[0m\u001b[0mself\u001b[0m\u001b[1;33m,\u001b[0m \u001b[0mkey\u001b[0m\u001b[1;33m,\u001b[0m \u001b[0mvalue\u001b[0m\u001b[1;33m)\u001b[0m\u001b[1;33m:\u001b[0m\u001b[1;33m\u001b[0m\u001b[1;33m\u001b[0m\u001b[0m\n",
      "\u001b[1;32m~\\Anaconda3\\lib\\site-packages\\pandas\\core\\series.py\u001b[0m in \u001b[0;36m__init__\u001b[1;34m(self, data, index, dtype, name, copy, fastpath)\u001b[0m\n\u001b[0;32m    266\u001b[0m         \u001b[0mgeneric\u001b[0m\u001b[1;33m.\u001b[0m\u001b[0mNDFrame\u001b[0m\u001b[1;33m.\u001b[0m\u001b[0m__init__\u001b[0m\u001b[1;33m(\u001b[0m\u001b[0mself\u001b[0m\u001b[1;33m,\u001b[0m \u001b[0mdata\u001b[0m\u001b[1;33m,\u001b[0m \u001b[0mfastpath\u001b[0m\u001b[1;33m=\u001b[0m\u001b[1;32mTrue\u001b[0m\u001b[1;33m)\u001b[0m\u001b[1;33m\u001b[0m\u001b[1;33m\u001b[0m\u001b[0m\n\u001b[0;32m    267\u001b[0m \u001b[1;33m\u001b[0m\u001b[0m\n\u001b[1;32m--> 268\u001b[1;33m         \u001b[0mself\u001b[0m\u001b[1;33m.\u001b[0m\u001b[0mname\u001b[0m \u001b[1;33m=\u001b[0m \u001b[0mname\u001b[0m\u001b[1;33m\u001b[0m\u001b[1;33m\u001b[0m\u001b[0m\n\u001b[0m\u001b[0;32m    269\u001b[0m         \u001b[0mself\u001b[0m\u001b[1;33m.\u001b[0m\u001b[0m_set_axis\u001b[0m\u001b[1;33m(\u001b[0m\u001b[1;36m0\u001b[0m\u001b[1;33m,\u001b[0m \u001b[0mindex\u001b[0m\u001b[1;33m,\u001b[0m \u001b[0mfastpath\u001b[0m\u001b[1;33m=\u001b[0m\u001b[1;32mTrue\u001b[0m\u001b[1;33m)\u001b[0m\u001b[1;33m\u001b[0m\u001b[1;33m\u001b[0m\u001b[0m\n\u001b[0;32m    270\u001b[0m \u001b[1;33m\u001b[0m\u001b[0m\n",
      "\u001b[1;32m~\\Anaconda3\\lib\\site-packages\\pandas\\core\\generic.py\u001b[0m in \u001b[0;36m__setattr__\u001b[1;34m(self, name, value)\u001b[0m\n\u001b[0;32m   5079\u001b[0m             \u001b[0mobject\u001b[0m\u001b[1;33m.\u001b[0m\u001b[0m__getattribute__\u001b[0m\u001b[1;33m(\u001b[0m\u001b[0mself\u001b[0m\u001b[1;33m,\u001b[0m \u001b[0mname\u001b[0m\u001b[1;33m)\u001b[0m\u001b[1;33m\u001b[0m\u001b[1;33m\u001b[0m\u001b[0m\n\u001b[0;32m   5080\u001b[0m             \u001b[1;32mreturn\u001b[0m \u001b[0mobject\u001b[0m\u001b[1;33m.\u001b[0m\u001b[0m__setattr__\u001b[0m\u001b[1;33m(\u001b[0m\u001b[0mself\u001b[0m\u001b[1;33m,\u001b[0m \u001b[0mname\u001b[0m\u001b[1;33m,\u001b[0m \u001b[0mvalue\u001b[0m\u001b[1;33m)\u001b[0m\u001b[1;33m\u001b[0m\u001b[1;33m\u001b[0m\u001b[0m\n\u001b[1;32m-> 5081\u001b[1;33m         \u001b[1;32mexcept\u001b[0m \u001b[0mAttributeError\u001b[0m\u001b[1;33m:\u001b[0m\u001b[1;33m\u001b[0m\u001b[1;33m\u001b[0m\u001b[0m\n\u001b[0m\u001b[0;32m   5082\u001b[0m             \u001b[1;32mpass\u001b[0m\u001b[1;33m\u001b[0m\u001b[1;33m\u001b[0m\u001b[0m\n\u001b[0;32m   5083\u001b[0m \u001b[1;33m\u001b[0m\u001b[0m\n",
      "\u001b[1;31mKeyboardInterrupt\u001b[0m: "
     ]
    }
   ],
   "source": [
    "def test_diff_lookbacks(gain_lbs=[4], acc_lbs=[18]):\n",
    "    for gain_lb in gain_lbs:\n",
    "        for acc_lb in acc_lbs:\n",
    "            def momentum_alpha(day):\n",
    "                acceleration = rank(np.power((CLOSE[day - delay] / CLOSE[day - delay - acc_lb] - 1), 2))\n",
    "                weekly_gain = -rank(CLOSE[day - delay] - CLOSE[day - delay - gain_lb])\n",
    "\n",
    "                factor = weekly_gain + acceleration\n",
    "                return weight(factor, universe_filter_arr[day])\n",
    "            # run backtest, print the performance table and draw the chart\n",
    "            # For skew momentum\n",
    "            lookback = acc_lb\n",
    "            holdings = metrics.backtest(momentum_alpha, CLOSE.shape[0], universe_size, lookback)\n",
    "            daily_returns = metrics.daily_return(holdings[:-1], OPEN[lookback:] )\n",
    "            performance = metrics.generate_performance_table(daily_returns, holdings,\n",
    "                                                             dates=all_dates[lookback:-1],\n",
    "                                                            tickers=tickers)\n",
    "            print(f'Gain lb: {gain_lb}, Acc lb: {acc_lb}')\n",
    "            rets = performance['return'].iloc[5]\n",
    "            shp = performance['sharpe'].iloc[5]\n",
    "            srt = performance['sortino'].iloc[5]\n",
    "            trn_ovr = performance['turnover'].iloc[5]\n",
    "            print(f'Total returns: {rets} , Sharpe: {shp} , Sortino: {srt}, Turnover {trn_ovr}')\n",
    "\n",
    "            \n",
    "gain_lbs=[3, 4, 5, 6, 7, 8, 9, 10]\n",
    "acc_lbs=[10,12,13,14,15,16,17,18,20,25,30, 35, 40]\n",
    "test_diff_lookbacks(gain_lbs, acc_lbs)\n",
    "\n",
    "\n",
    "# pnl_df = pd.DataFrame(daily_returns.cumsum() * initial_investment,index = data['close'].iloc[lookback:-1].index, columns = ['alpha'])\n",
    "# chart = pnl_df.plot(grid=True,figsize=[12,8],linewidth=1,color='darkorange')\n"
   ]
  },
  {
   "cell_type": "code",
   "execution_count": 35,
   "metadata": {},
   "outputs": [],
   "source": [
    "def skew_momentum_alpha(day):\n",
    "    # Using the max daily return from the past 3 months to represent skew\n",
    "#     print(day)\n",
    "    skew_start = day - delay - 20\n",
    "    skew_end = day\n",
    "#     print(f'Skew start: {skew_start} , skew end: {skew_end}')\n",
    "    daily_rets = CLOSE[skew_start:skew_end] - OPEN[skew_start:skew_end]\n",
    "    \n",
    "    skew = rank(np.amax(daily_rets, axis=0))\n",
    "\n",
    "    # Using return from the past 3 months as momentum\n",
    "    momentum = rank(CLOSE[day - delay] / CLOSE[day - delay - 252])\n",
    "\n",
    "    # We believe that stocks with either high skew and negative momentum OR stocks with low skew and positive momentum are the stocks we want to long\n",
    "    # These stocks are said to have \"enhanced momentum\"\n",
    "    # High skew neg momentum signifies a stock that is currently undervalued?, as in its current pricing represents a negative outlier value and it will revert to the mean\n",
    "    # Low skew pos momentum signifies a stock that is currently performing well and appears to be performing around its average, therefore this stock is a good buy as \n",
    "    #    we expect it to continue on this trend\n",
    "\n",
    "    # Simple and likely nonoptimal way to try to find these stocks with mixed skew/momentum high/low or low/high is to add their ranked arrays together\n",
    "        # Side note, could weight the momentum vs. skew arrays differently to see if that changes anything\n",
    "    # Since the rankings are both equal, (rank assigns a percentile to each ticker), The combination of skew/momentum high/high will be closer to 2 and low/low will be closer to 0, \n",
    "    # so we want middling values\n",
    "\n",
    "    # In a simple effort to address this, we rank the values in the combined array of skew and momentum by each elements absolute difference from 1\n",
    "    # (i.e. -rank by abs diff to ensure that the lowest abs diff is ranked highest)\n",
    "#         combined = skew + momentum\n",
    "#     #     print(combined)\n",
    "#         factor = -rank(abs(combined - 1))\n",
    "#         return weight(factor, universe_filter_arr[day])\n",
    "\n",
    "    # Trying paper's approach for ranking\n",
    "    # Take stocks that are in the top quintile of skew and bottom quintile of momentum or in the bottom quintile of skew and top quintile of momentum\n",
    "    factor = np.zeros(len(skew))\n",
    "#     print(skew)\n",
    "#     print(momentum)\n",
    "    for i in range(0, len(skew)):\n",
    "        if((skew[i] >= .8 and momentum[i] <= .2) or (skew[i] <= .2 and momentum[i] >= .8)):\n",
    "            # Long the stock\n",
    "            factor[i] = abs(skew[i] - momentum[i])\n",
    "        else:\n",
    "            factor[i] = 0\n",
    "    # Inverting the factor gives much better returns???\n",
    "    # Did I get something backwards???\n",
    "    return weight(factor, universe_filter_arr[day])"
   ]
  },
  {
   "cell_type": "code",
   "execution_count": 14,
   "metadata": {
    "collapsed": true,
    "jupyter": {
     "outputs_hidden": true
    }
   },
   "outputs": [
    {
     "name": "stderr",
     "output_type": "stream",
     "text": [
      "C:\\Users\\erueb\\Anaconda3\\lib\\site-packages\\numpy\\core\\fromnumeric.py:56: FutureWarning: \n",
      "The current behaviour of 'Series.argmax' is deprecated, use 'idxmax'\n",
      "instead.\n",
      "The behavior of 'argmax' will be corrected to return the positional\n",
      "maximum in the future. For now, use 'series.values.argmax' or\n",
      "'np.argmax(np.array(values))' to get the position of the maximum\n",
      "row.\n",
      "  return getattr(obj, method)(*args, **kwds)\n"
     ]
    },
    {
     "name": "stdout",
     "output_type": "stream",
     "text": [
      "Gain lb: 3, Acc lb: 10\n",
      "Total returns: 0.19488975560502164 , Sharpe: 1.0734992428185743 , Sortino: 1.6154413928153628, Turnover 0.7808227605847979\n",
      "Gain lb: 3, Acc lb: 12\n",
      "Total returns: 0.1854971657153981 , Sharpe: 1.0241030610842483 , Sortino: 1.5432000146514735, Turnover 0.7556459231708186\n",
      "Gain lb: 3, Acc lb: 13\n",
      "Total returns: 0.17577622663339082 , Sharpe: 0.9664216142418761 , Sortino: 1.444622887150427, Turnover 0.747793227861756\n"
     ]
    },
    {
     "ename": "KeyboardInterrupt",
     "evalue": "",
     "output_type": "error",
     "traceback": [
      "\u001b[1;31m---------------------------------------------------------------------------\u001b[0m",
      "\u001b[1;31mKeyboardInterrupt\u001b[0m                         Traceback (most recent call last)",
      "\u001b[1;32m<ipython-input-14-4b88660f2957>\u001b[0m in \u001b[0;36m<module>\u001b[1;34m\u001b[0m\n\u001b[0;32m     26\u001b[0m \u001b[0mgain_lbs\u001b[0m\u001b[1;33m=\u001b[0m\u001b[1;33m[\u001b[0m\u001b[1;36m3\u001b[0m\u001b[1;33m,\u001b[0m \u001b[1;36m4\u001b[0m\u001b[1;33m,\u001b[0m \u001b[1;36m5\u001b[0m\u001b[1;33m,\u001b[0m \u001b[1;36m6\u001b[0m\u001b[1;33m,\u001b[0m \u001b[1;36m7\u001b[0m\u001b[1;33m,\u001b[0m \u001b[1;36m8\u001b[0m\u001b[1;33m,\u001b[0m \u001b[1;36m9\u001b[0m\u001b[1;33m,\u001b[0m \u001b[1;36m10\u001b[0m\u001b[1;33m]\u001b[0m\u001b[1;33m\u001b[0m\u001b[1;33m\u001b[0m\u001b[0m\n\u001b[0;32m     27\u001b[0m \u001b[0macc_lbs\u001b[0m\u001b[1;33m=\u001b[0m\u001b[1;33m[\u001b[0m\u001b[1;36m10\u001b[0m\u001b[1;33m,\u001b[0m\u001b[1;36m12\u001b[0m\u001b[1;33m,\u001b[0m\u001b[1;36m13\u001b[0m\u001b[1;33m,\u001b[0m\u001b[1;36m14\u001b[0m\u001b[1;33m,\u001b[0m\u001b[1;36m15\u001b[0m\u001b[1;33m,\u001b[0m\u001b[1;36m16\u001b[0m\u001b[1;33m,\u001b[0m\u001b[1;36m17\u001b[0m\u001b[1;33m,\u001b[0m\u001b[1;36m18\u001b[0m\u001b[1;33m,\u001b[0m\u001b[1;36m20\u001b[0m\u001b[1;33m,\u001b[0m\u001b[1;36m25\u001b[0m\u001b[1;33m,\u001b[0m\u001b[1;36m30\u001b[0m\u001b[1;33m,\u001b[0m \u001b[1;36m35\u001b[0m\u001b[1;33m,\u001b[0m \u001b[1;36m40\u001b[0m\u001b[1;33m]\u001b[0m\u001b[1;33m\u001b[0m\u001b[1;33m\u001b[0m\u001b[0m\n\u001b[1;32m---> 28\u001b[1;33m \u001b[0mtest_diff_lookbacks\u001b[0m\u001b[1;33m(\u001b[0m\u001b[0mgain_lbs\u001b[0m\u001b[1;33m,\u001b[0m \u001b[0macc_lbs\u001b[0m\u001b[1;33m)\u001b[0m\u001b[1;33m\u001b[0m\u001b[1;33m\u001b[0m\u001b[0m\n\u001b[0m\u001b[0;32m     29\u001b[0m \u001b[1;33m\u001b[0m\u001b[0m\n\u001b[0;32m     30\u001b[0m \u001b[1;33m\u001b[0m\u001b[0m\n",
      "\u001b[1;32m<ipython-input-13-fbcf5c993ff1>\u001b[0m in \u001b[0;36mtest_diff_lookbacks\u001b[1;34m(gain_lbs, acc_lbs)\u001b[0m\n\u001b[0;32m     11\u001b[0m             \u001b[1;31m# For skew momentum\u001b[0m\u001b[1;33m\u001b[0m\u001b[1;33m\u001b[0m\u001b[1;33m\u001b[0m\u001b[0m\n\u001b[0;32m     12\u001b[0m             \u001b[0mlookback\u001b[0m \u001b[1;33m=\u001b[0m \u001b[1;36m20\u001b[0m\u001b[1;33m\u001b[0m\u001b[1;33m\u001b[0m\u001b[0m\n\u001b[1;32m---> 13\u001b[1;33m             \u001b[0mholdings\u001b[0m \u001b[1;33m=\u001b[0m \u001b[0mmetrics\u001b[0m\u001b[1;33m.\u001b[0m\u001b[0mbacktest\u001b[0m\u001b[1;33m(\u001b[0m\u001b[0mmomentum_alpha\u001b[0m\u001b[1;33m,\u001b[0m \u001b[0mCLOSE\u001b[0m\u001b[1;33m.\u001b[0m\u001b[0mshape\u001b[0m\u001b[1;33m[\u001b[0m\u001b[1;36m0\u001b[0m\u001b[1;33m]\u001b[0m\u001b[1;33m,\u001b[0m \u001b[0muniverse_size\u001b[0m\u001b[1;33m,\u001b[0m \u001b[0mlookback\u001b[0m\u001b[1;33m)\u001b[0m\u001b[1;33m\u001b[0m\u001b[1;33m\u001b[0m\u001b[0m\n\u001b[0m\u001b[0;32m     14\u001b[0m             \u001b[0mdaily_returns\u001b[0m \u001b[1;33m=\u001b[0m \u001b[0mmetrics\u001b[0m\u001b[1;33m.\u001b[0m\u001b[0mdaily_return\u001b[0m\u001b[1;33m(\u001b[0m\u001b[0mholdings\u001b[0m\u001b[1;33m[\u001b[0m\u001b[1;33m:\u001b[0m\u001b[1;33m-\u001b[0m\u001b[1;36m1\u001b[0m\u001b[1;33m]\u001b[0m\u001b[1;33m,\u001b[0m \u001b[0mOPEN\u001b[0m\u001b[1;33m[\u001b[0m\u001b[0mlookback\u001b[0m\u001b[1;33m:\u001b[0m\u001b[1;33m]\u001b[0m \u001b[1;33m)\u001b[0m\u001b[1;33m\u001b[0m\u001b[1;33m\u001b[0m\u001b[0m\n\u001b[0;32m     15\u001b[0m             performance = metrics.generate_performance_table(daily_returns, holdings,\n",
      "\u001b[1;32m~\\dev\\SIF\\sif_research\\research_framework\\metrics.py\u001b[0m in \u001b[0;36mbacktest\u001b[1;34m(strategy, days, universe_size, lookback)\u001b[0m\n\u001b[0;32m    225\u001b[0m     \u001b[0mholdings\u001b[0m \u001b[1;33m=\u001b[0m \u001b[0mnp\u001b[0m\u001b[1;33m.\u001b[0m\u001b[0mempty\u001b[0m\u001b[1;33m(\u001b[0m\u001b[1;33m(\u001b[0m\u001b[0mdays\u001b[0m \u001b[1;33m-\u001b[0m \u001b[0mlookback\u001b[0m\u001b[1;33m,\u001b[0m \u001b[0muniverse_size\u001b[0m\u001b[1;33m)\u001b[0m\u001b[1;33m)\u001b[0m\u001b[1;33m\u001b[0m\u001b[1;33m\u001b[0m\u001b[0m\n\u001b[0;32m    226\u001b[0m     \u001b[1;32mfor\u001b[0m \u001b[0mday\u001b[0m \u001b[1;32min\u001b[0m \u001b[0mrange\u001b[0m\u001b[1;33m(\u001b[0m\u001b[0mlookback\u001b[0m\u001b[1;33m,\u001b[0m \u001b[0mdays\u001b[0m\u001b[1;33m)\u001b[0m\u001b[1;33m:\u001b[0m\u001b[1;33m\u001b[0m\u001b[1;33m\u001b[0m\u001b[0m\n\u001b[1;32m--> 227\u001b[1;33m         \u001b[0mday_holdings\u001b[0m \u001b[1;33m=\u001b[0m \u001b[0mstrategy\u001b[0m\u001b[1;33m(\u001b[0m\u001b[0mday\u001b[0m\u001b[1;33m)\u001b[0m\u001b[1;33m\u001b[0m\u001b[1;33m\u001b[0m\u001b[0m\n\u001b[0m\u001b[0;32m    228\u001b[0m         \u001b[1;31m# TODO: I think the error should be thrown in verify_weights() which can give a more descriptive error\u001b[0m\u001b[1;33m\u001b[0m\u001b[1;33m\u001b[0m\u001b[1;33m\u001b[0m\u001b[0m\n\u001b[0;32m    229\u001b[0m         \u001b[1;32mif\u001b[0m \u001b[0mverify_weights\u001b[0m\u001b[1;33m(\u001b[0m\u001b[0mday_holdings\u001b[0m\u001b[1;33m)\u001b[0m\u001b[1;33m:\u001b[0m\u001b[1;33m\u001b[0m\u001b[1;33m\u001b[0m\u001b[0m\n",
      "\u001b[1;32m<ipython-input-13-fbcf5c993ff1>\u001b[0m in \u001b[0;36mmomentum_alpha\u001b[1;34m(day)\u001b[0m\n\u001b[0;32m      3\u001b[0m         \u001b[1;32mfor\u001b[0m \u001b[0macc_lb\u001b[0m \u001b[1;32min\u001b[0m \u001b[0macc_lbs\u001b[0m\u001b[1;33m:\u001b[0m\u001b[1;33m\u001b[0m\u001b[1;33m\u001b[0m\u001b[0m\n\u001b[0;32m      4\u001b[0m             \u001b[1;32mdef\u001b[0m \u001b[0mmomentum_alpha\u001b[0m\u001b[1;33m(\u001b[0m\u001b[0mday\u001b[0m\u001b[1;33m)\u001b[0m\u001b[1;33m:\u001b[0m\u001b[1;33m\u001b[0m\u001b[1;33m\u001b[0m\u001b[0m\n\u001b[1;32m----> 5\u001b[1;33m                 \u001b[0macceleration\u001b[0m \u001b[1;33m=\u001b[0m \u001b[0mrank\u001b[0m\u001b[1;33m(\u001b[0m\u001b[0mnp\u001b[0m\u001b[1;33m.\u001b[0m\u001b[0mpower\u001b[0m\u001b[1;33m(\u001b[0m\u001b[1;33m(\u001b[0m\u001b[0mCLOSE\u001b[0m\u001b[1;33m[\u001b[0m\u001b[0mday\u001b[0m \u001b[1;33m-\u001b[0m \u001b[0mdelay\u001b[0m\u001b[1;33m]\u001b[0m \u001b[1;33m/\u001b[0m \u001b[0mCLOSE\u001b[0m\u001b[1;33m[\u001b[0m\u001b[0mday\u001b[0m \u001b[1;33m-\u001b[0m \u001b[0mdelay\u001b[0m \u001b[1;33m-\u001b[0m \u001b[0macc_lb\u001b[0m\u001b[1;33m]\u001b[0m \u001b[1;33m-\u001b[0m \u001b[1;36m1\u001b[0m\u001b[1;33m)\u001b[0m\u001b[1;33m,\u001b[0m \u001b[1;36m2\u001b[0m\u001b[1;33m)\u001b[0m\u001b[1;33m)\u001b[0m\u001b[1;33m\u001b[0m\u001b[1;33m\u001b[0m\u001b[0m\n\u001b[0m\u001b[0;32m      6\u001b[0m                 \u001b[0mweekly_gain\u001b[0m \u001b[1;33m=\u001b[0m \u001b[1;33m-\u001b[0m\u001b[0mrank\u001b[0m\u001b[1;33m(\u001b[0m\u001b[0mCLOSE\u001b[0m\u001b[1;33m[\u001b[0m\u001b[0mday\u001b[0m \u001b[1;33m-\u001b[0m \u001b[0mdelay\u001b[0m\u001b[1;33m]\u001b[0m \u001b[1;33m-\u001b[0m \u001b[0mCLOSE\u001b[0m\u001b[1;33m[\u001b[0m\u001b[0mday\u001b[0m \u001b[1;33m-\u001b[0m \u001b[0mdelay\u001b[0m \u001b[1;33m-\u001b[0m \u001b[0mgain_lb\u001b[0m\u001b[1;33m]\u001b[0m\u001b[1;33m)\u001b[0m\u001b[1;33m\u001b[0m\u001b[1;33m\u001b[0m\u001b[0m\n\u001b[0;32m      7\u001b[0m \u001b[1;33m\u001b[0m\u001b[0m\n",
      "\u001b[1;32m~\\dev\\SIF\\sif_research\\research_framework\\operators.py\u001b[0m in \u001b[0;36mrank\u001b[1;34m(array)\u001b[0m\n\u001b[0;32m     37\u001b[0m         \u001b[1;32mreturn\u001b[0m \u001b[0marray\u001b[0m\u001b[1;33m\u001b[0m\u001b[1;33m\u001b[0m\u001b[0m\n\u001b[0;32m     38\u001b[0m \u001b[1;33m\u001b[0m\u001b[0m\n\u001b[1;32m---> 39\u001b[1;33m     \u001b[0mranks\u001b[0m \u001b[1;33m=\u001b[0m \u001b[0mmstats\u001b[0m\u001b[1;33m.\u001b[0m\u001b[0mrankdata\u001b[0m\u001b[1;33m(\u001b[0m\u001b[0mnp\u001b[0m\u001b[1;33m.\u001b[0m\u001b[0mma\u001b[0m\u001b[1;33m.\u001b[0m\u001b[0mmasked_invalid\u001b[0m\u001b[1;33m(\u001b[0m\u001b[0marray\u001b[0m\u001b[1;33m)\u001b[0m\u001b[1;33m)\u001b[0m\u001b[1;33m\u001b[0m\u001b[1;33m\u001b[0m\u001b[0m\n\u001b[0m\u001b[0;32m     40\u001b[0m     \u001b[0mranks\u001b[0m\u001b[1;33m[\u001b[0m\u001b[0mranks\u001b[0m \u001b[1;33m==\u001b[0m \u001b[1;36m0\u001b[0m\u001b[1;33m]\u001b[0m \u001b[1;33m=\u001b[0m \u001b[0mnp\u001b[0m\u001b[1;33m.\u001b[0m\u001b[0mnan\u001b[0m\u001b[1;33m\u001b[0m\u001b[1;33m\u001b[0m\u001b[0m\n\u001b[0;32m     41\u001b[0m     \u001b[1;32mif\u001b[0m \u001b[0mnp\u001b[0m\u001b[1;33m.\u001b[0m\u001b[0mnanmin\u001b[0m\u001b[1;33m(\u001b[0m\u001b[0mranks\u001b[0m\u001b[1;33m)\u001b[0m \u001b[1;33m!=\u001b[0m \u001b[0mnp\u001b[0m\u001b[1;33m.\u001b[0m\u001b[0mnanmax\u001b[0m\u001b[1;33m(\u001b[0m\u001b[0mranks\u001b[0m\u001b[1;33m)\u001b[0m\u001b[1;33m:\u001b[0m\u001b[1;33m\u001b[0m\u001b[1;33m\u001b[0m\u001b[0m\n",
      "\u001b[1;32m~\\Anaconda3\\lib\\site-packages\\scipy\\stats\\mstats_basic.py\u001b[0m in \u001b[0;36mrankdata\u001b[1;34m(data, axis, use_missing)\u001b[0m\n\u001b[0;32m    264\u001b[0m             \u001b[1;32mreturn\u001b[0m \u001b[0m_rank1d\u001b[0m\u001b[1;33m(\u001b[0m\u001b[0mdata\u001b[0m\u001b[1;33m.\u001b[0m\u001b[0mravel\u001b[0m\u001b[1;33m(\u001b[0m\u001b[1;33m)\u001b[0m\u001b[1;33m,\u001b[0m \u001b[0muse_missing\u001b[0m\u001b[1;33m)\u001b[0m\u001b[1;33m.\u001b[0m\u001b[0mreshape\u001b[0m\u001b[1;33m(\u001b[0m\u001b[0mdata\u001b[0m\u001b[1;33m.\u001b[0m\u001b[0mshape\u001b[0m\u001b[1;33m)\u001b[0m\u001b[1;33m\u001b[0m\u001b[1;33m\u001b[0m\u001b[0m\n\u001b[0;32m    265\u001b[0m         \u001b[1;32melse\u001b[0m\u001b[1;33m:\u001b[0m\u001b[1;33m\u001b[0m\u001b[1;33m\u001b[0m\u001b[0m\n\u001b[1;32m--> 266\u001b[1;33m             \u001b[1;32mreturn\u001b[0m \u001b[0m_rank1d\u001b[0m\u001b[1;33m(\u001b[0m\u001b[0mdata\u001b[0m\u001b[1;33m,\u001b[0m \u001b[0muse_missing\u001b[0m\u001b[1;33m)\u001b[0m\u001b[1;33m\u001b[0m\u001b[1;33m\u001b[0m\u001b[0m\n\u001b[0m\u001b[0;32m    267\u001b[0m     \u001b[1;32melse\u001b[0m\u001b[1;33m:\u001b[0m\u001b[1;33m\u001b[0m\u001b[1;33m\u001b[0m\u001b[0m\n\u001b[0;32m    268\u001b[0m         \u001b[1;32mreturn\u001b[0m \u001b[0mma\u001b[0m\u001b[1;33m.\u001b[0m\u001b[0mapply_along_axis\u001b[0m\u001b[1;33m(\u001b[0m\u001b[0m_rank1d\u001b[0m\u001b[1;33m,\u001b[0m\u001b[0maxis\u001b[0m\u001b[1;33m,\u001b[0m\u001b[0mdata\u001b[0m\u001b[1;33m,\u001b[0m\u001b[0muse_missing\u001b[0m\u001b[1;33m)\u001b[0m\u001b[1;33m.\u001b[0m\u001b[0mview\u001b[0m\u001b[1;33m(\u001b[0m\u001b[0mndarray\u001b[0m\u001b[1;33m)\u001b[0m\u001b[1;33m\u001b[0m\u001b[1;33m\u001b[0m\u001b[0m\n",
      "\u001b[1;32m~\\Anaconda3\\lib\\site-packages\\scipy\\stats\\mstats_basic.py\u001b[0m in \u001b[0;36m_rank1d\u001b[1;34m(data, use_missing)\u001b[0m\n\u001b[0;32m    253\u001b[0m             \u001b[0mrk\u001b[0m\u001b[1;33m[\u001b[0m\u001b[0midx\u001b[0m\u001b[1;33m[\u001b[0m\u001b[0mn\u001b[0m\u001b[1;33m:\u001b[0m\u001b[1;33m]\u001b[0m\u001b[1;33m]\u001b[0m \u001b[1;33m=\u001b[0m \u001b[1;36m0\u001b[0m\u001b[1;33m\u001b[0m\u001b[1;33m\u001b[0m\u001b[0m\n\u001b[0;32m    254\u001b[0m \u001b[1;33m\u001b[0m\u001b[0m\n\u001b[1;32m--> 255\u001b[1;33m         \u001b[0mrepeats\u001b[0m \u001b[1;33m=\u001b[0m \u001b[0mfind_repeats\u001b[0m\u001b[1;33m(\u001b[0m\u001b[0mdata\u001b[0m\u001b[1;33m.\u001b[0m\u001b[0mcopy\u001b[0m\u001b[1;33m(\u001b[0m\u001b[1;33m)\u001b[0m\u001b[1;33m)\u001b[0m\u001b[1;33m\u001b[0m\u001b[1;33m\u001b[0m\u001b[0m\n\u001b[0m\u001b[0;32m    256\u001b[0m         \u001b[1;32mfor\u001b[0m \u001b[0mr\u001b[0m \u001b[1;32min\u001b[0m \u001b[0mrepeats\u001b[0m\u001b[1;33m[\u001b[0m\u001b[1;36m0\u001b[0m\u001b[1;33m]\u001b[0m\u001b[1;33m:\u001b[0m\u001b[1;33m\u001b[0m\u001b[1;33m\u001b[0m\u001b[0m\n\u001b[0;32m    257\u001b[0m             \u001b[0mcondition\u001b[0m \u001b[1;33m=\u001b[0m \u001b[1;33m(\u001b[0m\u001b[0mdata\u001b[0m \u001b[1;33m==\u001b[0m \u001b[0mr\u001b[0m\u001b[1;33m)\u001b[0m\u001b[1;33m.\u001b[0m\u001b[0mfilled\u001b[0m\u001b[1;33m(\u001b[0m\u001b[1;32mFalse\u001b[0m\u001b[1;33m)\u001b[0m\u001b[1;33m\u001b[0m\u001b[1;33m\u001b[0m\u001b[0m\n",
      "\u001b[1;32m~\\Anaconda3\\lib\\site-packages\\scipy\\stats\\mstats_basic.py\u001b[0m in \u001b[0;36mfind_repeats\u001b[1;34m(arr)\u001b[0m\n\u001b[0;32m    167\u001b[0m     \u001b[1;32mif\u001b[0m \u001b[0mneed_copy\u001b[0m\u001b[1;33m:\u001b[0m\u001b[1;33m\u001b[0m\u001b[1;33m\u001b[0m\u001b[0m\n\u001b[0;32m    168\u001b[0m         \u001b[0mcompr\u001b[0m \u001b[1;33m=\u001b[0m \u001b[0mcompr\u001b[0m\u001b[1;33m.\u001b[0m\u001b[0mcopy\u001b[0m\u001b[1;33m(\u001b[0m\u001b[1;33m)\u001b[0m\u001b[1;33m\u001b[0m\u001b[1;33m\u001b[0m\u001b[0m\n\u001b[1;32m--> 169\u001b[1;33m     \u001b[1;32mreturn\u001b[0m \u001b[0m_find_repeats\u001b[0m\u001b[1;33m(\u001b[0m\u001b[0mcompr\u001b[0m\u001b[1;33m)\u001b[0m\u001b[1;33m\u001b[0m\u001b[1;33m\u001b[0m\u001b[0m\n\u001b[0m\u001b[0;32m    170\u001b[0m \u001b[1;33m\u001b[0m\u001b[0m\n\u001b[0;32m    171\u001b[0m \u001b[1;33m\u001b[0m\u001b[0m\n",
      "\u001b[1;32m~\\Anaconda3\\lib\\site-packages\\scipy\\stats\\_stats_mstats_common.py\u001b[0m in \u001b[0;36m_find_repeats\u001b[1;34m(arr)\u001b[0m\n\u001b[0;32m    261\u001b[0m     \u001b[1;31m# should we ditch it?\u001b[0m\u001b[1;33m\u001b[0m\u001b[1;33m\u001b[0m\u001b[1;33m\u001b[0m\u001b[0m\n\u001b[0;32m    262\u001b[0m     \u001b[0marr\u001b[0m \u001b[1;33m=\u001b[0m \u001b[0mnp\u001b[0m\u001b[1;33m.\u001b[0m\u001b[0masarray\u001b[0m\u001b[1;33m(\u001b[0m\u001b[0marr\u001b[0m\u001b[1;33m,\u001b[0m \u001b[0mnp\u001b[0m\u001b[1;33m.\u001b[0m\u001b[0mfloat64\u001b[0m\u001b[1;33m)\u001b[0m\u001b[1;33m.\u001b[0m\u001b[0mravel\u001b[0m\u001b[1;33m(\u001b[0m\u001b[1;33m)\u001b[0m\u001b[1;33m\u001b[0m\u001b[1;33m\u001b[0m\u001b[0m\n\u001b[1;32m--> 263\u001b[1;33m     \u001b[0marr\u001b[0m\u001b[1;33m.\u001b[0m\u001b[0msort\u001b[0m\u001b[1;33m(\u001b[0m\u001b[1;33m)\u001b[0m\u001b[1;33m\u001b[0m\u001b[1;33m\u001b[0m\u001b[0m\n\u001b[0m\u001b[0;32m    264\u001b[0m \u001b[1;33m\u001b[0m\u001b[0m\n\u001b[0;32m    265\u001b[0m     \u001b[1;31m# Taken from NumPy 1.9's np.unique.\u001b[0m\u001b[1;33m\u001b[0m\u001b[1;33m\u001b[0m\u001b[1;33m\u001b[0m\u001b[0m\n",
      "\u001b[1;31mKeyboardInterrupt\u001b[0m: "
     ]
    }
   ],
   "source": [
    "def test_diff_skew_momentum(gain_lbs=[4], acc_lbs=[18]):\n",
    "    def skew_momentum_alpha(day):\n",
    "        skew_start = day - delay - 20\n",
    "        skew_end = day\n",
    "        daily_rets = CLOSE[skew_start:skew_end] - OPEN[skew_start:skew_end]\n",
    "\n",
    "        skew = rank(np.amax(daily_rets, axis=0))\n",
    "\n",
    "        momentum = rank(CLOSE[day - delay] / CLOSE[day - delay - 252])\n",
    "        factor = np.zeros(len(skew))\n",
    "        for i in range(0, len(skew)):\n",
    "            if((skew[i] >= .8 and momentum[i] <= .2) or (skew[i] <= .2 and momentum[i] >= .8)):\n",
    "                factor[i] = abs(skew[i] - momentum[i])\n",
    "            else:\n",
    "                factor[i] = 0\n",
    "        return weight(factor, universe_filter_arr[day])\n",
    "    \n",
    "    \n",
    "    holdings = metrics.backtest(momentum_alpha, CLOSE.shape[0], universe_size, lookback)\n",
    "    daily_returns = metrics.daily_return(holdings[:-1], OPEN[lookback:] )\n",
    "    performance = metrics.generate_performance_table(daily_returns, holdings,\n",
    "                                                     dates=all_dates[lookback:-1],\n",
    "                                                    tickers=tickers)\n",
    "    print(f'Gain lb: {gain_lb}, Acc lb: {acc_lb}')\n",
    "    rets = performance['return'].iloc[5]\n",
    "    shp = performance['sharpe'].iloc[5]\n",
    "    srt = performance['sortino'].iloc[5]\n",
    "    trn_ovr = performance['turnover'].iloc[5]\n",
    "    print(f'Total returns: {rets} , Sharpe: {shp} , Sortino: {srt}, Turnover {trn_ovr}')\n",
    "\n",
    "            \n",
    "gain_lbs=[3, 4, 5, 6, 7, 8, 9, 10]\n",
    "acc_lbs=[10,12,13,14,15,16,17,18,20,25,30, 35, 40]\n",
    "test_diff_skew_momentum()\n",
    "\n",
    "\n",
    "# pnl_df = pd.DataFrame(daily_returns.cumsum() * initial_investment,index = data['close'].iloc[lookback:-1].index, columns = ['alpha'])\n",
    "# chart = pnl_df.plot(grid=True,figsize=[12,8],linewidth=1,color='darkorange')\n"
   ]
  },
  {
   "cell_type": "code",
   "execution_count": null,
   "metadata": {},
   "outputs": [],
   "source": [
    "# The idea is to include returns, change in returns, and change in change in returns as stats to look at \n",
    "def convex_concave(day):\n",
    "    "
   ]
  },
  {
   "cell_type": "code",
   "execution_count": 13,
   "metadata": {},
   "outputs": [],
   "source": [
    "def long_all(day):\n",
    "    all_long = np.zeros(318)\n",
    "    all_long.fill(1/300)\n",
    "    return all_long"
   ]
  },
  {
   "cell_type": "code",
   "execution_count": 34,
   "metadata": {
    "collapsed": true,
    "jupyter": {
     "outputs_hidden": true
    }
   },
   "outputs": [
    {
     "data": {
      "text/plain": [
       "array([ 0.        , -0.00180505, -0.00180505,  0.        ,  0.        ,\n",
       "       -0.00180505, -0.00180505, -0.00180505,  0.        , -0.00180505,\n",
       "       -0.00180505, -0.00180505,  0.        , -0.00180505,  0.        ,\n",
       "       -0.00180505, -0.00180505, -0.00180505,  0.        ,  0.        ,\n",
       "        0.        , -0.00180505, -0.00180505,  0.        , -0.00180505,\n",
       "       -0.00180505, -0.00180505, -0.00180505,  0.02173913, -0.00180505,\n",
       "       -0.00180505, -0.00180505,  0.        , -0.00180505,  0.        ,\n",
       "        0.        ,  0.        , -0.00180505, -0.00180505,  0.        ,\n",
       "       -0.00180505,  0.        ,  0.02173913, -0.00180505, -0.00180505,\n",
       "        0.        , -0.00180505, -0.00180505, -0.00180505,  0.02173913,\n",
       "        0.        , -0.00180505, -0.00180505, -0.00180505, -0.00180505,\n",
       "        0.02173913, -0.00180505, -0.00180505, -0.00180505, -0.00180505,\n",
       "       -0.00180505, -0.00180505, -0.00180505, -0.00180505, -0.00180505,\n",
       "        0.        , -0.00180505,  0.        ,  0.02173913, -0.00180505,\n",
       "        0.        ,  0.        , -0.00180505,  0.        ,  0.        ,\n",
       "       -0.00180505,  0.        , -0.00180505, -0.00180505, -0.00180505,\n",
       "       -0.00180505, -0.00180505, -0.00180505, -0.00180505,  0.02173913,\n",
       "        0.        ,  0.        , -0.00180505,  0.        , -0.00180505,\n",
       "        0.        , -0.00180505,  0.        , -0.00180505,  0.        ,\n",
       "        0.        ,  0.        , -0.00180505,  0.        , -0.00180505,\n",
       "       -0.00180505, -0.00180505,  0.        , -0.00180505, -0.00180505,\n",
       "       -0.00180505, -0.00180505, -0.00180505, -0.00180505, -0.00180505,\n",
       "        0.        , -0.00180505,  0.02173913, -0.00180505, -0.00180505,\n",
       "       -0.00180505, -0.00180505,  0.        , -0.00180505, -0.00180505,\n",
       "       -0.00180505,  0.02173913,  0.        , -0.00180505,  0.        ,\n",
       "       -0.00180505, -0.00180505, -0.00180505, -0.00180505, -0.00180505,\n",
       "        0.        , -0.00180505, -0.00180505,  0.        , -0.00180505,\n",
       "       -0.00180505,  0.        ,  0.        ,  0.        , -0.00180505,\n",
       "       -0.00180505, -0.00180505, -0.00180505,  0.        , -0.00180505,\n",
       "       -0.00180505,  0.        , -0.00180505,  0.        ,  0.        ,\n",
       "       -0.00180505, -0.00180505, -0.00180505, -0.00180505,  0.        ,\n",
       "       -0.00180505, -0.00180505, -0.00180505,  0.        , -0.00180505,\n",
       "       -0.00180505, -0.00180505,  0.        , -0.00180505,  0.        ,\n",
       "        0.        , -0.00180505,  0.02173913,  0.        , -0.00180505,\n",
       "        0.        , -0.00180505, -0.00180505,  0.        ,  0.        ,\n",
       "        0.        , -0.00180505, -0.00180505,  0.        ,  0.        ,\n",
       "       -0.00180505, -0.00180505, -0.00180505,  0.        , -0.00180505,\n",
       "       -0.00180505, -0.00180505, -0.00180505, -0.00180505,  0.        ,\n",
       "       -0.00180505, -0.00180505,  0.        ,  0.        , -0.00180505,\n",
       "       -0.00180505,  0.        , -0.00180505,  0.        , -0.00180505,\n",
       "       -0.00180505, -0.00180505,  0.        , -0.00180505, -0.00180505,\n",
       "        0.        , -0.00180505,  0.        , -0.00180505, -0.00180505,\n",
       "        0.        ,  0.        , -0.00180505,  0.        , -0.00180505,\n",
       "        0.02173913,  0.02173913,  0.        ,  0.        , -0.00180505,\n",
       "       -0.00180505,  0.02173913, -0.00180505, -0.00180505, -0.00180505,\n",
       "        0.        ,  0.02173913, -0.00180505, -0.00180505,  0.        ,\n",
       "       -0.00180505,  0.        , -0.00180505,  0.        , -0.00180505,\n",
       "       -0.00180505,  0.        ,  0.        , -0.00180505, -0.00180505,\n",
       "       -0.00180505, -0.00180505, -0.00180505,  0.        , -0.00180505,\n",
       "        0.        ,  0.        ,  0.        , -0.00180505, -0.00180505,\n",
       "       -0.00180505,  0.        ,  0.        , -0.00180505,  0.        ,\n",
       "        0.        , -0.00180505, -0.00180505,  0.02173913,  0.        ,\n",
       "       -0.00180505,  0.        ,  0.        , -0.00180505, -0.00180505,\n",
       "       -0.00180505, -0.00180505, -0.00180505, -0.00180505,  0.02173913,\n",
       "        0.        , -0.00180505,  0.        , -0.00180505,  0.        ,\n",
       "       -0.00180505,  0.        , -0.00180505, -0.00180505, -0.00180505,\n",
       "       -0.00180505, -0.00180505, -0.00180505, -0.00180505, -0.00180505,\n",
       "        0.        , -0.00180505,  0.        ,  0.02173913,  0.        ,\n",
       "        0.        , -0.00180505, -0.00180505, -0.00180505,  0.        ,\n",
       "       -0.00180505, -0.00180505,  0.        ,  0.        ,  0.        ,\n",
       "        0.        , -0.00180505, -0.00180505, -0.00180505, -0.00180505,\n",
       "        0.        ,  0.        ,  0.        , -0.00180505,  0.        ,\n",
       "        0.        ,  0.        ,  0.        ,  0.        , -0.00180505,\n",
       "       -0.00180505,  0.        , -0.00180505, -0.00180505,  0.        ,\n",
       "       -0.00180505, -0.00180505, -0.00180505, -0.00180505,  0.        ,\n",
       "       -0.00180505, -0.00180505, -0.00180505,  0.        ,  0.        ,\n",
       "        0.        ,  0.        , -0.00180505, -0.00180505, -0.00180505,\n",
       "       -0.00180505, -0.00180505, -0.00180505, -0.00180505,  0.        ,\n",
       "       -0.00180505, -0.00180505,  0.        , -0.00180505,  0.02173913,\n",
       "       -0.00180505,  0.02173913,  0.        ,  0.        , -0.00180505,\n",
       "       -0.00180505,  0.02173913, -0.00180505, -0.00180505,  0.        ,\n",
       "        0.        , -0.00180505, -0.00180505,  0.        ,  0.        ,\n",
       "        0.        ,  0.        ,  0.        ,  0.        , -0.00180505,\n",
       "        0.        , -0.00180505, -0.00180505, -0.00180505, -0.00180505,\n",
       "       -0.00180505, -0.00180505,  0.02173913,  0.        , -0.00180505,\n",
       "        0.02173913, -0.00180505,  0.        ,  0.02173913,  0.        ,\n",
       "        0.        , -0.00180505, -0.00180505, -0.00180505, -0.00180505,\n",
       "        0.        , -0.00180505,  0.        ,  0.        ,  0.        ,\n",
       "       -0.00180505,  0.        ,  0.        , -0.00180505,  0.        ,\n",
       "        0.        ,  0.        , -0.00180505, -0.00180505, -0.00180505,\n",
       "       -0.00180505, -0.00180505,  0.        , -0.00180505, -0.00180505,\n",
       "        0.        , -0.00180505, -0.00180505, -0.00180505, -0.00180505,\n",
       "       -0.00180505,  0.        , -0.00180505, -0.00180505,  0.        ,\n",
       "       -0.00180505,  0.        , -0.00180505, -0.00180505, -0.00180505,\n",
       "       -0.00180505,  0.        , -0.00180505,  0.        , -0.00180505,\n",
       "        0.        , -0.00180505,  0.        , -0.00180505, -0.00180505,\n",
       "        0.        ,  0.        ,  0.        , -0.00180505, -0.00180505,\n",
       "       -0.00180505, -0.00180505, -0.00180505, -0.00180505,  0.        ,\n",
       "       -0.00180505,  0.        ,  0.        , -0.00180505, -0.00180505,\n",
       "       -0.00180505,  0.02173913,  0.        , -0.00180505,  0.        ,\n",
       "       -0.00180505, -0.00180505, -0.00180505, -0.00180505,  0.        ,\n",
       "       -0.00180505,  0.        , -0.00180505,  0.        , -0.00180505,\n",
       "       -0.00180505,  0.        ,  0.        , -0.00180505,  0.        ,\n",
       "        0.        ,  0.        ,  0.        , -0.00180505,  0.        ,\n",
       "       -0.00180505, -0.00180505,  0.        ,  0.        ])"
      ]
     },
     "execution_count": 34,
     "metadata": {},
     "output_type": "execute_result"
    }
   ],
   "source": [
    "skew_momentum_alpha(346)"
   ]
  },
  {
   "cell_type": "markdown",
   "metadata": {},
   "source": [
    "\n",
    "## TOP 300 STOCKS\n",
    "### POSITIVE LOOKING NUMBERS ##\n",
    "\n",
    "Gain lb: 4, Acc lb: 18\n",
    "\n",
    "Total returns: 0.2382934958199166 , Sharpe: 1.2804265794353327 , Sortino: 1.9797770886920847, Turnover 0.6521009895640726\n",
    "\n",
    "Gain lb: 4, Acc lb: 20\n",
    "\n",
    "Total returns: 0.20310126440176596 , Sharpe: 1.0802058985497824 , Sortino: 1.6555270393783252, Turnover 0.640640241958349\n",
    "\n",
    "Gain lb: 4, Acc lb: 25\n",
    "\n",
    "Total returns: 0.21252520383274218 , Sharpe: 1.1269014278882434 , Sortino: 1.7166351306188292, Turnover 0.6196802022986341\n",
    "\n",
    "Gain lb: 4, Acc lb: 30\n",
    "\n",
    "Total returns: 0.23246141204533602 , Sharpe: 1.2382039738994808 , Sortino: 1.9045470095089285, Turnover 0.6023572866546534\n"
   ]
  },
  {
   "cell_type": "code",
   "execution_count": 80,
   "metadata": {},
   "outputs": [
    {
     "ename": "SyntaxError",
     "evalue": "unexpected EOF while parsing (<ipython-input-80-d8fb8771adf2>, line 3)",
     "output_type": "error",
     "traceback": [
      "\u001b[1;36m  File \u001b[1;32m\"<ipython-input-80-d8fb8771adf2>\"\u001b[1;36m, line \u001b[1;32m3\u001b[0m\n\u001b[1;33m    \u001b[0m\n\u001b[1;37m    ^\u001b[0m\n\u001b[1;31mSyntaxError\u001b[0m\u001b[1;31m:\u001b[0m unexpected EOF while parsing\n"
     ]
    }
   ],
   "source": [
    "# Can do something with close to open overnight\n",
    "def overnight(day):\n",
    "    "
   ]
  },
  {
   "cell_type": "markdown",
   "metadata": {},
   "source": [
    "### Some notes from meeting 2/24/2020 to possibly make alphas ### "
   ]
  },
  {
   "cell_type": "markdown",
   "metadata": {},
   "source": [
    " Momentum again from video from 2/24/2020\n",
    " \n",
    " Look at convexity and concavity\n",
    " \n",
    " y = Gain * t + Acc * x^2\n",
    " \n",
    " Accelerated vs decelerated gain\n",
    " \n",
    " Whether coefficients are positive or negative\n",
    " \n",
    " Approximating curves with polynomials"
   ]
  },
  {
   "cell_type": "markdown",
   "metadata": {},
   "source": [
    " Skewness and momentum\n",
    " Skewness as a signal for stocks that are overbrought\n",
    "\n",
    "Proxy for skew, max daily return from past 20 days/ past month (positive skew)\n",
    "    Could also do negative skew with minimum\n",
    "\n",
    "Assume return over trailing year as momentum\n",
    "\n",
    "More strongly positive skew and positive momentum represents weakened momentum\n",
    "\n",
    "Positive momentum and less skew is enhanced momentum\n",
    "\n",
    "Negativee momentum and positive skew is enhanced momentum\n",
    "\n",
    "Negative momenutum and less skew is weakened momentum"
   ]
  },
  {
   "cell_type": "markdown",
   "metadata": {},
   "source": [
    "Ideas for fundamanetal frm Hao\n",
    "   \n",
    "   Rank ( equity/ assets) <-- cross sectional\n",
    "   \n",
    "   ts_rank(-debt/equity, 252 <-- or whatever lookback) <-- ts_info\n",
    "   \n",
    "   abs(eps[day - 1] - eps[day - 2]) > 0 <-- check to see if comany updated financial statements\n",
    "   \n",
    "       Include mean reversion/momentum factor and combine with this to build an alpha"
   ]
  },
  {
   "cell_type": "code",
   "execution_count": 121,
   "metadata": {},
   "outputs": [
    {
     "name": "stdout",
     "output_type": "stream",
     "text": [
      "           return    sharpe   sortino  drawdown  turnover  long count  \\\n",
      "year                                                                    \n",
      "2012     0.056877  1.833256  3.054017 -0.016923  0.368168   29.034483   \n",
      "2013     0.029961  1.330725  2.031778 -0.020728  0.371379   28.861111   \n",
      "2014     0.049864  1.697847  2.695571 -0.022343  0.373420   29.083333   \n",
      "2015     0.028681  0.770785  1.143886 -0.021639  0.367005   29.353175   \n",
      "2016     0.073152  1.854104  3.063458 -0.029175  0.377151   29.318725   \n",
      "Overall  0.233732  1.462297  2.313722 -0.034715  0.371716   29.132258   \n",
      "\n",
      "         short count  \n",
      "year                  \n",
      "2012       21.409483  \n",
      "2013       22.214286  \n",
      "2014       21.611111  \n",
      "2015       20.496032  \n",
      "2016       22.386454  \n",
      "Overall    21.629839  \n"
     ]
    },
    {
     "data": {
      "image/png": "[encoded data removed]",
      "text/plain": [
       "<Figure size 864x576 with 1 Axes>"
      ]
     },
     "metadata": {
      "needs_background": "light"
     },
     "output_type": "display_data"
    }
   ],
   "source": [
    "# run backtest, print the performance table and draw the chart\n",
    "# For skew momentum\n",
    "lookback = 18\n",
    "holdings = metrics.backtest(momentum_alpha, CLOSE.shape[0], universe_size, lookback)\n",
    "daily_returns = metrics.daily_return(holdings[:-1], OPEN[lookback:] )\n",
    "performance = metrics.generate_performance_table(daily_returns, holdings,\n",
    "                                                 dates=all_dates[lookback:-1],\n",
    "                                                tickers=tickers)\n",
    "print(performance)\n",
    "# print(performance['return'].iloc[5])\n",
    "pnl_df = pd.DataFrame(daily_returns.cumsum() * initial_investment,index = data['close'].iloc[lookback:-1].index, columns = ['alpha'])\n",
    "chart = pnl_df.plot(grid=True,figsize=[12,8],linewidth=1,color='darkorange')\n"
   ]
  },
  {
   "cell_type": "code",
   "execution_count": null,
   "metadata": {
    "jupyter": {
     "source_hidden": true
    }
   },
   "outputs": [],
   "source": [
    "## PRODUCES SHARPE 1.45, TURNOVER .68\n",
    "\n",
    "# The idea of combining gain and acceleration to estimate future returns\n",
    "# If a stock has had positive returns and high momentum, then we expect that stock to continue performing well\n",
    "\n",
    "def momentum_alpha(day, gain_lb=4, acc_lb=18):\n",
    "    #TODO: Add smoothing of data to reduce turnover\n",
    "    #possible option, if delta of returns is not greater than .....\n",
    "    \n",
    "    # Weight acceleration more heavily by squaring it. Numbers below 1 will get smaller and numbers above 1 will get larger. The greater the distance from 1, the more the squaring will afffect it.\n",
    "    # This means that extremely weak momentum or extremely strong momentum will be accentuated by the squaring and will make us short or long the stock respectively.\n",
    "    \n",
    "    acceleration = rank(np.power((CLOSE[day - delay] / CLOSE[day - delay - acc_lb] - 1), 2))\n",
    "    gain = (CLOSE[day - delay - gain_lb] - CLOSE[day - delay]) / ( CLOSE[day - delay - gain_lb])\n",
    "#     print(gain)\n",
    "    acceleration[gain < 0] = 0\n",
    "#     print(gain)\n",
    "    weekly_gain = rank(gain)\n",
    "    \n",
    "    factor = weekly_gain + acceleration\n",
    "    return weight(factor, universe_filter_arr[day])"
   ]
  },
  {
   "cell_type": "code",
   "execution_count": 122,
   "metadata": {},
   "outputs": [],
   "source": [
    "# save backtest result\n",
    "if save_backtest_result == True:\n",
    "    if not os.path.exists(backtest_result_folder):\n",
    "        os.makedirs(backtest_result_folder)\n",
    "    pnl_df.to_csv(backtest_result_folder+'/'+'pnl.csv')\n",
    "    pd.DataFrame(holdings[:-1],index = data['close'].iloc[lookback:-1].index, columns = tickers).to_csv(backtest_result_folder+'/'+'holdings.csv')\n",
    "    chart.get_figure().savefig(backtest_result_folder+'/'+'performance.png')\n",
    "        "
   ]
  },
  {
   "cell_type": "code",
   "execution_count": null,
   "metadata": {},
   "outputs": [],
   "source": []
  }
 ],
 "metadata": {
  "kernelspec": {
   "display_name": "Python 3",
   "language": "python",
   "name": "python3"
  },
  "language_info": {
   "codemirror_mode": {
    "name": "ipython",
    "version": 3
   },
   "file_extension": ".py",
   "mimetype": "text/x-python",
   "name": "python",
   "nbconvert_exporter": "python",
   "pygments_lexer": "ipython3",
   "version": "3.7.3"
  }
 },
 "nbformat": 4,
 "nbformat_minor": 4
}
