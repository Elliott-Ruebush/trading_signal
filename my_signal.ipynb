{
 "cells": [
  {
   "cell_type": "code",
   "execution_count": 1,
   "metadata": {
    "collapsed": true,
    "jupyter": {
     "outputs_hidden": true,
     "source_hidden": true
    }
   },
   "outputs": [
    {
     "name": "stdout",
     "output_type": "stream",
     "text": [
      "Requirement already satisfied: psycopg2 in c:\\users\\erueb\\anaconda3\\lib\\site-packages (2.8.4)\n"
     ]
    }
   ],
   "source": [
    "!pip install psycopg2"
   ]
  },
  {
   "cell_type": "code",
   "execution_count": 4,
   "metadata": {
    "jupyter": {
     "source_hidden": true
    }
   },
   "outputs": [],
   "source": [
    "import sys\n",
    "sys.path.append('..\\\\sif_research\\\\data_utils')\n",
    "\n",
    "import sif_utils as su\n",
    "import pandas as pd\n",
    "import numpy as np\n",
    "import datetime\n",
    "import matplotlib.pyplot as plt\n",
    "import importlib\n",
    "import seaborn # optional\n",
    "seaborn.set() # optional\n",
    "plt.rcParams['figure.figsize'] = [10, 6] # increase figure size\n",
    "\n",
    "\n",
    "# Adds the research_framework folder to system path so python knows to look their for imports\n",
    "sys.path.append('..\\\\sif_research\\\\research_framework') # CHANGE FOR MAC OS\n",
    "\n",
    "import metrics"
   ]
  },
  {
   "cell_type": "markdown",
   "metadata": {
    "jupyter": {
     "source_hidden": true
    }
   },
   "source": [
    "## Use code from backtest example to load data ##"
   ]
  },
  {
   "cell_type": "code",
   "execution_count": 9,
   "metadata": {
    "jupyter": {
     "source_hidden": true
    }
   },
   "outputs": [],
   "source": [
    "# Global Variables / Research Environment Settings\n",
    "start_date = datetime.datetime(day=3, month=1, year=2012)\n",
    "end_date = datetime.datetime(day=1, month=1, year=2017)\n",
    "days = (end_date - start_date).days\n",
    "\n",
    "# Number of stocks to have in the universe\n",
    "top_N = 100"
   ]
  },
  {
   "cell_type": "code",
   "execution_count": 10,
   "metadata": {
    "jupyter": {
     "source_hidden": true
    }
   },
   "outputs": [],
   "source": [
    "# Grab all tickers in the universe\n",
    "tickers = sorted(su.get_universe_tickers(top_N, start_date, end_date))"
   ]
  },
  {
   "cell_type": "code",
   "execution_count": 11,
   "metadata": {
    "jupyter": {
     "source_hidden": true
    }
   },
   "outputs": [],
   "source": [
    "# Pull data needed for research and store into variables, or however\n",
    "# you want to handle your data.\n",
    "\n",
    "# This is the order of the parameters, once you are comfortable feel free\n",
    "# to not use paramater=foo and just do foo, bar, ...\n",
    "\n",
    "price_attrs = ['open', 'close', 'low', 'high']\n",
    "data = su.get_equity_data(tickers=tickers, start_date=start_date, end_date=end_date,\n",
    "                          attributes=price_attrs)"
   ]
  },
  {
   "cell_type": "code",
   "execution_count": 12,
   "metadata": {
    "jupyter": {
     "source_hidden": true
    }
   },
   "outputs": [],
   "source": [
    "# Convert from dictionary of dataframes to numpy arrays\n",
    "\n",
    "OPEN = data['open'].astype(float).values\n",
    "CLOSE = data['close'].astype(float).values\n",
    "LOW = data['low'].astype(float).values\n",
    "HIGH = data['high'].astype(float).values"
   ]
  },
  {
   "cell_type": "code",
   "execution_count": 13,
   "metadata": {
    "jupyter": {
     "source_hidden": true
    }
   },
   "outputs": [],
   "source": [
    "universe_filter = su.create_universe_filter(top_N, start_date, end_date, tickers, data['close'].index.values)"
   ]
  },
  {
   "cell_type": "code",
   "execution_count": 14,
   "metadata": {
    "jupyter": {
     "source_hidden": true
    }
   },
   "outputs": [],
   "source": [
    "# Fills all the tickers not in the universe at that point with 0\n",
    "FILLED_CLOSE = metrics.fill_nonuniverse(universe_filter.values, CLOSE, fill_val=0)"
   ]
  },
  {
   "cell_type": "markdown",
   "metadata": {
    "jupyter": {
     "source_hidden": true
    }
   },
   "source": [
    "## My strategy going here ##"
   ]
  },
  {
   "cell_type": "code",
   "execution_count": 15,
   "metadata": {
    "jupyter": {
     "source_hidden": true
    }
   },
   "outputs": [],
   "source": [
    "def strategy(day):\n",
    "    \"\"\"\n",
    "    Attempting to implement basic mean reversion strategy\n",
    "    :return: numpy array of shape: 1 x len(Universe) with equity holdings\n",
    "    \"\"\"\n",
    "   "
   ]
  },
  {
   "cell_type": "code",
   "execution_count": 16,
   "metadata": {
    "collapsed": true,
    "jupyter": {
     "outputs_hidden": true,
     "source_hidden": true
    }
   },
   "outputs": [
    {
     "ename": "NameError",
     "evalue": "name 'lookback' is not defined",
     "output_type": "error",
     "traceback": [
      "\u001b[1;31m---------------------------------------------------------------------------\u001b[0m",
      "\u001b[1;31mNameError\u001b[0m                                 Traceback (most recent call last)",
      "\u001b[1;32m<ipython-input-16-decb73e049c9>\u001b[0m in \u001b[0;36m<module>\u001b[1;34m\u001b[0m\n\u001b[0;32m      1\u001b[0m \u001b[1;31m# compute holdings\u001b[0m\u001b[1;33m\u001b[0m\u001b[1;33m\u001b[0m\u001b[1;33m\u001b[0m\u001b[0m\n\u001b[0;32m      2\u001b[0m \u001b[0muniverse_size\u001b[0m \u001b[1;33m=\u001b[0m \u001b[0mlen\u001b[0m\u001b[1;33m(\u001b[0m\u001b[0mtickers\u001b[0m\u001b[1;33m)\u001b[0m\u001b[1;33m\u001b[0m\u001b[1;33m\u001b[0m\u001b[0m\n\u001b[1;32m----> 3\u001b[1;33m \u001b[0mholdings\u001b[0m \u001b[1;33m=\u001b[0m \u001b[0mmetrics\u001b[0m\u001b[1;33m.\u001b[0m\u001b[0mbacktest\u001b[0m\u001b[1;33m(\u001b[0m\u001b[0mstrategy\u001b[0m\u001b[1;33m,\u001b[0m \u001b[0mCLOSE\u001b[0m\u001b[1;33m.\u001b[0m\u001b[0mshape\u001b[0m\u001b[1;33m[\u001b[0m\u001b[1;36m0\u001b[0m\u001b[1;33m]\u001b[0m\u001b[1;33m,\u001b[0m \u001b[0muniverse_size\u001b[0m\u001b[1;33m,\u001b[0m \u001b[0mlookback\u001b[0m\u001b[1;33m)\u001b[0m\u001b[1;33m\u001b[0m\u001b[1;33m\u001b[0m\u001b[0m\n\u001b[0m\u001b[0;32m      4\u001b[0m \u001b[0mprint\u001b[0m\u001b[1;33m(\u001b[0m\u001b[1;34mf'Holdings Shape: {holdings.shape}'\u001b[0m\u001b[1;33m)\u001b[0m\u001b[1;33m\u001b[0m\u001b[1;33m\u001b[0m\u001b[0m\n",
      "\u001b[1;31mNameError\u001b[0m: name 'lookback' is not defined"
     ]
    }
   ],
   "source": [
    "# compute holdings\n",
    "universe_size = len(tickers)\n",
    "holdings = metrics.backtest(strategy, CLOSE.shape[0], universe_size, lookback)\n",
    "print(f'Holdings Shape: {holdings.shape}')"
   ]
  },
  {
   "cell_type": "code",
   "execution_count": null,
   "metadata": {
    "jupyter": {
     "source_hidden": true
    }
   },
   "outputs": [],
   "source": []
  },
  {
   "cell_type": "code",
   "execution_count": null,
   "metadata": {
    "jupyter": {
     "source_hidden": true
    }
   },
   "outputs": [],
   "source": []
  },
  {
   "cell_type": "code",
   "execution_count": null,
   "metadata": {
    "jupyter": {
     "source_hidden": true
    }
   },
   "outputs": [],
   "source": []
  },
  {
   "cell_type": "markdown",
   "metadata": {},
   "source": [
    "## Starting again with stuff from Hao's notebook ##"
   ]
  },
  {
   "cell_type": "code",
   "execution_count": 4,
   "metadata": {},
   "outputs": [
    {
     "name": "stdout",
     "output_type": "stream",
     "text": [
      "Collecting psycopg2\n",
      "  Downloading https://files.pythonhosted.org/packages/1a/85/853f11abfccfd581b099e5ae5f2dd807cc2919745b13d14e565022fd821c/psycopg2-2.8.4-cp37-cp37m-win_amd64.whl (1.1MB)\n",
      "Installing collected packages: psycopg2\n",
      "Successfully installed psycopg2-2.8.4\n"
     ]
    }
   ],
   "source": [
    "!pip install psycopg2"
   ]
  },
  {
   "cell_type": "code",
   "execution_count": 4,
   "metadata": {},
   "outputs": [],
   "source": [
    "import sys\n",
    "import pandas as pd\n",
    "import numpy as np\n",
    "import datetime\n",
    "sys.path.append('..\\\\sif_research\\\\research_framework')\n",
    "import metrics\n",
    "import os\n",
    "from operators import rank, ts_rank, group_rank, weight\n",
    "\n",
    "\n",
    "sys.path.append('..\\\\sif_research\\\\data_utils')\n",
    "\n",
    "import sif_utils as su"
   ]
  },
  {
   "cell_type": "code",
   "execution_count": 19,
   "metadata": {},
   "outputs": [],
   "source": [
    "# Global Variables / Research Environment Settings\n",
    "start_date = datetime.datetime(day=1, month=1, year=2012)\n",
    "end_date = datetime.datetime(day=1, month=1, year=2017)\n",
    "days = (end_date - start_date).days\n",
    "lookback = 20\n",
    "delay = 1\n",
    "top_N = 300\n",
    "initial_investment = 1000\n",
    "save_backtest_result = True\n",
    "backtest_result_folder = './backtest_result'\n",
    "# Get all tickers\n",
    "tickers = sorted(su.get_universe_tickers(top_N, start_date, end_date))"
   ]
  },
  {
   "cell_type": "code",
   "execution_count": 20,
   "metadata": {},
   "outputs": [],
   "source": [
    "# Grab all tickers in the universe and sort them\n",
    "tickers = sorted(su.get_universe_tickers(top_N, start_date, end_date))\n",
    "universe_size = len(tickers)\n",
    "\n",
    "price_attrs = ['open', 'close', 'low', 'high', 'volume']\n",
    "data = su.get_equity_data(tickers=tickers, start_date=start_date,\n",
    "                          end_date=end_date, attributes=price_attrs)\n"
   ]
  },
  {
   "cell_type": "code",
   "execution_count": 21,
   "metadata": {},
   "outputs": [],
   "source": [
    "OPEN = data['open'].astype(float).values\n",
    "CLOSE = data['close'].astype(float).values\n",
    "LOW = data['low'].astype(float).values\n",
    "HIGH = data['high'].astype(float).values\n",
    "VOLUME = data['volume'].astype(float).values\n",
    "\n",
    "# Create universe filter table\n",
    "all_dates = data['close'].index.values\n",
    "universe_filter = su.create_universe_filter(top_N, start_date, end_date, tickers, all_dates)\n",
    "\n",
    "# Grab all tickers in the universe and sort them\n",
    "tickers = sorted(su.get_universe_tickers(top_N, start_date, end_date))\n",
    "universe_size = len(tickers)\n",
    "universe_filter_arr = universe_filter.values"
   ]
  },
  {
   "cell_type": "code",
   "execution_count": 22,
   "metadata": {},
   "outputs": [
    {
     "data": {
      "text/plain": [
       "dict_keys(['open', 'close', 'low', 'high', 'volume'])"
      ]
     },
     "execution_count": 22,
     "metadata": {},
     "output_type": "execute_result"
    }
   ],
   "source": [
    "data.keys()"
   ]
  },
  {
   "cell_type": "code",
   "execution_count": 23,
   "metadata": {},
   "outputs": [],
   "source": [
    "# Hao's example alpha\n",
    "def alpha(day):\n",
    "    # raw factor computed for all tickers (not necesarily the valid universe)\n",
    "    factor = -rank(CLOSE[day - delay] - CLOSE[day - delay - 4])\n",
    "    return weight(factor, universe_filter_arr[day])"
   ]
  },
  {
   "cell_type": "code",
   "execution_count": 75,
   "metadata": {},
   "outputs": [],
   "source": [
    "# The idea of combining gain and acceleration to estimate future returns\n",
    "# If a stock has had positive returns and is \n",
    "def momentum_alpha(day, gain_lb=4, acc_lb=10):\n",
    "    acceleration = rank(np.power((CLOSE[day - delay] / CLOSE[day - delay - acc_lb] - 1), 2))\n",
    "    weekly_gain = -rank(CLOSE[day - delay] - CLOSE[day - delay - gain_lb])\n",
    "    \n",
    "    factor = weekly_gain + acceleration\n",
    "    return weight(factor, universe_filter_arr[day])"
   ]
  },
  {
   "cell_type": "code",
   "execution_count": 73,
   "metadata": {},
   "outputs": [
    {
     "name": "stderr",
     "output_type": "stream",
     "text": [
      "C:\\Users\\erueb\\Anaconda3\\lib\\site-packages\\numpy\\core\\fromnumeric.py:56: FutureWarning: \n",
      "The current behaviour of 'Series.argmax' is deprecated, use 'idxmax'\n",
      "instead.\n",
      "The behavior of 'argmax' will be corrected to return the positional\n",
      "maximum in the future. For now, use 'series.values.argmax' or\n",
      "'np.argmax(np.array(values))' to get the position of the maximum\n",
      "row.\n",
      "  return getattr(obj, method)(*args, **kwds)\n"
     ]
    },
    {
     "name": "stdout",
     "output_type": "stream",
     "text": [
      "Gain lb: 3, Acc lb: 10\n",
      "Total returns: 0.19488975560502164 , Sharpe: 1.0734992428185743 , Sortino: 1.6154413928153628\n",
      "Gain lb: 3, Acc lb: 15\n",
      "Total returns: 0.16435377449834151 , Sharpe: 0.8956993459419518 , Sortino: 1.3409530178027533\n",
      "Gain lb: 3, Acc lb: 20\n",
      "Total returns: 0.17559301933684887 , Sharpe: 0.9511166054572013 , Sortino: 1.4366250162413785\n",
      "Gain lb: 3, Acc lb: 25\n",
      "Total returns: 0.1768346903252755 , Sharpe: 0.951898288975091 , Sortino: 1.4374969317077897\n",
      "Gain lb: 3, Acc lb: 30\n",
      "Total returns: 0.19609698898267897 , Sharpe: 1.0605290783632353 , Sortino: 1.611521827639315\n",
      "Gain lb: 4, Acc lb: 10\n",
      "Total returns: 0.2298375394863399 , Sharpe: 1.26441779283994 , Sortino: 1.9361689482485607\n",
      "Gain lb: 4, Acc lb: 15\n",
      "Total returns: 0.1888554823339615 , Sharpe: 1.0172101828709799 , Sortino: 1.5506024028563454\n",
      "Gain lb: 4, Acc lb: 20\n",
      "Total returns: 0.20310126440176596 , Sharpe: 1.0802058985497824 , Sortino: 1.6555270393783252\n",
      "Gain lb: 4, Acc lb: 25\n",
      "Total returns: 0.21252520383274218 , Sharpe: 1.1269014278882434 , Sortino: 1.7166351306188292\n",
      "Gain lb: 4, Acc lb: 30\n",
      "Total returns: 0.23246141204533602 , Sharpe: 1.2382039738994808 , Sortino: 1.9045470095089285\n",
      "Gain lb: 5, Acc lb: 10\n",
      "Total returns: 0.20172920156528462 , Sharpe: 1.0913754071680843 , Sortino: 1.6436934876003502\n",
      "Gain lb: 5, Acc lb: 15\n",
      "Total returns: 0.16503734553608013 , Sharpe: 0.8824700738252375 , Sortino: 1.3319536654461066\n",
      "Gain lb: 5, Acc lb: 20\n",
      "Total returns: 0.17991228303771456 , Sharpe: 0.9449740783374505 , Sortino: 1.4342401134766247\n",
      "Gain lb: 5, Acc lb: 25\n",
      "Total returns: 0.18754299816916403 , Sharpe: 0.9819722876797938 , Sortino: 1.4751271458015023\n",
      "Gain lb: 5, Acc lb: 30\n",
      "Total returns: 0.20611047278502692 , Sharpe: 1.0820437100082456 , Sortino: 1.6410663984443807\n",
      "Gain lb: 6, Acc lb: 10\n",
      "Total returns: 0.14997551755916105 , Sharpe: 0.7894481421893991 , Sortino: 1.1723954788530635\n",
      "Gain lb: 6, Acc lb: 15\n",
      "Total returns: 0.1207706237091396 , Sharpe: 0.6310702617843255 , Sortino: 0.9376691554878657\n",
      "Gain lb: 6, Acc lb: 20\n",
      "Total returns: 0.1372477733248085 , Sharpe: 0.7075143513602574 , Sortino: 1.0607098119904736\n",
      "Gain lb: 6, Acc lb: 25\n",
      "Total returns: 0.14684863733251136 , Sharpe: 0.7525626020811259 , Sortino: 1.1145589825533926\n",
      "Gain lb: 6, Acc lb: 30\n",
      "Total returns: 0.16232483686555854 , Sharpe: 0.833424627580136 , Sortino: 1.2482400554053992\n",
      "Gain lb: 7, Acc lb: 10\n",
      "Total returns: 0.14535969924615133 , Sharpe: 0.7610568217319552 , Sortino: 1.1326800644955506\n",
      "Gain lb: 7, Acc lb: 15\n",
      "Total returns: 0.11558625590119541 , Sharpe: 0.6024611500002613 , Sortino: 0.8994402764050268\n",
      "Gain lb: 7, Acc lb: 20\n",
      "Total returns: 0.13151735767423078 , Sharpe: 0.6746684034886538 , Sortino: 1.0165990883246165\n",
      "Gain lb: 7, Acc lb: 25\n",
      "Total returns: 0.14379472655445624 , Sharpe: 0.733968588279907 , Sortino: 1.0928222548614286\n",
      "Gain lb: 7, Acc lb: 30\n",
      "Total returns: 0.16019042915896037 , Sharpe: 0.821050137520157 , Sortino: 1.239033123609439\n",
      "Gain lb: 8, Acc lb: 10\n",
      "Total returns: 0.11527989520166083 , Sharpe: 0.5995735608960608 , Sortino: 0.8850995524253439\n",
      "Gain lb: 8, Acc lb: 15\n",
      "Total returns: 0.09030904222972165 , Sharpe: 0.4688630765749198 , Sortino: 0.6932249745721693\n",
      "Gain lb: 8, Acc lb: 20\n",
      "Total returns: 0.1049581791628906 , Sharpe: 0.534235588185237 , Sortino: 0.7956374626246256\n",
      "Gain lb: 8, Acc lb: 25\n",
      "Total returns: 0.11961159915953742 , Sharpe: 0.6068434780750891 , Sortino: 0.900035782124941\n",
      "Gain lb: 8, Acc lb: 30\n",
      "Total returns: 0.14062372004439802 , Sharpe: 0.7148068658507475 , Sortino: 1.0790570762566274\n"
     ]
    }
   ],
   "source": [
    "def test_diff_lookbacks(gain_lbs=[5], acc_lbs=[20]):\n",
    "    for gain_lb in gain_lbs:\n",
    "        for acc_lb in acc_lbs:\n",
    "            def momentum_alpha(day):\n",
    "                acceleration = rank(np.power((CLOSE[day - delay] / CLOSE[day - delay - acc_lb] - 1), 2))\n",
    "                weekly_gain = -rank(CLOSE[day - delay] - CLOSE[day - delay - gain_lb])\n",
    "\n",
    "                factor = weekly_gain + acceleration\n",
    "                return weight(factor, universe_filter_arr[day])\n",
    "            # run backtest, print the performance table and draw the chart\n",
    "            # For skew momentum\n",
    "            lookback = 20\n",
    "            holdings = metrics.backtest(momentum_alpha, CLOSE.shape[0], universe_size, lookback)\n",
    "            daily_returns = metrics.daily_return(holdings[:-1], OPEN[lookback:] )\n",
    "            performance = metrics.generate_performance_table(daily_returns, holdings,\n",
    "                                                             dates=all_dates[lookback:-1],\n",
    "                                                            tickers=tickers)\n",
    "            print(f'Gain lb: {gain_lb}, Acc lb: {acc_lb}')\n",
    "            rets = performance['return'].iloc[5]\n",
    "            shp = performance['sharpe'].iloc[5]\n",
    "            srt = performance['sortino'].iloc[5]\n",
    "            print(f'Total returns: {rets} , Sharpe: {shp} , Sortino: {srt}')\n",
    "\n",
    "            \n",
    "gain_lbs=[3, 4, 5, 6, 7, 8]\n",
    "acc_lbs=[10,15,20,25,30]\n",
    "test_diff_lookbacks(gain_lbs, acc_lbs)\n",
    "\n",
    "\n",
    "# pnl_df = pd.DataFrame(daily_returns.cumsum() * initial_investment,index = data['close'].iloc[lookback:-1].index, columns = ['alpha'])\n",
    "# chart = pnl_df.plot(grid=True,figsize=[12,8],linewidth=1,color='darkorange')\n"
   ]
  },
  {
   "cell_type": "code",
   "execution_count": 35,
   "metadata": {},
   "outputs": [],
   "source": [
    "def skew_momentum_alpha(day):\n",
    "    # Using the max daily return from the past 3 months to represent skew\n",
    "#     print(day)\n",
    "    skew_start = day - delay - 20\n",
    "    skew_end = day\n",
    "#     print(f'Skew start: {skew_start} , skew end: {skew_end}')\n",
    "    daily_rets = CLOSE[skew_start:skew_end] - OPEN[skew_start:skew_end]\n",
    "    \n",
    "    skew = rank(np.amax(daily_rets, axis=0))\n",
    "\n",
    "    # Using return from the past 3 months as momentum\n",
    "    momentum = rank(CLOSE[day - delay] / CLOSE[day - delay - 252])\n",
    "\n",
    "    # We believe that stocks with either high skew and negative momentum OR stocks with low skew and positive momentum are the stocks we want to long\n",
    "    # These stocks are said to have \"enhanced momentum\"\n",
    "    # High skew neg momentum signifies a stock that is currently undervalued?, as in its current pricing represents a negative outlier value and it will revert to the mean\n",
    "    # Low skew pos momentum signifies a stock that is currently performing well and appears to be performing around its average, therefore this stock is a good buy as \n",
    "    #    we expect it to continue on this trend\n",
    "\n",
    "    # Simple and likely nonoptimal way to try to find these stocks with mixed skew/momentum high/low or low/high is to add their ranked arrays together\n",
    "        # Side note, could weight the momentum vs. skew arrays differently to see if that changes anything\n",
    "    # Since the rankings are both equal, (rank assigns a percentile to each ticker), The combination of skew/momentum high/high will be closer to 2 and low/low will be closer to 0, \n",
    "    # so we want middling values\n",
    "\n",
    "    # In a simple effort to address this, we rank the values in the combined array of skew and momentum by each elements absolute difference from 1\n",
    "    # (i.e. -rank by abs diff to ensure that the lowest abs diff is ranked highest)\n",
    "#         combined = skew + momentum\n",
    "#     #     print(combined)\n",
    "#         factor = -rank(abs(combined - 1))\n",
    "#         return weight(factor, universe_filter_arr[day])\n",
    "\n",
    "    # Trying paper's approach for ranking\n",
    "    # Take stocks that are in the top quintile of skew and bottom quintile of momentum or in the bottom quintile of skew and top quintile of momentum\n",
    "    factor = np.zeros(len(skew))\n",
    "#     print(skew)\n",
    "#     print(momentum)\n",
    "    for i in range(0, len(skew)):\n",
    "        if((skew[i] >= .8 and momentum[i] <= .2) or (skew[i] <= .2 and momentum[i] >= .8)):\n",
    "            # Long the stock\n",
    "            factor[i] = abs(skew[i] - momentum[i])\n",
    "        else:\n",
    "            factor[i] = 0\n",
    "    # Inverting the factor gives much better returns???\n",
    "    # Did I get something backwards???\n",
    "    return weight(factor, universe_filter_arr[day])"
   ]
  },
  {
   "cell_type": "code",
   "execution_count": null,
   "metadata": {},
   "outputs": [],
   "source": [
    "# The idea is to include returns, change in returns, and change in change in returns as stats to look at \n",
    "def convex_concave(day):\n",
    "    "
   ]
  },
  {
   "cell_type": "code",
   "execution_count": 13,
   "metadata": {},
   "outputs": [],
   "source": [
    "def long_all(day):\n",
    "    all_long = np.zeros(318)\n",
    "    all_long.fill(1/300)\n",
    "    return all_long"
   ]
  },
  {
   "cell_type": "code",
   "execution_count": 34,
   "metadata": {
    "collapsed": true,
    "jupyter": {
     "outputs_hidden": true
    }
   },
   "outputs": [
    {
     "data": {
      "text/plain": [
       "array([ 0.        , -0.00180505, -0.00180505,  0.        ,  0.        ,\n",
       "       -0.00180505, -0.00180505, -0.00180505,  0.        , -0.00180505,\n",
       "       -0.00180505, -0.00180505,  0.        , -0.00180505,  0.        ,\n",
       "       -0.00180505, -0.00180505, -0.00180505,  0.        ,  0.        ,\n",
       "        0.        , -0.00180505, -0.00180505,  0.        , -0.00180505,\n",
       "       -0.00180505, -0.00180505, -0.00180505,  0.02173913, -0.00180505,\n",
       "       -0.00180505, -0.00180505,  0.        , -0.00180505,  0.        ,\n",
       "        0.        ,  0.        , -0.00180505, -0.00180505,  0.        ,\n",
       "       -0.00180505,  0.        ,  0.02173913, -0.00180505, -0.00180505,\n",
       "        0.        , -0.00180505, -0.00180505, -0.00180505,  0.02173913,\n",
       "        0.        , -0.00180505, -0.00180505, -0.00180505, -0.00180505,\n",
       "        0.02173913, -0.00180505, -0.00180505, -0.00180505, -0.00180505,\n",
       "       -0.00180505, -0.00180505, -0.00180505, -0.00180505, -0.00180505,\n",
       "        0.        , -0.00180505,  0.        ,  0.02173913, -0.00180505,\n",
       "        0.        ,  0.        , -0.00180505,  0.        ,  0.        ,\n",
       "       -0.00180505,  0.        , -0.00180505, -0.00180505, -0.00180505,\n",
       "       -0.00180505, -0.00180505, -0.00180505, -0.00180505,  0.02173913,\n",
       "        0.        ,  0.        , -0.00180505,  0.        , -0.00180505,\n",
       "        0.        , -0.00180505,  0.        , -0.00180505,  0.        ,\n",
       "        0.        ,  0.        , -0.00180505,  0.        , -0.00180505,\n",
       "       -0.00180505, -0.00180505,  0.        , -0.00180505, -0.00180505,\n",
       "       -0.00180505, -0.00180505, -0.00180505, -0.00180505, -0.00180505,\n",
       "        0.        , -0.00180505,  0.02173913, -0.00180505, -0.00180505,\n",
       "       -0.00180505, -0.00180505,  0.        , -0.00180505, -0.00180505,\n",
       "       -0.00180505,  0.02173913,  0.        , -0.00180505,  0.        ,\n",
       "       -0.00180505, -0.00180505, -0.00180505, -0.00180505, -0.00180505,\n",
       "        0.        , -0.00180505, -0.00180505,  0.        , -0.00180505,\n",
       "       -0.00180505,  0.        ,  0.        ,  0.        , -0.00180505,\n",
       "       -0.00180505, -0.00180505, -0.00180505,  0.        , -0.00180505,\n",
       "       -0.00180505,  0.        , -0.00180505,  0.        ,  0.        ,\n",
       "       -0.00180505, -0.00180505, -0.00180505, -0.00180505,  0.        ,\n",
       "       -0.00180505, -0.00180505, -0.00180505,  0.        , -0.00180505,\n",
       "       -0.00180505, -0.00180505,  0.        , -0.00180505,  0.        ,\n",
       "        0.        , -0.00180505,  0.02173913,  0.        , -0.00180505,\n",
       "        0.        , -0.00180505, -0.00180505,  0.        ,  0.        ,\n",
       "        0.        , -0.00180505, -0.00180505,  0.        ,  0.        ,\n",
       "       -0.00180505, -0.00180505, -0.00180505,  0.        , -0.00180505,\n",
       "       -0.00180505, -0.00180505, -0.00180505, -0.00180505,  0.        ,\n",
       "       -0.00180505, -0.00180505,  0.        ,  0.        , -0.00180505,\n",
       "       -0.00180505,  0.        , -0.00180505,  0.        , -0.00180505,\n",
       "       -0.00180505, -0.00180505,  0.        , -0.00180505, -0.00180505,\n",
       "        0.        , -0.00180505,  0.        , -0.00180505, -0.00180505,\n",
       "        0.        ,  0.        , -0.00180505,  0.        , -0.00180505,\n",
       "        0.02173913,  0.02173913,  0.        ,  0.        , -0.00180505,\n",
       "       -0.00180505,  0.02173913, -0.00180505, -0.00180505, -0.00180505,\n",
       "        0.        ,  0.02173913, -0.00180505, -0.00180505,  0.        ,\n",
       "       -0.00180505,  0.        , -0.00180505,  0.        , -0.00180505,\n",
       "       -0.00180505,  0.        ,  0.        , -0.00180505, -0.00180505,\n",
       "       -0.00180505, -0.00180505, -0.00180505,  0.        , -0.00180505,\n",
       "        0.        ,  0.        ,  0.        , -0.00180505, -0.00180505,\n",
       "       -0.00180505,  0.        ,  0.        , -0.00180505,  0.        ,\n",
       "        0.        , -0.00180505, -0.00180505,  0.02173913,  0.        ,\n",
       "       -0.00180505,  0.        ,  0.        , -0.00180505, -0.00180505,\n",
       "       -0.00180505, -0.00180505, -0.00180505, -0.00180505,  0.02173913,\n",
       "        0.        , -0.00180505,  0.        , -0.00180505,  0.        ,\n",
       "       -0.00180505,  0.        , -0.00180505, -0.00180505, -0.00180505,\n",
       "       -0.00180505, -0.00180505, -0.00180505, -0.00180505, -0.00180505,\n",
       "        0.        , -0.00180505,  0.        ,  0.02173913,  0.        ,\n",
       "        0.        , -0.00180505, -0.00180505, -0.00180505,  0.        ,\n",
       "       -0.00180505, -0.00180505,  0.        ,  0.        ,  0.        ,\n",
       "        0.        , -0.00180505, -0.00180505, -0.00180505, -0.00180505,\n",
       "        0.        ,  0.        ,  0.        , -0.00180505,  0.        ,\n",
       "        0.        ,  0.        ,  0.        ,  0.        , -0.00180505,\n",
       "       -0.00180505,  0.        , -0.00180505, -0.00180505,  0.        ,\n",
       "       -0.00180505, -0.00180505, -0.00180505, -0.00180505,  0.        ,\n",
       "       -0.00180505, -0.00180505, -0.00180505,  0.        ,  0.        ,\n",
       "        0.        ,  0.        , -0.00180505, -0.00180505, -0.00180505,\n",
       "       -0.00180505, -0.00180505, -0.00180505, -0.00180505,  0.        ,\n",
       "       -0.00180505, -0.00180505,  0.        , -0.00180505,  0.02173913,\n",
       "       -0.00180505,  0.02173913,  0.        ,  0.        , -0.00180505,\n",
       "       -0.00180505,  0.02173913, -0.00180505, -0.00180505,  0.        ,\n",
       "        0.        , -0.00180505, -0.00180505,  0.        ,  0.        ,\n",
       "        0.        ,  0.        ,  0.        ,  0.        , -0.00180505,\n",
       "        0.        , -0.00180505, -0.00180505, -0.00180505, -0.00180505,\n",
       "       -0.00180505, -0.00180505,  0.02173913,  0.        , -0.00180505,\n",
       "        0.02173913, -0.00180505,  0.        ,  0.02173913,  0.        ,\n",
       "        0.        , -0.00180505, -0.00180505, -0.00180505, -0.00180505,\n",
       "        0.        , -0.00180505,  0.        ,  0.        ,  0.        ,\n",
       "       -0.00180505,  0.        ,  0.        , -0.00180505,  0.        ,\n",
       "        0.        ,  0.        , -0.00180505, -0.00180505, -0.00180505,\n",
       "       -0.00180505, -0.00180505,  0.        , -0.00180505, -0.00180505,\n",
       "        0.        , -0.00180505, -0.00180505, -0.00180505, -0.00180505,\n",
       "       -0.00180505,  0.        , -0.00180505, -0.00180505,  0.        ,\n",
       "       -0.00180505,  0.        , -0.00180505, -0.00180505, -0.00180505,\n",
       "       -0.00180505,  0.        , -0.00180505,  0.        , -0.00180505,\n",
       "        0.        , -0.00180505,  0.        , -0.00180505, -0.00180505,\n",
       "        0.        ,  0.        ,  0.        , -0.00180505, -0.00180505,\n",
       "       -0.00180505, -0.00180505, -0.00180505, -0.00180505,  0.        ,\n",
       "       -0.00180505,  0.        ,  0.        , -0.00180505, -0.00180505,\n",
       "       -0.00180505,  0.02173913,  0.        , -0.00180505,  0.        ,\n",
       "       -0.00180505, -0.00180505, -0.00180505, -0.00180505,  0.        ,\n",
       "       -0.00180505,  0.        , -0.00180505,  0.        , -0.00180505,\n",
       "       -0.00180505,  0.        ,  0.        , -0.00180505,  0.        ,\n",
       "        0.        ,  0.        ,  0.        , -0.00180505,  0.        ,\n",
       "       -0.00180505, -0.00180505,  0.        ,  0.        ])"
      ]
     },
     "execution_count": 34,
     "metadata": {},
     "output_type": "execute_result"
    }
   ],
   "source": [
    "skew_momentum_alpha(346)"
   ]
  },
  {
   "cell_type": "code",
   "execution_count": 80,
   "metadata": {},
   "outputs": [
    {
     "ename": "SyntaxError",
     "evalue": "unexpected EOF while parsing (<ipython-input-80-d8fb8771adf2>, line 3)",
     "output_type": "error",
     "traceback": [
      "\u001b[1;36m  File \u001b[1;32m\"<ipython-input-80-d8fb8771adf2>\"\u001b[1;36m, line \u001b[1;32m3\u001b[0m\n\u001b[1;33m    \u001b[0m\n\u001b[1;37m    ^\u001b[0m\n\u001b[1;31mSyntaxError\u001b[0m\u001b[1;31m:\u001b[0m unexpected EOF while parsing\n"
     ]
    }
   ],
   "source": [
    "# Can do something with close to open overnight\n",
    "def overnight(day):\n",
    "    "
   ]
  },
  {
   "cell_type": "markdown",
   "metadata": {},
   "source": [
    "### Some notes from meeting 2/24/2020 to possibly make alphas ### "
   ]
  },
  {
   "cell_type": "markdown",
   "metadata": {},
   "source": [
    " Momentum again from video from 2/24/2020\n",
    " \n",
    " Look at convexity and concavity\n",
    " \n",
    " y = Gain * t + Acc * x^2\n",
    " \n",
    " Accelerated vs decelerated gain\n",
    " \n",
    " Whether coefficients are positive or negative\n",
    " \n",
    " Approximating curves with polynomials"
   ]
  },
  {
   "cell_type": "markdown",
   "metadata": {},
   "source": [
    " Skewness and momentum\n",
    " Skewness as a signal for stocks that are overbrought\n",
    "\n",
    "Proxy for skew, max daily return from past 20 days/ past month (positive skew)\n",
    "    Could also do negative skew with minimum\n",
    "\n",
    "Assume return over trailing year as momentum\n",
    "\n",
    "More strongly positive skew and positive momentum represents weakened momentum\n",
    "\n",
    "Positive momentum and less skew is enhanced momentum\n",
    "\n",
    "Negativee momentum and positive skew is enhanced momentum\n",
    "\n",
    "Negative momenutum and less skew is weakened momentum"
   ]
  },
  {
   "cell_type": "markdown",
   "metadata": {},
   "source": [
    "Ideas for fundamanetal frm Hao\n",
    "   \n",
    "   Rank ( equity/ assets) <-- cross sectional\n",
    "   \n",
    "   ts_rank(-debt/equity, 252 <-- or whatever lookback) <-- ts_info\n",
    "   \n",
    "   abs(eps[day - 1] - eps[day - 2]) > 0 <-- check to see if comany updated financial statements\n",
    "   \n",
    "       Include mean reversion/momentum factor and combine with this to build an alpha"
   ]
  },
  {
   "cell_type": "code",
   "execution_count": 76,
   "metadata": {},
   "outputs": [
    {
     "name": "stdout",
     "output_type": "stream",
     "text": [
      "           return    sharpe   sortino  drawdown  turnover  long count  \\\n",
      "year                                                                    \n",
      "2012     0.049179  1.409011  2.154220 -0.026279  0.728533  142.869565   \n",
      "2013     0.042948  1.712719  2.628185 -0.020426  0.728120  143.055556   \n",
      "2014     0.055016  1.550198  2.499900 -0.033305  0.726374  141.829365   \n",
      "2015     0.038436  0.960367  1.442035 -0.029360  0.745499  141.857143   \n",
      "2016     0.048745  1.054447  1.592487 -0.029889  0.714794  138.191235   \n",
      "Overall  0.229838  1.264418  1.936169 -0.039322  0.729745  141.538772   \n",
      "\n",
      "         short count  \n",
      "year                  \n",
      "2012      156.078261  \n",
      "2013      155.543651  \n",
      "2014      156.000000  \n",
      "2015      154.087302  \n",
      "2016      149.924303  \n",
      "Overall   154.291599  \n"
     ]
    },
    {
     "data": {
      "image/png": "[encoded data removed]",
      "text/plain": [
       "<Figure size 864x576 with 1 Axes>"
      ]
     },
     "metadata": {
      "needs_background": "light"
     },
     "output_type": "display_data"
    }
   ],
   "source": [
    "# run backtest, print the performance table and draw the chart\n",
    "# For skew momentum\n",
    "lookback = 20\n",
    "holdings = metrics.backtest(momentum_alpha, CLOSE.shape[0], universe_size, lookback)\n",
    "daily_returns = metrics.daily_return(holdings[:-1], OPEN[lookback:] )\n",
    "performance = metrics.generate_performance_table(daily_returns, holdings,\n",
    "                                                 dates=all_dates[lookback:-1],\n",
    "                                                tickers=tickers)\n",
    "print(performance)\n",
    "# print(performance['return'].iloc[5])\n",
    "pnl_df = pd.DataFrame(daily_returns.cumsum() * initial_investment,index = data['close'].iloc[lookback:-1].index, columns = ['alpha'])\n",
    "chart = pnl_df.plot(grid=True,figsize=[12,8],linewidth=1,color='darkorange')\n"
   ]
  },
  {
   "cell_type": "code",
   "execution_count": 16,
   "metadata": {},
   "outputs": [],
   "source": [
    "# save backtest result\n",
    "if save_backtest_result == True:\n",
    "    if not os.path.exists(backtest_result_folder):\n",
    "        os.makedirs(backtest_result_folder)\n",
    "    pnl_df.to_csv(backtest_result_folder+'/'+'pnl.csv')\n",
    "    pd.DataFrame(holdings[:-1],index = data['close'].iloc[lookback:-1].index, columns = tickers).to_csv(backtest_result_folder+'/'+'holdings.csv')\n",
    "    chart.get_figure().savefig(backtest_result_folder+'/'+'performance.png')\n",
    "        "
   ]
  },
  {
   "cell_type": "code",
   "execution_count": null,
   "metadata": {},
   "outputs": [],
   "source": []
  }
 ],
 "metadata": {
  "kernelspec": {
   "display_name": "Python 3",
   "language": "python",
   "name": "python3"
  },
  "language_info": {
   "codemirror_mode": {
    "name": "ipython",
    "version": 3
   },
   "file_extension": ".py",
   "mimetype": "text/x-python",
   "name": "python",
   "nbconvert_exporter": "python",
   "pygments_lexer": "ipython3",
   "version": "3.7.3"
  }
 },
 "nbformat": 4,
 "nbformat_minor": 4
}
