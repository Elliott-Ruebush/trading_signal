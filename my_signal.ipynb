{
 "cells": [
  {
   "cell_type": "code",
   "execution_count": 1,
   "metadata": {
    "collapsed": true,
    "jupyter": {
     "outputs_hidden": true,
     "source_hidden": true
    }
   },
   "outputs": [
    {
     "name": "stdout",
     "output_type": "stream",
     "text": [
      "Requirement already satisfied: psycopg2 in c:\\users\\erueb\\anaconda3\\lib\\site-packages (2.8.4)\n"
     ]
    }
   ],
   "source": [
    "!pip install psycopg2"
   ]
  },
  {
   "cell_type": "code",
   "execution_count": 4,
   "metadata": {
    "jupyter": {
     "source_hidden": true
    }
   },
   "outputs": [],
   "source": [
    "import sys\n",
    "sys.path.append('..\\\\sif_research\\\\data_utils')\n",
    "\n",
    "import sif_utils as su\n",
    "import pandas as pd\n",
    "import numpy as np\n",
    "import datetime\n",
    "import matplotlib.pyplot as plt\n",
    "import importlib\n",
    "import seaborn # optional\n",
    "seaborn.set() # optional\n",
    "plt.rcParams['figure.figsize'] = [10, 6] # increase figure size\n",
    "\n",
    "\n",
    "# Adds the research_framework folder to system path so python knows to look their for imports\n",
    "sys.path.append('..\\\\sif_research\\\\research_framework') # CHANGE FOR MAC OS\n",
    "\n",
    "import metrics"
   ]
  },
  {
   "cell_type": "markdown",
   "metadata": {
    "jupyter": {
     "source_hidden": true
    }
   },
   "source": [
    "## Use code from backtest example to load data ##"
   ]
  },
  {
   "cell_type": "code",
   "execution_count": 9,
   "metadata": {
    "jupyter": {
     "source_hidden": true
    }
   },
   "outputs": [],
   "source": [
    "# Global Variables / Research Environment Settings\n",
    "start_date = datetime.datetime(day=3, month=1, year=2012)\n",
    "end_date = datetime.datetime(day=1, month=1, year=2017)\n",
    "days = (end_date - start_date).days\n",
    "\n",
    "# Number of stocks to have in the universe\n",
    "top_N = 100"
   ]
  },
  {
   "cell_type": "code",
   "execution_count": 10,
   "metadata": {
    "jupyter": {
     "source_hidden": true
    }
   },
   "outputs": [],
   "source": [
    "# Grab all tickers in the universe\n",
    "tickers = sorted(su.get_universe_tickers(top_N, start_date, end_date))"
   ]
  },
  {
   "cell_type": "code",
   "execution_count": 11,
   "metadata": {
    "jupyter": {
     "source_hidden": true
    }
   },
   "outputs": [],
   "source": [
    "# Pull data needed for research and store into variables, or however\n",
    "# you want to handle your data.\n",
    "\n",
    "# This is the order of the parameters, once you are comfortable feel free\n",
    "# to not use paramater=foo and just do foo, bar, ...\n",
    "\n",
    "price_attrs = ['open', 'close', 'low', 'high']\n",
    "data = su.get_equity_data(tickers=tickers, start_date=start_date, end_date=end_date,\n",
    "                          attributes=price_attrs)"
   ]
  },
  {
   "cell_type": "code",
   "execution_count": 12,
   "metadata": {
    "jupyter": {
     "source_hidden": true
    }
   },
   "outputs": [],
   "source": [
    "# Convert from dictionary of dataframes to numpy arrays\n",
    "\n",
    "OPEN = data['open'].astype(float).values\n",
    "CLOSE = data['close'].astype(float).values\n",
    "LOW = data['low'].astype(float).values\n",
    "HIGH = data['high'].astype(float).values"
   ]
  },
  {
   "cell_type": "code",
   "execution_count": 13,
   "metadata": {
    "jupyter": {
     "source_hidden": true
    }
   },
   "outputs": [],
   "source": [
    "universe_filter = su.create_universe_filter(top_N, start_date, end_date, tickers, data['close'].index.values)"
   ]
  },
  {
   "cell_type": "code",
   "execution_count": 14,
   "metadata": {
    "jupyter": {
     "source_hidden": true
    }
   },
   "outputs": [],
   "source": [
    "# Fills all the tickers not in the universe at that point with 0\n",
    "FILLED_CLOSE = metrics.fill_nonuniverse(universe_filter.values, CLOSE, fill_val=0)"
   ]
  },
  {
   "cell_type": "markdown",
   "metadata": {
    "jupyter": {
     "source_hidden": true
    }
   },
   "source": [
    "## My strategy going here ##"
   ]
  },
  {
   "cell_type": "code",
   "execution_count": 15,
   "metadata": {
    "jupyter": {
     "source_hidden": true
    }
   },
   "outputs": [],
   "source": [
    "def strategy(day):\n",
    "    \"\"\"\n",
    "    Attempting to implement basic mean reversion strategy\n",
    "    :return: numpy array of shape: 1 x len(Universe) with equity holdings\n",
    "    \"\"\"\n",
    "   "
   ]
  },
  {
   "cell_type": "code",
   "execution_count": 16,
   "metadata": {
    "collapsed": true,
    "jupyter": {
     "outputs_hidden": true,
     "source_hidden": true
    }
   },
   "outputs": [
    {
     "ename": "NameError",
     "evalue": "name 'lookback' is not defined",
     "output_type": "error",
     "traceback": [
      "\u001b[1;31m---------------------------------------------------------------------------\u001b[0m",
      "\u001b[1;31mNameError\u001b[0m                                 Traceback (most recent call last)",
      "\u001b[1;32m<ipython-input-16-decb73e049c9>\u001b[0m in \u001b[0;36m<module>\u001b[1;34m\u001b[0m\n\u001b[0;32m      1\u001b[0m \u001b[1;31m# compute holdings\u001b[0m\u001b[1;33m\u001b[0m\u001b[1;33m\u001b[0m\u001b[1;33m\u001b[0m\u001b[0m\n\u001b[0;32m      2\u001b[0m \u001b[0muniverse_size\u001b[0m \u001b[1;33m=\u001b[0m \u001b[0mlen\u001b[0m\u001b[1;33m(\u001b[0m\u001b[0mtickers\u001b[0m\u001b[1;33m)\u001b[0m\u001b[1;33m\u001b[0m\u001b[1;33m\u001b[0m\u001b[0m\n\u001b[1;32m----> 3\u001b[1;33m \u001b[0mholdings\u001b[0m \u001b[1;33m=\u001b[0m \u001b[0mmetrics\u001b[0m\u001b[1;33m.\u001b[0m\u001b[0mbacktest\u001b[0m\u001b[1;33m(\u001b[0m\u001b[0mstrategy\u001b[0m\u001b[1;33m,\u001b[0m \u001b[0mCLOSE\u001b[0m\u001b[1;33m.\u001b[0m\u001b[0mshape\u001b[0m\u001b[1;33m[\u001b[0m\u001b[1;36m0\u001b[0m\u001b[1;33m]\u001b[0m\u001b[1;33m,\u001b[0m \u001b[0muniverse_size\u001b[0m\u001b[1;33m,\u001b[0m \u001b[0mlookback\u001b[0m\u001b[1;33m)\u001b[0m\u001b[1;33m\u001b[0m\u001b[1;33m\u001b[0m\u001b[0m\n\u001b[0m\u001b[0;32m      4\u001b[0m \u001b[0mprint\u001b[0m\u001b[1;33m(\u001b[0m\u001b[1;34mf'Holdings Shape: {holdings.shape}'\u001b[0m\u001b[1;33m)\u001b[0m\u001b[1;33m\u001b[0m\u001b[1;33m\u001b[0m\u001b[0m\n",
      "\u001b[1;31mNameError\u001b[0m: name 'lookback' is not defined"
     ]
    }
   ],
   "source": [
    "# compute holdings\n",
    "universe_size = len(tickers)\n",
    "holdings = metrics.backtest(strategy, CLOSE.shape[0], universe_size, lookback)\n",
    "print(f'Holdings Shape: {holdings.shape}')"
   ]
  },
  {
   "cell_type": "code",
   "execution_count": null,
   "metadata": {
    "jupyter": {
     "source_hidden": true
    }
   },
   "outputs": [],
   "source": []
  },
  {
   "cell_type": "code",
   "execution_count": null,
   "metadata": {
    "jupyter": {
     "source_hidden": true
    }
   },
   "outputs": [],
   "source": []
  },
  {
   "cell_type": "code",
   "execution_count": null,
   "metadata": {
    "jupyter": {
     "source_hidden": true
    }
   },
   "outputs": [],
   "source": []
  },
  {
   "cell_type": "markdown",
   "metadata": {},
   "source": [
    "## Starting again with stuff from Hao's notebook ##"
   ]
  },
  {
   "cell_type": "code",
   "execution_count": 4,
   "metadata": {},
   "outputs": [
    {
     "name": "stdout",
     "output_type": "stream",
     "text": [
      "Collecting psycopg2\n",
      "  Downloading https://files.pythonhosted.org/packages/1a/85/853f11abfccfd581b099e5ae5f2dd807cc2919745b13d14e565022fd821c/psycopg2-2.8.4-cp37-cp37m-win_amd64.whl (1.1MB)\n",
      "Installing collected packages: psycopg2\n",
      "Successfully installed psycopg2-2.8.4\n"
     ]
    }
   ],
   "source": [
    "!pip install psycopg2"
   ]
  },
  {
   "cell_type": "code",
   "execution_count": 1,
   "metadata": {},
   "outputs": [],
   "source": [
    "import sys\n",
    "import pandas as pd\n",
    "import numpy as np\n",
    "import datetime\n",
    "sys.path.append('..\\\\sif_research\\\\research_framework')\n",
    "import metrics\n",
    "import os\n",
    "from operators import rank, ts_rank, group_rank, weight\n",
    "\n",
    "\n",
    "sys.path.append('..\\\\sif_research\\\\data_utils')\n",
    "\n",
    "import sif_utils as su"
   ]
  },
  {
   "cell_type": "code",
   "execution_count": 15,
   "metadata": {},
   "outputs": [],
   "source": [
    "# Global Variables / Research Environment Settings\n",
    "start_date = datetime.datetime(day=1, month=1, year=2010)\n",
    "end_date = datetime.datetime(day=1, month=1, year=2018)\n",
    "days = (end_date - start_date).days\n",
    "lookback = 20\n",
    "delay = 1\n",
    "top_N = 300\n",
    "initial_investment = 1000\n",
    "save_backtest_result = True\n",
    "backtest_result_folder = './backtest_result'\n",
    "# Get all tickers\n",
    "tickers = sorted(su.get_universe_tickers(top_N, start_date, end_date))"
   ]
  },
  {
   "cell_type": "code",
   "execution_count": 10,
   "metadata": {},
   "outputs": [],
   "source": [
    "# Grab all tickers in the universe and sort them\n",
    "tickers = sorted(su.get_universe_tickers(top_N, start_date, end_date))\n",
    "universe_size = len(tickers)\n",
    "\n",
    "price_attrs = ['open', 'close', 'low', 'high', 'volume']\n",
    "data = su.get_equity_data(tickers=tickers, start_date=start_date,\n",
    "                          end_date=end_date, attributes=price_attrs)\n"
   ]
  },
  {
   "cell_type": "code",
   "execution_count": 11,
   "metadata": {},
   "outputs": [],
   "source": [
    "OPEN = data['open'].astype(float).values\n",
    "CLOSE = data['close'].astype(float).values\n",
    "LOW = data['low'].astype(float).values\n",
    "HIGH = data['high'].astype(float).values\n",
    "VOLUME = data['volume'].astype(float).values\n",
    "\n",
    "# Create universe filter table\n",
    "all_dates = data['close'].index.values\n",
    "universe_filter = su.create_universe_filter(top_N, start_date, end_date, tickers, all_dates)\n",
    "\n",
    "# Grab all tickers in the universe and sort them\n",
    "tickers = sorted(su.get_universe_tickers(top_N, start_date, end_date))\n",
    "universe_size = len(tickers)\n",
    "universe_filter_arr = universe_filter.values"
   ]
  },
  {
   "cell_type": "code",
   "execution_count": 5,
   "metadata": {},
   "outputs": [
    {
     "data": {
      "text/plain": [
       "dict_keys(['open', 'close', 'low', 'high', 'volume'])"
      ]
     },
     "execution_count": 5,
     "metadata": {},
     "output_type": "execute_result"
    }
   ],
   "source": [
    "data.keys()"
   ]
  },
  {
   "cell_type": "code",
   "execution_count": 6,
   "metadata": {},
   "outputs": [],
   "source": [
    "# Hao's example alpha\n",
    "def alpha(day):\n",
    "    # raw factor computed for all tickers (not necesarily the valid universe)\n",
    "    factor = -rank(CLOSE[day - delay] - CLOSE[day - delay - 4])\n",
    "    return weight(factor, universe_filter_arr[day])"
   ]
  },
  {
   "cell_type": "code",
   "execution_count": 7,
   "metadata": {},
   "outputs": [],
   "source": [
    "# See Zura et al. 151 Trading Strategies Section 3.1\n",
    "def momentum_alpha(day):\n",
    "    momentum = rank((CLOSE[day - delay] / CLOSE[day - delay - 30]))\n",
    "    return weight(momentum, universe_filter_arr[day])"
   ]
  },
  {
   "cell_type": "code",
   "execution_count": 17,
   "metadata": {},
   "outputs": [],
   "source": [
    "def skew_momentum_alpha(day):\n",
    "    # Using the max daily return from the past 3 months to represent skew\n",
    "#     print(day)\n",
    "    skew_start = day - delay - 29\n",
    "    skew_end = day\n",
    "#     print(f'Skew start: {skew_start} , skew end: {skew_end}')\n",
    "    daily_rets = CLOSE[skew_start:skew_end] - OPEN[skew_start:skew_end]\n",
    "    \n",
    "    skew = rank(np.amax(daily_rets, axis=0))\n",
    "\n",
    "    # Using return from the past 3 months as momentum\n",
    "    momentum = rank(CLOSE[day - delay] / CLOSE[day - delay - 252])\n",
    "\n",
    "    # We believe that stocks with either high skew and negative momentum OR stocks with low skew and positive momentum are the stocks we want to long\n",
    "    # These stocks are said to have \"enhanced momentum\"\n",
    "    # High skew neg momentum signifies a stock that is currently undervalued?, as in its current pricing represents a negative outlier value and it will revert to the mean\n",
    "    # Low skew pos momentum signifies a stock that is currently performing well and appears to be performing around its average, therefore this stock is a good buy as \n",
    "    #    we expect it to continue on this trend\n",
    "\n",
    "    # Simple and likely nonoptimal way to try to find these stocks with mixed skew/momentum high/low or low/high is to add their ranked arrays together\n",
    "        # Side note, could weight the momentum vs. skew arrays differently to see if that changes anything\n",
    "    # Since the rankings are both equal, (rank assigns a percentile to each ticker), The combination of skew/momentum high/high will be closer to 2 and low/low will be closer to 0, \n",
    "    # so we want middling values\n",
    "\n",
    "    # In a simple effort to address this, we rank the values in the combined array of skew and momentum by each elements absolute difference from 1\n",
    "    # (i.e. -rank by abs diff to ensure that the lowest abs diff is ranked highest)\n",
    "#         combined = skew + momentum\n",
    "#     #     print(combined)\n",
    "#         factor = -rank(abs(combined - 1))\n",
    "#         return weight(factor, universe_filter_arr[day])\n",
    "\n",
    "    # Trying paper's approach for ranking\n",
    "    # Take stocks that are in the top quintile of skew and bottom quintile of momentum or in the bottom quintile of skew and top quintile of momentum\n",
    "    factor = np.zeros(len(skew))\n",
    "#     print(skew)\n",
    "#     print(momentum)\n",
    "    for i in range(0, len(skew)):\n",
    "        if((skew[i] >= .8 and momentum[i] <= .2) or (skew[i] <= .2 and momentum[i] >= .8)):\n",
    "            # Long the stock\n",
    "            factor[i] = 1\n",
    "        else:\n",
    "            factor[i] = 0\n",
    "    # Inverting the factor gives much better returns???\n",
    "    # Did I get something backwards???\n",
    "    return weight(-factor, universe_filter_arr[day])"
   ]
  },
  {
   "cell_type": "code",
   "execution_count": 191,
   "metadata": {},
   "outputs": [],
   "source": [
    "def long_all(day):\n",
    "    all_long = np.zeros(318)\n",
    "    all_long.fill(1/300)\n",
    "    return all_long"
   ]
  },
  {
   "cell_type": "code",
   "execution_count": 192,
   "metadata": {},
   "outputs": [
    {
     "data": {
      "text/plain": [
       "array([0.00333333, 0.00333333, 0.00333333, 0.00333333, 0.00333333,\n",
       "       0.00333333, 0.00333333, 0.00333333, 0.00333333, 0.00333333,\n",
       "       0.00333333, 0.00333333, 0.00333333, 0.00333333, 0.00333333,\n",
       "       0.00333333, 0.00333333, 0.00333333, 0.00333333, 0.00333333,\n",
       "       0.00333333, 0.00333333, 0.00333333, 0.00333333, 0.00333333,\n",
       "       0.00333333, 0.00333333, 0.00333333, 0.00333333, 0.00333333,\n",
       "       0.00333333, 0.00333333, 0.00333333, 0.00333333, 0.00333333,\n",
       "       0.00333333, 0.00333333, 0.00333333, 0.00333333, 0.00333333,\n",
       "       0.00333333, 0.00333333, 0.00333333, 0.00333333, 0.00333333,\n",
       "       0.00333333, 0.00333333, 0.00333333, 0.00333333, 0.00333333,\n",
       "       0.00333333, 0.00333333, 0.00333333, 0.00333333, 0.00333333,\n",
       "       0.00333333, 0.00333333, 0.00333333, 0.00333333, 0.00333333,\n",
       "       0.00333333, 0.00333333, 0.00333333, 0.00333333, 0.00333333,\n",
       "       0.00333333, 0.00333333, 0.00333333, 0.00333333, 0.00333333,\n",
       "       0.00333333, 0.00333333, 0.00333333, 0.00333333, 0.00333333,\n",
       "       0.00333333, 0.00333333, 0.00333333, 0.00333333, 0.00333333,\n",
       "       0.00333333, 0.00333333, 0.00333333, 0.00333333, 0.00333333,\n",
       "       0.00333333, 0.00333333, 0.00333333, 0.00333333, 0.00333333,\n",
       "       0.00333333, 0.00333333, 0.00333333, 0.00333333, 0.00333333,\n",
       "       0.00333333, 0.00333333, 0.00333333, 0.00333333, 0.00333333,\n",
       "       0.00333333, 0.00333333, 0.00333333, 0.00333333, 0.00333333,\n",
       "       0.00333333, 0.00333333, 0.00333333, 0.00333333, 0.00333333,\n",
       "       0.00333333, 0.00333333, 0.00333333, 0.00333333, 0.00333333,\n",
       "       0.00333333, 0.00333333, 0.00333333, 0.00333333, 0.00333333,\n",
       "       0.00333333, 0.00333333, 0.00333333, 0.00333333, 0.00333333,\n",
       "       0.00333333, 0.00333333, 0.00333333, 0.00333333, 0.00333333,\n",
       "       0.00333333, 0.00333333, 0.00333333, 0.00333333, 0.00333333,\n",
       "       0.00333333, 0.00333333, 0.00333333, 0.00333333, 0.00333333,\n",
       "       0.00333333, 0.00333333, 0.00333333, 0.00333333, 0.00333333,\n",
       "       0.00333333, 0.00333333, 0.00333333, 0.00333333, 0.00333333,\n",
       "       0.00333333, 0.00333333, 0.00333333, 0.00333333, 0.00333333,\n",
       "       0.00333333, 0.00333333, 0.00333333, 0.00333333, 0.00333333,\n",
       "       0.00333333, 0.00333333, 0.00333333, 0.00333333, 0.00333333,\n",
       "       0.00333333, 0.00333333, 0.00333333, 0.00333333, 0.00333333,\n",
       "       0.00333333, 0.00333333, 0.00333333, 0.00333333, 0.00333333,\n",
       "       0.00333333, 0.00333333, 0.00333333, 0.00333333, 0.00333333,\n",
       "       0.00333333, 0.00333333, 0.00333333, 0.00333333, 0.00333333,\n",
       "       0.00333333, 0.00333333, 0.00333333, 0.00333333, 0.00333333,\n",
       "       0.00333333, 0.00333333, 0.00333333, 0.00333333, 0.00333333,\n",
       "       0.00333333, 0.00333333, 0.00333333, 0.00333333, 0.00333333,\n",
       "       0.00333333, 0.00333333, 0.00333333, 0.00333333, 0.00333333,\n",
       "       0.00333333, 0.00333333, 0.00333333, 0.00333333, 0.00333333,\n",
       "       0.00333333, 0.00333333, 0.00333333, 0.00333333, 0.00333333,\n",
       "       0.00333333, 0.00333333, 0.00333333, 0.00333333, 0.00333333,\n",
       "       0.00333333, 0.00333333, 0.00333333, 0.00333333, 0.00333333,\n",
       "       0.00333333, 0.00333333, 0.00333333, 0.00333333, 0.00333333,\n",
       "       0.00333333, 0.00333333, 0.00333333, 0.00333333, 0.00333333,\n",
       "       0.00333333, 0.00333333, 0.00333333, 0.00333333, 0.00333333,\n",
       "       0.00333333, 0.00333333, 0.00333333, 0.00333333, 0.00333333,\n",
       "       0.00333333, 0.00333333, 0.00333333, 0.00333333, 0.00333333,\n",
       "       0.00333333, 0.00333333, 0.00333333, 0.00333333, 0.00333333,\n",
       "       0.00333333, 0.00333333, 0.00333333, 0.00333333, 0.00333333,\n",
       "       0.00333333, 0.00333333, 0.00333333, 0.00333333, 0.00333333,\n",
       "       0.00333333, 0.00333333, 0.00333333, 0.00333333, 0.00333333,\n",
       "       0.00333333, 0.00333333, 0.00333333, 0.00333333, 0.00333333,\n",
       "       0.00333333, 0.00333333, 0.00333333, 0.00333333, 0.00333333,\n",
       "       0.00333333, 0.00333333, 0.00333333, 0.00333333, 0.00333333,\n",
       "       0.00333333, 0.00333333, 0.00333333, 0.00333333, 0.00333333,\n",
       "       0.00333333, 0.00333333, 0.00333333, 0.00333333, 0.00333333,\n",
       "       0.00333333, 0.00333333, 0.00333333, 0.00333333, 0.00333333,\n",
       "       0.00333333, 0.00333333, 0.00333333, 0.00333333, 0.00333333,\n",
       "       0.00333333, 0.00333333, 0.00333333, 0.00333333, 0.00333333,\n",
       "       0.00333333, 0.00333333, 0.00333333, 0.00333333, 0.00333333,\n",
       "       0.00333333, 0.00333333, 0.00333333])"
      ]
     },
     "execution_count": 192,
     "metadata": {},
     "output_type": "execute_result"
    }
   ],
   "source": [
    "long_all(346)"
   ]
  },
  {
   "cell_type": "code",
   "execution_count": 80,
   "metadata": {},
   "outputs": [
    {
     "ename": "SyntaxError",
     "evalue": "unexpected EOF while parsing (<ipython-input-80-d8fb8771adf2>, line 3)",
     "output_type": "error",
     "traceback": [
      "\u001b[1;36m  File \u001b[1;32m\"<ipython-input-80-d8fb8771adf2>\"\u001b[1;36m, line \u001b[1;32m3\u001b[0m\n\u001b[1;33m    \u001b[0m\n\u001b[1;37m    ^\u001b[0m\n\u001b[1;31mSyntaxError\u001b[0m\u001b[1;31m:\u001b[0m unexpected EOF while parsing\n"
     ]
    }
   ],
   "source": [
    "# Can do something with close to open overnight\n",
    "def overnight(day):\n",
    "    "
   ]
  },
  {
   "cell_type": "markdown",
   "metadata": {},
   "source": [
    "### Some notes from meeting 2/24/2020 to possibly make alphas ### "
   ]
  },
  {
   "cell_type": "markdown",
   "metadata": {},
   "source": [
    " Momentum again from video from 2/24/2020\n",
    " \n",
    " Look at convexity and concavity\n",
    " \n",
    " y = Gain * t + Acc * x^2\n",
    " \n",
    " Accelerated vs decelerated gain\n",
    " \n",
    " Whether coefficients are positive or negative\n",
    " \n",
    " Approximating curves with polynomials"
   ]
  },
  {
   "cell_type": "markdown",
   "metadata": {},
   "source": [
    " Skewness and momentum\n",
    " Skewness as a signal for stocks that are overbrought\n",
    "\n",
    "Proxy for skew, max daily return from past 20 days/ past month (positive skew)\n",
    "    Could also do negative skew with minimum\n",
    "\n",
    "Assume return over trailing year as momentum\n",
    "\n",
    "More strongly positive skew and positive momentum represents weakened momentum\n",
    "\n",
    "Positive momentum and less skew is enhanced momentum\n",
    "\n",
    "Negativee momentum and positive skew is enhanced momentum\n",
    "\n",
    "Negative momenutum and less skew is weakened momentum"
   ]
  },
  {
   "cell_type": "markdown",
   "metadata": {},
   "source": [
    "Ideas for fundamanetal frm Hao\n",
    "   \n",
    "   Rank ( equity/ assets) <-- cross sectional\n",
    "   \n",
    "   ts_rank(-debt/equity, 252 <-- or whatever lookback) <-- ts_info\n",
    "   \n",
    "   abs(eps[day - 1] - eps[day - 2]) > 0 <-- check to see if comany updated financial statements\n",
    "   \n",
    "       Include mean reversion/momentum factor and combine with this to build an alpha"
   ]
  },
  {
   "cell_type": "code",
   "execution_count": 18,
   "metadata": {},
   "outputs": [
    {
     "ename": "ValueError",
     "evalue": "Length mismatch: Expected axis has 526 elements, new values have 517 elements",
     "output_type": "error",
     "traceback": [
      "\u001b[1;31m---------------------------------------------------------------------------\u001b[0m",
      "\u001b[1;31mValueError\u001b[0m                                Traceback (most recent call last)",
      "\u001b[1;32m<ipython-input-18-47d16d1bb148>\u001b[0m in \u001b[0;36m<module>\u001b[1;34m\u001b[0m\n\u001b[0;32m      6\u001b[0m performance = metrics.generate_performance_table(daily_returns, holdings,\n\u001b[0;32m      7\u001b[0m                                                  \u001b[0mdates\u001b[0m\u001b[1;33m=\u001b[0m\u001b[0mall_dates\u001b[0m\u001b[1;33m[\u001b[0m\u001b[0mlookback\u001b[0m\u001b[1;33m:\u001b[0m\u001b[1;33m-\u001b[0m\u001b[1;36m1\u001b[0m\u001b[1;33m]\u001b[0m\u001b[1;33m,\u001b[0m\u001b[1;33m\u001b[0m\u001b[1;33m\u001b[0m\u001b[0m\n\u001b[1;32m----> 8\u001b[1;33m                                                 tickers=tickers)\n\u001b[0m\u001b[0;32m      9\u001b[0m \u001b[0mprint\u001b[0m\u001b[1;33m(\u001b[0m\u001b[0mperformance\u001b[0m\u001b[1;33m)\u001b[0m\u001b[1;33m\u001b[0m\u001b[1;33m\u001b[0m\u001b[0m\n\u001b[0;32m     10\u001b[0m \u001b[0mpnl_df\u001b[0m \u001b[1;33m=\u001b[0m \u001b[0mpd\u001b[0m\u001b[1;33m.\u001b[0m\u001b[0mDataFrame\u001b[0m\u001b[1;33m(\u001b[0m\u001b[0mdaily_returns\u001b[0m\u001b[1;33m.\u001b[0m\u001b[0mcumsum\u001b[0m\u001b[1;33m(\u001b[0m\u001b[1;33m)\u001b[0m \u001b[1;33m*\u001b[0m \u001b[0minitial_investment\u001b[0m\u001b[1;33m,\u001b[0m\u001b[0mindex\u001b[0m \u001b[1;33m=\u001b[0m \u001b[0mdata\u001b[0m\u001b[1;33m[\u001b[0m\u001b[1;34m'close'\u001b[0m\u001b[1;33m]\u001b[0m\u001b[1;33m.\u001b[0m\u001b[0miloc\u001b[0m\u001b[1;33m[\u001b[0m\u001b[0mlookback\u001b[0m\u001b[1;33m:\u001b[0m\u001b[1;33m-\u001b[0m\u001b[1;36m1\u001b[0m\u001b[1;33m]\u001b[0m\u001b[1;33m.\u001b[0m\u001b[0mindex\u001b[0m\u001b[1;33m,\u001b[0m \u001b[0mcolumns\u001b[0m \u001b[1;33m=\u001b[0m \u001b[1;33m[\u001b[0m\u001b[1;34m'alpha'\u001b[0m\u001b[1;33m]\u001b[0m\u001b[1;33m)\u001b[0m\u001b[1;33m\u001b[0m\u001b[1;33m\u001b[0m\u001b[0m\n",
      "\u001b[1;32m~\\dev\\SIF\\sif_research\\research_framework\\metrics.py\u001b[0m in \u001b[0;36mgenerate_performance_table\u001b[1;34m(daily_returns, holdings, dates, tickers)\u001b[0m\n\u001b[0;32m    322\u001b[0m     \u001b[0mholdings_df\u001b[0m \u001b[1;33m=\u001b[0m \u001b[0mpd\u001b[0m\u001b[1;33m.\u001b[0m\u001b[0mDataFrame\u001b[0m\u001b[1;33m(\u001b[0m\u001b[0mholdings\u001b[0m\u001b[1;33m)\u001b[0m\u001b[1;33m\u001b[0m\u001b[1;33m\u001b[0m\u001b[0m\n\u001b[0;32m    323\u001b[0m     \u001b[1;32mif\u001b[0m \u001b[0mtickers\u001b[0m\u001b[1;33m:\u001b[0m\u001b[1;33m\u001b[0m\u001b[1;33m\u001b[0m\u001b[0m\n\u001b[1;32m--> 324\u001b[1;33m         \u001b[0mholdings_df\u001b[0m\u001b[1;33m.\u001b[0m\u001b[0mcolumns\u001b[0m \u001b[1;33m=\u001b[0m \u001b[0mtickers\u001b[0m\u001b[1;33m\u001b[0m\u001b[1;33m\u001b[0m\u001b[0m\n\u001b[0m\u001b[0;32m    325\u001b[0m \u001b[1;33m\u001b[0m\u001b[0m\n\u001b[0;32m    326\u001b[0m     \u001b[0mholdings_df\u001b[0m\u001b[1;33m[\u001b[0m\u001b[1;34m'date'\u001b[0m\u001b[1;33m]\u001b[0m \u001b[1;33m=\u001b[0m \u001b[0mreturns_df\u001b[0m\u001b[1;33m[\u001b[0m\u001b[1;34m'date'\u001b[0m\u001b[1;33m]\u001b[0m\u001b[1;33m\u001b[0m\u001b[1;33m\u001b[0m\u001b[0m\n",
      "\u001b[1;32m~\\Anaconda3\\lib\\site-packages\\pandas\\core\\generic.py\u001b[0m in \u001b[0;36m__setattr__\u001b[1;34m(self, name, value)\u001b[0m\n\u001b[0;32m   5078\u001b[0m         \u001b[1;32mtry\u001b[0m\u001b[1;33m:\u001b[0m\u001b[1;33m\u001b[0m\u001b[1;33m\u001b[0m\u001b[0m\n\u001b[0;32m   5079\u001b[0m             \u001b[0mobject\u001b[0m\u001b[1;33m.\u001b[0m\u001b[0m__getattribute__\u001b[0m\u001b[1;33m(\u001b[0m\u001b[0mself\u001b[0m\u001b[1;33m,\u001b[0m \u001b[0mname\u001b[0m\u001b[1;33m)\u001b[0m\u001b[1;33m\u001b[0m\u001b[1;33m\u001b[0m\u001b[0m\n\u001b[1;32m-> 5080\u001b[1;33m             \u001b[1;32mreturn\u001b[0m \u001b[0mobject\u001b[0m\u001b[1;33m.\u001b[0m\u001b[0m__setattr__\u001b[0m\u001b[1;33m(\u001b[0m\u001b[0mself\u001b[0m\u001b[1;33m,\u001b[0m \u001b[0mname\u001b[0m\u001b[1;33m,\u001b[0m \u001b[0mvalue\u001b[0m\u001b[1;33m)\u001b[0m\u001b[1;33m\u001b[0m\u001b[1;33m\u001b[0m\u001b[0m\n\u001b[0m\u001b[0;32m   5081\u001b[0m         \u001b[1;32mexcept\u001b[0m \u001b[0mAttributeError\u001b[0m\u001b[1;33m:\u001b[0m\u001b[1;33m\u001b[0m\u001b[1;33m\u001b[0m\u001b[0m\n\u001b[0;32m   5082\u001b[0m             \u001b[1;32mpass\u001b[0m\u001b[1;33m\u001b[0m\u001b[1;33m\u001b[0m\u001b[0m\n",
      "\u001b[1;32mpandas/_libs/properties.pyx\u001b[0m in \u001b[0;36mpandas._libs.properties.AxisProperty.__set__\u001b[1;34m()\u001b[0m\n",
      "\u001b[1;32m~\\Anaconda3\\lib\\site-packages\\pandas\\core\\generic.py\u001b[0m in \u001b[0;36m_set_axis\u001b[1;34m(self, axis, labels)\u001b[0m\n\u001b[0;32m    636\u001b[0m \u001b[1;33m\u001b[0m\u001b[0m\n\u001b[0;32m    637\u001b[0m     \u001b[1;32mdef\u001b[0m \u001b[0m_set_axis\u001b[0m\u001b[1;33m(\u001b[0m\u001b[0mself\u001b[0m\u001b[1;33m,\u001b[0m \u001b[0maxis\u001b[0m\u001b[1;33m,\u001b[0m \u001b[0mlabels\u001b[0m\u001b[1;33m)\u001b[0m\u001b[1;33m:\u001b[0m\u001b[1;33m\u001b[0m\u001b[1;33m\u001b[0m\u001b[0m\n\u001b[1;32m--> 638\u001b[1;33m         \u001b[0mself\u001b[0m\u001b[1;33m.\u001b[0m\u001b[0m_data\u001b[0m\u001b[1;33m.\u001b[0m\u001b[0mset_axis\u001b[0m\u001b[1;33m(\u001b[0m\u001b[0maxis\u001b[0m\u001b[1;33m,\u001b[0m \u001b[0mlabels\u001b[0m\u001b[1;33m)\u001b[0m\u001b[1;33m\u001b[0m\u001b[1;33m\u001b[0m\u001b[0m\n\u001b[0m\u001b[0;32m    639\u001b[0m         \u001b[0mself\u001b[0m\u001b[1;33m.\u001b[0m\u001b[0m_clear_item_cache\u001b[0m\u001b[1;33m(\u001b[0m\u001b[1;33m)\u001b[0m\u001b[1;33m\u001b[0m\u001b[1;33m\u001b[0m\u001b[0m\n\u001b[0;32m    640\u001b[0m \u001b[1;33m\u001b[0m\u001b[0m\n",
      "\u001b[1;32m~\\Anaconda3\\lib\\site-packages\\pandas\\core\\internals\\managers.py\u001b[0m in \u001b[0;36mset_axis\u001b[1;34m(self, axis, new_labels)\u001b[0m\n\u001b[0;32m    153\u001b[0m             raise ValueError(\n\u001b[0;32m    154\u001b[0m                 \u001b[1;34m'Length mismatch: Expected axis has {old} elements, new '\u001b[0m\u001b[1;33m\u001b[0m\u001b[1;33m\u001b[0m\u001b[0m\n\u001b[1;32m--> 155\u001b[1;33m                 'values have {new} elements'.format(old=old_len, new=new_len))\n\u001b[0m\u001b[0;32m    156\u001b[0m \u001b[1;33m\u001b[0m\u001b[0m\n\u001b[0;32m    157\u001b[0m         \u001b[0mself\u001b[0m\u001b[1;33m.\u001b[0m\u001b[0maxes\u001b[0m\u001b[1;33m[\u001b[0m\u001b[0maxis\u001b[0m\u001b[1;33m]\u001b[0m \u001b[1;33m=\u001b[0m \u001b[0mnew_labels\u001b[0m\u001b[1;33m\u001b[0m\u001b[1;33m\u001b[0m\u001b[0m\n",
      "\u001b[1;31mValueError\u001b[0m: Length mismatch: Expected axis has 526 elements, new values have 517 elements"
     ]
    }
   ],
   "source": [
    "# run backtest, print the performance table and draw the chart\n",
    "# For skew momentum\n",
    "lookback = 252\n",
    "holdings = metrics.backtest(skew_momentum_alpha, CLOSE.shape[0], universe_size, lookback)\n",
    "daily_returns = metrics.daily_return(holdings[:-1], OPEN[lookback:] )\n",
    "performance = metrics.generate_performance_table(daily_returns, holdings,\n",
    "                                                 dates=all_dates[lookback:-1],\n",
    "                                                tickers=tickers)\n",
    "print(performance)\n",
    "pnl_df = pd.DataFrame(daily_returns.cumsum() * initial_investment,index = data['close'].iloc[lookback:-1].index, columns = ['alpha'])\n",
    "chart = pnl_df.plot(grid=True,figsize=[12,8],linewidth=1,color='darkorange')\n"
   ]
  },
  {
   "cell_type": "code",
   "execution_count": null,
   "metadata": {},
   "outputs": [],
   "source": [
    "# save backtest result\n",
    "if save_backtest_result == True:\n",
    "    if not os.path.exists(backtest_result_folder):\n",
    "        os.makedirs(backtest_result_folder)\n",
    "    pnl_df.to_csv(backtest_result_folder+'/'+'pnl.csv')\n",
    "    pd.DataFrame(holdings[:-1],index = data['close'].iloc[lookback:-1].index, columns = tickers).to_csv(backtest_result_folder+'/'+'holdings.csv')\n",
    "    chart.get_figure().savefig(backtest_result_folder+'/'+'performance.png')\n",
    "        "
   ]
  }
 ],
 "metadata": {
  "kernelspec": {
   "display_name": "Python 3",
   "language": "python",
   "name": "python3"
  },
  "language_info": {
   "codemirror_mode": {
    "name": "ipython",
    "version": 3
   },
   "file_extension": ".py",
   "mimetype": "text/x-python",
   "name": "python",
   "nbconvert_exporter": "python",
   "pygments_lexer": "ipython3",
   "version": "3.7.3"
  }
 },
 "nbformat": 4,
 "nbformat_minor": 4
}
